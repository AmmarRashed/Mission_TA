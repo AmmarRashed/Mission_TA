{
 "cells": [
  {
   "cell_type": "code",
   "execution_count": 1,
   "metadata": {},
   "outputs": [],
   "source": [
    "import ibmos2spark\n",
    "\n",
    "## HIDDEN CREDENTIALS\n",
    "\n",
    "from pyspark.sql import SparkSession\n",
    "spark = SparkSession.builder.getOrCreate()\n",
    "# Please read the documentation of PySpark to learn more about the possibilities to load data files.\n",
    "# PySpark documentation: https://spark.apache.org/docs/2.0.1/api/python/pyspark.sql.html#pyspark.sql.SparkSession\n",
    "# The SparkSession object is already initialized for you.\n",
    "# The following variable contains the path to your file on your IBM Cloud Object Storage.\n",
    "hello_file = cos.url('hello.txt', 'cs340spring20184b12f92a8d204278af3959660617b691')\n"
   ]
  },
  {
   "cell_type": "code",
   "execution_count": 2,
   "metadata": {},
   "outputs": [],
   "source": [
    "rdd = sc.textFile(hello_file)"
   ]
  },
  {
   "cell_type": "code",
   "execution_count": 3,
   "metadata": {},
   "outputs": [
    {
     "data": {
      "text/plain": [
       "['hello', 'world', 'I', 'am', 'ahmed']"
      ]
     },
     "execution_count": 3,
     "metadata": {},
     "output_type": "execute_result"
    }
   ],
   "source": [
    "rdd.collect()"
   ]
  },
  {
   "cell_type": "code",
   "execution_count": 4,
   "metadata": {},
   "outputs": [
    {
     "data": {
      "text/plain": [
       "5"
      ]
     },
     "execution_count": 4,
     "metadata": {},
     "output_type": "execute_result"
    }
   ],
   "source": [
    "rdd.count()"
   ]
  },
  {
   "cell_type": "code",
   "execution_count": 5,
   "metadata": {},
   "outputs": [],
   "source": [
    "s = \"heloo\""
   ]
  },
  {
   "cell_type": "code",
   "execution_count": 6,
   "metadata": {},
   "outputs": [
    {
     "data": {
      "text/plain": [
       "('hello', 1, 'world', 0, 'I', 0, 'am', 0, 'ahmed', 1)"
      ]
     },
     "execution_count": 6,
     "metadata": {},
     "output_type": "execute_result"
    }
   ],
   "source": [
    "rdd.map(lambda x: (x, len(x)-len(x.replace(\"h\",\"\")))).reduce(lambda x,y : x+y)"
   ]
  },
  {
   "cell_type": "markdown",
   "metadata": {},
   "source": [
    "# Let's get started!"
   ]
  },
  {
   "cell_type": "code",
   "execution_count": 7,
   "metadata": {},
   "outputs": [
    {
     "data": {
      "text/plain": [
       "[Row(id='1', book_id='2767052', best_book_id='2767052', work_id='2792775', books_count='272', isbn='439023483', isbn13='9.78043902348e+12', authors='Suzanne Collins', original_publication_year='2008.0', original_title='The Hunger Games', title='The Hunger Games (The Hunger Games, #1)', language_code='eng', average_rating='4.34', ratings_count='4780653', work_ratings_count='4942365', work_text_reviews_count='155254', ratings_1='66715', ratings_2='127936', ratings_3='560092', ratings_4='1481305', ratings_5='2706317', image_url='https://images.gr-assets.com/books/1447303603m/2767052.jpg', small_image_url='https://images.gr-assets.com/books/1447303603s/2767052.jpg'),\n",
       " Row(id='2', book_id='3', best_book_id='3', work_id='4640799', books_count='491', isbn='439554934', isbn13='9.78043955493e+12', authors='J.K. Rowling, Mary GrandPré', original_publication_year='1997.0', original_title=\"Harry Potter and the Philosopher's Stone\", title=\"Harry Potter and the Sorcerer's Stone (Harry Potter, #1)\", language_code='eng', average_rating='4.44', ratings_count='4602479', work_ratings_count='4800065', work_text_reviews_count='75867', ratings_1='75504', ratings_2='101676', ratings_3='455024', ratings_4='1156318', ratings_5='3011543', image_url='https://images.gr-assets.com/books/1474154022m/3.jpg', small_image_url='https://images.gr-assets.com/books/1474154022s/3.jpg'),\n",
       " Row(id='3', book_id='41865', best_book_id='41865', work_id='3212258', books_count='226', isbn='316015849', isbn13='9.78031601584e+12', authors='Stephenie Meyer', original_publication_year='2005.0', original_title='Twilight', title='Twilight (Twilight, #1)', language_code='en-US', average_rating='3.57', ratings_count='3866839', work_ratings_count='3916824', work_text_reviews_count='95009', ratings_1='456191', ratings_2='436802', ratings_3='793319', ratings_4='875073', ratings_5='1355439', image_url='https://images.gr-assets.com/books/1361039443m/41865.jpg', small_image_url='https://images.gr-assets.com/books/1361039443s/41865.jpg'),\n",
       " Row(id='4', book_id='2657', best_book_id='2657', work_id='3275794', books_count='487', isbn='61120081', isbn13='9.78006112008e+12', authors='Harper Lee', original_publication_year='1960.0', original_title='To Kill a Mockingbird', title='To Kill a Mockingbird', language_code='eng', average_rating='4.25', ratings_count='3198671', work_ratings_count='3340896', work_text_reviews_count='72586', ratings_1='60427', ratings_2='117415', ratings_3='446835', ratings_4='1001952', ratings_5='1714267', image_url='https://images.gr-assets.com/books/1361975680m/2657.jpg', small_image_url='https://images.gr-assets.com/books/1361975680s/2657.jpg'),\n",
       " Row(id='5', book_id='4671', best_book_id='4671', work_id='245494', books_count='1356', isbn='743273567', isbn13='9.78074327356e+12', authors='F. Scott Fitzgerald', original_publication_year='1925.0', original_title='The Great Gatsby', title='The Great Gatsby', language_code='eng', average_rating='3.89', ratings_count='2683664', work_ratings_count='2773745', work_text_reviews_count='51992', ratings_1='86236', ratings_2='197621', ratings_3='606158', ratings_4='936012', ratings_5='947718', image_url='https://images.gr-assets.com/books/1490528560m/4671.jpg', small_image_url='https://images.gr-assets.com/books/1490528560s/4671.jpg')]"
      ]
     },
     "execution_count": 7,
     "metadata": {},
     "output_type": "execute_result"
    }
   ],
   "source": [
    "books = spark.read\\\n",
    "  .format('org.apache.spark.sql.execution.datasources.csv.CSVFileFormat')\\\n",
    "  .option('header', 'true')\\\n",
    "  .load(cos.url('books.csv', 'cs340spring20184b12f92a8d204278af3959660617b691'))\n",
    "books.take(5)\n"
   ]
  },
  {
   "cell_type": "code",
   "execution_count": 8,
   "metadata": {},
   "outputs": [
    {
     "name": "stdout",
     "output_type": "stream",
     "text": [
      "+---+--------+------------+--------+-----------+----------+-----------------+--------------------+-------------------------+--------------------+--------------------+-------------+--------------+-------------+------------------+-----------------------+---------+---------+---------+---------+---------+--------------------+--------------------+\n",
      "| id| book_id|best_book_id| work_id|books_count|      isbn|           isbn13|             authors|original_publication_year|      original_title|               title|language_code|average_rating|ratings_count|work_ratings_count|work_text_reviews_count|ratings_1|ratings_2|ratings_3|ratings_4|ratings_5|           image_url|     small_image_url|\n",
      "+---+--------+------------+--------+-----------+----------+-----------------+--------------------+-------------------------+--------------------+--------------------+-------------+--------------+-------------+------------------+-----------------------+---------+---------+---------+---------+---------+--------------------+--------------------+\n",
      "|  1| 2767052|     2767052| 2792775|        272| 439023483|9.78043902348e+12|     Suzanne Collins|                   2008.0|    The Hunger Games|The Hunger Games ...|          eng|          4.34|      4780653|           4942365|                 155254|    66715|   127936|   560092|  1481305|  2706317|https://images.gr...|https://images.gr...|\n",
      "|  2|       3|           3| 4640799|        491| 439554934|9.78043955493e+12|J.K. Rowling, Mar...|                   1997.0|Harry Potter and ...|Harry Potter and ...|          eng|          4.44|      4602479|           4800065|                  75867|    75504|   101676|   455024|  1156318|  3011543|https://images.gr...|https://images.gr...|\n",
      "|  3|   41865|       41865| 3212258|        226| 316015849|9.78031601584e+12|     Stephenie Meyer|                   2005.0|            Twilight|Twilight (Twiligh...|        en-US|          3.57|      3866839|           3916824|                  95009|   456191|   436802|   793319|   875073|  1355439|https://images.gr...|https://images.gr...|\n",
      "|  4|    2657|        2657| 3275794|        487|  61120081|9.78006112008e+12|          Harper Lee|                   1960.0|To Kill a Mocking...|To Kill a Mocking...|          eng|          4.25|      3198671|           3340896|                  72586|    60427|   117415|   446835|  1001952|  1714267|https://images.gr...|https://images.gr...|\n",
      "|  5|    4671|        4671|  245494|       1356| 743273567|9.78074327356e+12| F. Scott Fitzgerald|                   1925.0|    The Great Gatsby|    The Great Gatsby|          eng|          3.89|      2683664|           2773745|                  51992|    86236|   197621|   606158|   936012|   947718|https://images.gr...|https://images.gr...|\n",
      "|  6|11870085|    11870085|16827462|        226| 525478817|9.78052547881e+12|          John Green|                   2012.0|The Fault in Our ...|The Fault in Our ...|          eng|          4.26|      2346404|           2478609|                 140739|    47994|    92723|   327550|   698471|  1311871|https://images.gr...|https://images.gr...|\n",
      "|  7|    5907|        5907| 1540236|        969| 618260307| 9.7806182603e+12|      J.R.R. Tolkien|                   1937.0|The Hobbit or The...|          The Hobbit|        en-US|          4.25|      2071616|           2196809|                  37653|    46023|    76784|   288649|   665635|  1119718|https://images.gr...|https://images.gr...|\n",
      "|  8|    5107|        5107| 3036731|        360| 316769177|9.78031676917e+12|       J.D. Salinger|                   1951.0|The Catcher in th...|The Catcher in th...|          eng|          3.79|      2044241|           2120637|                  44920|   109383|   185520|   455042|   661516|   709176|https://images.gr...|https://images.gr...|\n",
      "|  9|     960|         960| 3338963|        311|1416524797|9.78141652479e+12|           Dan Brown|                   2000.0|    Angels & Demons |Angels & Demons  ...|        en-CA|          3.85|      2001311|           2078754|                  25112|    77841|   145740|   458429|   716569|   680175|https://images.gr...|https://images.gr...|\n",
      "| 10|    1885|        1885| 3060926|       3455| 679783261|9.78067978327e+12|         Jane Austen|                   1813.0| Pride and Prejudice| Pride and Prejudice|          eng|          4.24|      2035490|           2191465|                  49152|    54700|    86485|   284852|   609755|  1155673|https://images.gr...|https://images.gr...|\n",
      "| 11|   77203|       77203| 3295919|        283|1594480001|   9.78159448e+12|     Khaled Hosseini|                   2003.0|    The Kite Runner |     The Kite Runner|          eng|          4.26|      1813044|           1878095|                  59730|    34288|    59980|   226062|   628174|   929591|https://images.gr...|https://images.gr...|\n",
      "| 12|13335037|    13335037|13155899|        210|  62024035|9.78006202404e+12|       Veronica Roth|                   2011.0|           Divergent|Divergent (Diverg...|          eng|          4.24|      1903563|           2216814|                 101023|    36315|    82870|   310297|   673028|  1114304|https://images.gr...|https://images.gr...|\n",
      "| 13|    5470|        5470|  153313|        995| 451524934|9.78045152494e+12|George Orwell, Er...|                   1949.0|Nineteen Eighty-Four|                1984|          eng|          4.14|      1956832|           2053394|                  45518|    41845|    86425|   324874|   692021|   908229|https://images.gr...|https://images.gr...|\n",
      "| 14|    7613|        7613| 2207778|        896| 452284244|9.78045228424e+12|       George Orwell|                   1945.0|Animal Farm: A Fa...|         Animal Farm|          eng|          3.87|      1881700|           1982987|                  35472|    66854|   135147|   433432|   698642|   648912|https://images.gr...|https://images.gr...|\n",
      "| 15|   48855|       48855| 3532896|        710| 553296981|9.78055329698e+12|Anne Frank, Elean...|                   1947.0|Het Achterhuis: D...|The Diary of a Yo...|          eng|           4.1|      1972666|           2024493|                  20825|    45225|    91270|   355756|   656870|   875372|https://images.gr...|https://images.gr...|\n",
      "| 16| 2429135|     2429135| 1708725|        274| 307269752|9.78030726975e+12|Stieg Larsson, Re...|                   2005.0|Män som hatar kvi...|The Girl with the...|          eng|          4.11|      1808403|           1929834|                  62543|    54835|    86051|   285413|   667485|   836050|https://images.gr...|https://images.gr...|\n",
      "| 17| 6148028|     6148028| 6171458|        201| 439023491| 9.7804390235e+12|     Suzanne Collins|                   2009.0|       Catching Fire|Catching Fire (Th...|          eng|           4.3|      1831039|           1988079|                  88538|    10492|    48030|   262010|   687238|   980309|https://images.gr...|https://images.gr...|\n",
      "| 18|       5|           5| 2402163|        376|043965548X|9.78043965548e+12|J.K. Rowling, Mar...|                   1999.0|Harry Potter and ...|Harry Potter and ...|          eng|          4.53|      1832823|           1969375|                  36099|     6716|    20413|   166129|   509447|  1266670|https://images.gr...|https://images.gr...|\n",
      "| 19|      34|          34| 3204327|        566| 618346252|9.78061834626e+12|      J.R.R. Tolkien|                   1954.0| The Fellowship o...|The Fellowship of...|          eng|          4.34|      1766803|           1832541|                  15333|    38031|    55862|   202332|   493922|  1042394|https://images.gr...|https://images.gr...|\n",
      "| 20| 7260188|     7260188| 8812783|        239| 439023513|9.78043902351e+12|     Suzanne Collins|                   2010.0|          Mockingjay|Mockingjay (The H...|          eng|          4.03|      1719760|           1870748|                  96274|    30144|   110498|   373060|   618271|   738775|https://images.gr...|https://images.gr...|\n",
      "+---+--------+------------+--------+-----------+----------+-----------------+--------------------+-------------------------+--------------------+--------------------+-------------+--------------+-------------+------------------+-----------------------+---------+---------+---------+---------+---------+--------------------+--------------------+\n",
      "only showing top 20 rows\n",
      "\n"
     ]
    }
   ],
   "source": [
    "books.show()"
   ]
  },
  {
   "cell_type": "code",
   "execution_count": 9,
   "metadata": {},
   "outputs": [
    {
     "data": {
      "text/plain": [
       "['id',\n",
       " 'book_id',\n",
       " 'best_book_id',\n",
       " 'work_id',\n",
       " 'books_count',\n",
       " 'isbn',\n",
       " 'isbn13',\n",
       " 'authors',\n",
       " 'original_publication_year',\n",
       " 'original_title',\n",
       " 'title',\n",
       " 'language_code',\n",
       " 'average_rating',\n",
       " 'ratings_count',\n",
       " 'work_ratings_count',\n",
       " 'work_text_reviews_count',\n",
       " 'ratings_1',\n",
       " 'ratings_2',\n",
       " 'ratings_3',\n",
       " 'ratings_4',\n",
       " 'ratings_5',\n",
       " 'image_url',\n",
       " 'small_image_url']"
      ]
     },
     "execution_count": 9,
     "metadata": {},
     "output_type": "execute_result"
    }
   ],
   "source": [
    "books.columns"
   ]
  },
  {
   "cell_type": "code",
   "execution_count": 10,
   "metadata": {},
   "outputs": [
    {
     "name": "stdout",
     "output_type": "stream",
     "text": [
      "+---+--------+----------+--------------------+-------------+--------------+\n",
      "| id| book_id|      isbn|      original_title|language_code|average_rating|\n",
      "+---+--------+----------+--------------------+-------------+--------------+\n",
      "|  1| 2767052| 439023483|    The Hunger Games|          eng|          4.34|\n",
      "|  2|       3| 439554934|Harry Potter and ...|          eng|          4.44|\n",
      "|  3|   41865| 316015849|            Twilight|        en-US|          3.57|\n",
      "|  4|    2657|  61120081|To Kill a Mocking...|          eng|          4.25|\n",
      "|  5|    4671| 743273567|    The Great Gatsby|          eng|          3.89|\n",
      "|  6|11870085| 525478817|The Fault in Our ...|          eng|          4.26|\n",
      "|  7|    5907| 618260307|The Hobbit or The...|        en-US|          4.25|\n",
      "|  8|    5107| 316769177|The Catcher in th...|          eng|          3.79|\n",
      "|  9|     960|1416524797|    Angels & Demons |        en-CA|          3.85|\n",
      "| 10|    1885| 679783261| Pride and Prejudice|          eng|          4.24|\n",
      "| 11|   77203|1594480001|    The Kite Runner |          eng|          4.26|\n",
      "| 12|13335037|  62024035|           Divergent|          eng|          4.24|\n",
      "| 13|    5470| 451524934|Nineteen Eighty-Four|          eng|          4.14|\n",
      "| 14|    7613| 452284244|Animal Farm: A Fa...|          eng|          3.87|\n",
      "| 15|   48855| 553296981|Het Achterhuis: D...|          eng|           4.1|\n",
      "| 16| 2429135| 307269752|Män som hatar kvi...|          eng|          4.11|\n",
      "| 17| 6148028| 439023491|       Catching Fire|          eng|           4.3|\n",
      "| 18|       5|043965548X|Harry Potter and ...|          eng|          4.53|\n",
      "| 19|      34| 618346252| The Fellowship o...|          eng|          4.34|\n",
      "| 20| 7260188| 439023513|          Mockingjay|          eng|          4.03|\n",
      "+---+--------+----------+--------------------+-------------+--------------+\n",
      "only showing top 20 rows\n",
      "\n"
     ]
    }
   ],
   "source": [
    "books.select([\"id\",\"book_id\",\"isbn\",\"original_title\",\"language_code\",\"average_rating\"]).show()"
   ]
  },
  {
   "cell_type": "markdown",
   "metadata": {},
   "source": [
    "# Let's get the average rating per tag"
   ]
  },
  {
   "cell_type": "code",
   "execution_count": 11,
   "metadata": {},
   "outputs": [
    {
     "data": {
      "text/plain": [
       "['goodreads_book_id', 'tag_id', 'count']"
      ]
     },
     "execution_count": 11,
     "metadata": {},
     "output_type": "execute_result"
    }
   ],
   "source": [
    "book_tags = spark.read\\\n",
    "  .format('org.apache.spark.sql.execution.datasources.csv.CSVFileFormat')\\\n",
    "  .option('header', 'true')\\\n",
    "  .load(cos.url('book_tags.csv', 'cs340spring20184b12f92a8d204278af3959660617b691'))\n",
    "book_tags.columns\n"
   ]
  },
  {
   "cell_type": "code",
   "execution_count": 12,
   "metadata": {},
   "outputs": [
    {
     "name": "stdout",
     "output_type": "stream",
     "text": [
      "+-----------------+------+------+\n",
      "|goodreads_book_id|tag_id| count|\n",
      "+-----------------+------+------+\n",
      "|                1| 30574|167697|\n",
      "|                1| 11305| 37174|\n",
      "|                1| 11557| 34173|\n",
      "|                1|  8717| 12986|\n",
      "|                1| 33114| 12716|\n",
      "|                1| 11743|  9954|\n",
      "|                1| 14017|  7169|\n",
      "|                1|  5207|  6221|\n",
      "|                1| 22743|  4974|\n",
      "|                1| 32989|  4364|\n",
      "|                1| 27199|  3857|\n",
      "|                1| 11590|  3456|\n",
      "|                1| 18886|  3374|\n",
      "|                1|  6953|  2408|\n",
      "|                1| 22753|  1881|\n",
      "|                1| 24960|  1821|\n",
      "|                1|  1691|  1742|\n",
      "|                1|  6857|  1560|\n",
      "|                1| 15965|  1309|\n",
      "|                1|  6888|  1095|\n",
      "+-----------------+------+------+\n",
      "only showing top 20 rows\n",
      "\n"
     ]
    }
   ],
   "source": [
    "book_tags.show()"
   ]
  },
  {
   "cell_type": "code",
   "execution_count": 14,
   "metadata": {},
   "outputs": [
    {
     "name": "stdout",
     "output_type": "stream",
     "text": [
      "+-------+------+--------------+-------------+\n",
      "|book_id|tag_id|average_rating|language_code|\n",
      "+-------+------+--------------+-------------+\n",
      "|      1| 30574|          4.54|          eng|\n",
      "|      1| 11305|          4.54|          eng|\n",
      "|      1| 11557|          4.54|          eng|\n",
      "|      1|  8717|          4.54|          eng|\n",
      "|      1| 33114|          4.54|          eng|\n",
      "|      1| 11743|          4.54|          eng|\n",
      "|      1| 14017|          4.54|          eng|\n",
      "|      1|  5207|          4.54|          eng|\n",
      "|      1| 22743|          4.54|          eng|\n",
      "|      1| 32989|          4.54|          eng|\n",
      "|      1| 27199|          4.54|          eng|\n",
      "|      1| 11590|          4.54|          eng|\n",
      "|      1| 18886|          4.54|          eng|\n",
      "|      1|  6953|          4.54|          eng|\n",
      "|      1| 22753|          4.54|          eng|\n",
      "|      1| 24960|          4.54|          eng|\n",
      "|      1|  1691|          4.54|          eng|\n",
      "|      1|  6857|          4.54|          eng|\n",
      "|      1| 15965|          4.54|          eng|\n",
      "|      1|  6888|          4.54|          eng|\n",
      "+-------+------+--------------+-------------+\n",
      "only showing top 20 rows\n",
      "\n"
     ]
    }
   ],
   "source": [
    "tags_ratings = books.join(book_tags, books['book_id']==book_tags['goodreads_book_id']).select([\"book_id\",\"tag_id\",\"average_rating\",\"language_code\"])\n",
    "tags_ratings.show()"
   ]
  },
  {
   "cell_type": "code",
   "execution_count": 15,
   "metadata": {},
   "outputs": [
    {
     "data": {
      "text/plain": [
       "999912"
      ]
     },
     "execution_count": 15,
     "metadata": {},
     "output_type": "execute_result"
    }
   ],
   "source": [
    "book_tags.count()"
   ]
  },
  {
   "cell_type": "code",
   "execution_count": 16,
   "metadata": {},
   "outputs": [],
   "source": [
    "grouped_tags = tags_ratings.groupBy(\"tag_id\")"
   ]
  },
  {
   "cell_type": "code",
   "execution_count": 17,
   "metadata": {},
   "outputs": [
    {
     "name": "stdout",
     "output_type": "stream",
     "text": [
      "+------+-----+\n",
      "|tag_id|count|\n",
      "+------+-----+\n",
      "| 19132|   14|\n",
      "|   829|  559|\n",
      "| 18130|  412|\n",
      "| 19095|    7|\n",
      "| 22254|    1|\n",
      "| 23097|    2|\n",
      "|  2136|  588|\n",
      "| 31713|   13|\n",
      "|  2294|  200|\n",
      "| 32812|  214|\n",
      "| 28839|   71|\n",
      "| 13865|   52|\n",
      "|  2904|   12|\n",
      "|  7273|   13|\n",
      "| 27248|   16|\n",
      "|  8304|   25|\n",
      "| 27264|    6|\n",
      "| 29089|   26|\n",
      "| 21249|   18|\n",
      "|  9009|    5|\n",
      "+------+-----+\n",
      "only showing top 20 rows\n",
      "\n"
     ]
    }
   ],
   "source": [
    "grouped_tags.count().show()"
   ]
  },
  {
   "cell_type": "code",
   "execution_count": 18,
   "metadata": {},
   "outputs": [
    {
     "ename": "AnalysisException",
     "evalue": "'\"average_rating\" is not a numeric column. Aggregation function can only be applied on a numeric column.;'",
     "output_type": "error",
     "traceback": [
      "\u001b[0;31m---------------------------------------------------------------------------\u001b[0m",
      "\u001b[0;31mPy4JJavaError\u001b[0m                             Traceback (most recent call last)",
      "\u001b[0;32m/usr/local/src/spark21master/spark/python/pyspark/sql/utils.py\u001b[0m in \u001b[0;36mdeco\u001b[0;34m(*a, **kw)\u001b[0m\n\u001b[1;32m     62\u001b[0m         \u001b[0;32mtry\u001b[0m\u001b[0;34m:\u001b[0m\u001b[0;34m\u001b[0m\u001b[0m\n\u001b[0;32m---> 63\u001b[0;31m             \u001b[0;32mreturn\u001b[0m \u001b[0mf\u001b[0m\u001b[0;34m(\u001b[0m\u001b[0;34m*\u001b[0m\u001b[0ma\u001b[0m\u001b[0;34m,\u001b[0m \u001b[0;34m**\u001b[0m\u001b[0mkw\u001b[0m\u001b[0;34m)\u001b[0m\u001b[0;34m\u001b[0m\u001b[0m\n\u001b[0m\u001b[1;32m     64\u001b[0m         \u001b[0;32mexcept\u001b[0m \u001b[0mpy4j\u001b[0m\u001b[0;34m.\u001b[0m\u001b[0mprotocol\u001b[0m\u001b[0;34m.\u001b[0m\u001b[0mPy4JJavaError\u001b[0m \u001b[0;32mas\u001b[0m \u001b[0me\u001b[0m\u001b[0;34m:\u001b[0m\u001b[0;34m\u001b[0m\u001b[0m\n",
      "\u001b[0;32m/usr/local/src/spark21master/spark/python/lib/py4j-0.10.4-src.zip/py4j/protocol.py\u001b[0m in \u001b[0;36mget_return_value\u001b[0;34m(answer, gateway_client, target_id, name)\u001b[0m\n\u001b[1;32m    318\u001b[0m                     \u001b[0;34m\"An error occurred while calling {0}{1}{2}.\\n\"\u001b[0m\u001b[0;34m.\u001b[0m\u001b[0;34m\u001b[0m\u001b[0m\n\u001b[0;32m--> 319\u001b[0;31m                     format(target_id, \".\", name), value)\n\u001b[0m\u001b[1;32m    320\u001b[0m             \u001b[0;32melse\u001b[0m\u001b[0;34m:\u001b[0m\u001b[0;34m\u001b[0m\u001b[0m\n",
      "\u001b[0;31mPy4JJavaError\u001b[0m: An error occurred while calling o138.avg.\n: org.apache.spark.sql.AnalysisException: \"average_rating\" is not a numeric column. Aggregation function can only be applied on a numeric column.;\n\tat org.apache.spark.sql.RelationalGroupedDataset$$anonfun$3.apply(RelationalGroupedDataset.scala:99)\n\tat org.apache.spark.sql.RelationalGroupedDataset$$anonfun$3.apply(RelationalGroupedDataset.scala:96)\n\tat scala.collection.TraversableLike$$anonfun$map$1.apply(TraversableLike.scala:234)\n\tat scala.collection.TraversableLike$$anonfun$map$1.apply(TraversableLike.scala:234)\n\tat scala.collection.Iterator$class.foreach(Iterator.scala:893)\n\tat scala.collection.AbstractIterator.foreach(Iterator.scala:1336)\n\tat scala.collection.IterableLike$class.foreach(IterableLike.scala:72)\n\tat scala.collection.AbstractIterable.foreach(Iterable.scala:54)\n\tat scala.collection.TraversableLike$class.map(TraversableLike.scala:234)\n\tat scala.collection.AbstractTraversable.map(Traversable.scala:104)\n\tat org.apache.spark.sql.RelationalGroupedDataset.aggregateNumericColumns(RelationalGroupedDataset.scala:96)\n\tat org.apache.spark.sql.RelationalGroupedDataset.avg(RelationalGroupedDataset.scala:270)\n\tat sun.reflect.NativeMethodAccessorImpl.invoke0(Native Method)\n\tat sun.reflect.NativeMethodAccessorImpl.invoke(NativeMethodAccessorImpl.java:95)\n\tat sun.reflect.DelegatingMethodAccessorImpl.invoke(DelegatingMethodAccessorImpl.java:55)\n\tat java.lang.reflect.Method.invoke(Method.java:507)\n\tat py4j.reflection.MethodInvoker.invoke(MethodInvoker.java:244)\n\tat py4j.reflection.ReflectionEngine.invoke(ReflectionEngine.java:357)\n\tat py4j.Gateway.invoke(Gateway.java:280)\n\tat py4j.commands.AbstractCommand.invokeMethod(AbstractCommand.java:132)\n\tat py4j.commands.CallCommand.execute(CallCommand.java:79)\n\tat py4j.GatewayConnection.run(GatewayConnection.java:214)\n\tat java.lang.Thread.run(Thread.java:785)\n",
      "\nDuring handling of the above exception, another exception occurred:\n",
      "\u001b[0;31mAnalysisException\u001b[0m                         Traceback (most recent call last)",
      "\u001b[0;32m<ipython-input-18-27d8a4332e6f>\u001b[0m in \u001b[0;36m<module>\u001b[0;34m()\u001b[0m\n\u001b[0;32m----> 1\u001b[0;31m \u001b[0mgrouped_tags\u001b[0m\u001b[0;34m.\u001b[0m\u001b[0mavg\u001b[0m\u001b[0;34m(\u001b[0m\u001b[0;34m\"average_rating\"\u001b[0m\u001b[0;34m)\u001b[0m\u001b[0;34m\u001b[0m\u001b[0m\n\u001b[0m",
      "\u001b[0;32m/usr/local/src/spark21master/spark/python/pyspark/sql/group.py\u001b[0m in \u001b[0;36m_api\u001b[0;34m(self, *cols)\u001b[0m\n\u001b[1;32m     38\u001b[0m     \u001b[0;32mdef\u001b[0m \u001b[0m_api\u001b[0m\u001b[0;34m(\u001b[0m\u001b[0mself\u001b[0m\u001b[0;34m,\u001b[0m \u001b[0;34m*\u001b[0m\u001b[0mcols\u001b[0m\u001b[0;34m)\u001b[0m\u001b[0;34m:\u001b[0m\u001b[0;34m\u001b[0m\u001b[0m\n\u001b[1;32m     39\u001b[0m         \u001b[0mname\u001b[0m \u001b[0;34m=\u001b[0m \u001b[0mf\u001b[0m\u001b[0;34m.\u001b[0m\u001b[0m__name__\u001b[0m\u001b[0;34m\u001b[0m\u001b[0m\n\u001b[0;32m---> 40\u001b[0;31m         \u001b[0mjdf\u001b[0m \u001b[0;34m=\u001b[0m \u001b[0mgetattr\u001b[0m\u001b[0;34m(\u001b[0m\u001b[0mself\u001b[0m\u001b[0;34m.\u001b[0m\u001b[0m_jgd\u001b[0m\u001b[0;34m,\u001b[0m \u001b[0mname\u001b[0m\u001b[0;34m)\u001b[0m\u001b[0;34m(\u001b[0m\u001b[0m_to_seq\u001b[0m\u001b[0;34m(\u001b[0m\u001b[0mself\u001b[0m\u001b[0;34m.\u001b[0m\u001b[0msql_ctx\u001b[0m\u001b[0;34m.\u001b[0m\u001b[0m_sc\u001b[0m\u001b[0;34m,\u001b[0m \u001b[0mcols\u001b[0m\u001b[0;34m)\u001b[0m\u001b[0;34m)\u001b[0m\u001b[0;34m\u001b[0m\u001b[0m\n\u001b[0m\u001b[1;32m     41\u001b[0m         \u001b[0;32mreturn\u001b[0m \u001b[0mDataFrame\u001b[0m\u001b[0;34m(\u001b[0m\u001b[0mjdf\u001b[0m\u001b[0;34m,\u001b[0m \u001b[0mself\u001b[0m\u001b[0;34m.\u001b[0m\u001b[0msql_ctx\u001b[0m\u001b[0;34m)\u001b[0m\u001b[0;34m\u001b[0m\u001b[0m\n\u001b[1;32m     42\u001b[0m     \u001b[0m_api\u001b[0m\u001b[0;34m.\u001b[0m\u001b[0m__name__\u001b[0m \u001b[0;34m=\u001b[0m \u001b[0mf\u001b[0m\u001b[0;34m.\u001b[0m\u001b[0m__name__\u001b[0m\u001b[0;34m\u001b[0m\u001b[0m\n",
      "\u001b[0;32m/usr/local/src/spark21master/spark/python/lib/py4j-0.10.4-src.zip/py4j/java_gateway.py\u001b[0m in \u001b[0;36m__call__\u001b[0;34m(self, *args)\u001b[0m\n\u001b[1;32m   1131\u001b[0m         \u001b[0manswer\u001b[0m \u001b[0;34m=\u001b[0m \u001b[0mself\u001b[0m\u001b[0;34m.\u001b[0m\u001b[0mgateway_client\u001b[0m\u001b[0;34m.\u001b[0m\u001b[0msend_command\u001b[0m\u001b[0;34m(\u001b[0m\u001b[0mcommand\u001b[0m\u001b[0;34m)\u001b[0m\u001b[0;34m\u001b[0m\u001b[0m\n\u001b[1;32m   1132\u001b[0m         return_value = get_return_value(\n\u001b[0;32m-> 1133\u001b[0;31m             answer, self.gateway_client, self.target_id, self.name)\n\u001b[0m\u001b[1;32m   1134\u001b[0m \u001b[0;34m\u001b[0m\u001b[0m\n\u001b[1;32m   1135\u001b[0m         \u001b[0;32mfor\u001b[0m \u001b[0mtemp_arg\u001b[0m \u001b[0;32min\u001b[0m \u001b[0mtemp_args\u001b[0m\u001b[0;34m:\u001b[0m\u001b[0;34m\u001b[0m\u001b[0m\n",
      "\u001b[0;32m/usr/local/src/spark21master/spark/python/pyspark/sql/utils.py\u001b[0m in \u001b[0;36mdeco\u001b[0;34m(*a, **kw)\u001b[0m\n\u001b[1;32m     67\u001b[0m                                              e.java_exception.getStackTrace()))\n\u001b[1;32m     68\u001b[0m             \u001b[0;32mif\u001b[0m \u001b[0ms\u001b[0m\u001b[0;34m.\u001b[0m\u001b[0mstartswith\u001b[0m\u001b[0;34m(\u001b[0m\u001b[0;34m'org.apache.spark.sql.AnalysisException: '\u001b[0m\u001b[0;34m)\u001b[0m\u001b[0;34m:\u001b[0m\u001b[0;34m\u001b[0m\u001b[0m\n\u001b[0;32m---> 69\u001b[0;31m                 \u001b[0;32mraise\u001b[0m \u001b[0mAnalysisException\u001b[0m\u001b[0;34m(\u001b[0m\u001b[0ms\u001b[0m\u001b[0;34m.\u001b[0m\u001b[0msplit\u001b[0m\u001b[0;34m(\u001b[0m\u001b[0;34m': '\u001b[0m\u001b[0;34m,\u001b[0m \u001b[0;36m1\u001b[0m\u001b[0;34m)\u001b[0m\u001b[0;34m[\u001b[0m\u001b[0;36m1\u001b[0m\u001b[0;34m]\u001b[0m\u001b[0;34m,\u001b[0m \u001b[0mstackTrace\u001b[0m\u001b[0;34m)\u001b[0m\u001b[0;34m\u001b[0m\u001b[0m\n\u001b[0m\u001b[1;32m     70\u001b[0m             \u001b[0;32mif\u001b[0m \u001b[0ms\u001b[0m\u001b[0;34m.\u001b[0m\u001b[0mstartswith\u001b[0m\u001b[0;34m(\u001b[0m\u001b[0;34m'org.apache.spark.sql.catalyst.analysis'\u001b[0m\u001b[0;34m)\u001b[0m\u001b[0;34m:\u001b[0m\u001b[0;34m\u001b[0m\u001b[0m\n\u001b[1;32m     71\u001b[0m                 \u001b[0;32mraise\u001b[0m \u001b[0mAnalysisException\u001b[0m\u001b[0;34m(\u001b[0m\u001b[0ms\u001b[0m\u001b[0;34m.\u001b[0m\u001b[0msplit\u001b[0m\u001b[0;34m(\u001b[0m\u001b[0;34m': '\u001b[0m\u001b[0;34m,\u001b[0m \u001b[0;36m1\u001b[0m\u001b[0;34m)\u001b[0m\u001b[0;34m[\u001b[0m\u001b[0;36m1\u001b[0m\u001b[0;34m]\u001b[0m\u001b[0;34m,\u001b[0m \u001b[0mstackTrace\u001b[0m\u001b[0;34m)\u001b[0m\u001b[0;34m\u001b[0m\u001b[0m\n",
      "\u001b[0;31mAnalysisException\u001b[0m: '\"average_rating\" is not a numeric column. Aggregation function can only be applied on a numeric column.;'"
     ]
    }
   ],
   "source": [
    "grouped_tags.avg(\"average_rating\")"
   ]
  },
  {
   "cell_type": "markdown",
   "metadata": {},
   "source": [
    "# \"average_rating\" is not a numeric column.\n",
    "## Aggregation function can only be applied on a numeric column."
   ]
  },
  {
   "cell_type": "code",
   "execution_count": 19,
   "metadata": {},
   "outputs": [
    {
     "name": "stdout",
     "output_type": "stream",
     "text": [
      "root\n",
      " |-- book_id: string (nullable = true)\n",
      " |-- tag_id: string (nullable = true)\n",
      " |-- average_rating: string (nullable = true)\n",
      " |-- language_code: string (nullable = true)\n",
      "\n"
     ]
    }
   ],
   "source": [
    "tags_ratings.printSchema()"
   ]
  },
  {
   "cell_type": "markdown",
   "metadata": {},
   "source": [
    "# Cast\n",
    "<img src='https://preview.ibb.co/iq7s1c/s26c_Z1523345891.jpg'>"
   ]
  },
  {
   "cell_type": "code",
   "execution_count": 20,
   "metadata": {},
   "outputs": [
    {
     "name": "stdout",
     "output_type": "stream",
     "text": [
      "root\n",
      " |-- book_id: string (nullable = true)\n",
      " |-- tag_id: string (nullable = true)\n",
      " |-- average_rating: float (nullable = true)\n",
      " |-- language_code: string (nullable = true)\n",
      "\n"
     ]
    }
   ],
   "source": [
    "average_rating_num = tags_ratings.average_rating.cast('float')\n",
    "tags_ratings_num = tags_ratings.withColumn(\"average_rating\", average_rating_num)\n",
    "tags_ratings_num.printSchema()"
   ]
  },
  {
   "cell_type": "code",
   "execution_count": 21,
   "metadata": {},
   "outputs": [],
   "source": [
    "from pyspark.sql.functions import col, desc"
   ]
  },
  {
   "cell_type": "code",
   "execution_count": 22,
   "metadata": {},
   "outputs": [
    {
     "name": "stdout",
     "output_type": "stream",
     "text": [
      "+------+-----------------+\n",
      "|tag_id|       tag_rating|\n",
      "+------+-----------------+\n",
      "| 14674|4.775000095367432|\n",
      "|  6833|4.769999980926514|\n",
      "| 32803|4.769999980926514|\n",
      "|  5574|4.769999980926514|\n",
      "|  4319|4.769999980926514|\n",
      "| 18890|4.769999980926514|\n",
      "| 15306|4.769999980926514|\n",
      "| 28760|4.769999980926514|\n",
      "|  4431|4.760000228881836|\n",
      "|  5415|4.760000228881836|\n",
      "| 28859|4.760000228881836|\n",
      "| 32085|4.760000228881836|\n",
      "|  7114|4.760000228881836|\n",
      "| 30242|4.760000228881836|\n",
      "| 13369|4.760000228881836|\n",
      "|   120|4.760000228881836|\n",
      "| 28858|4.760000228881836|\n",
      "| 26967|4.760000228881836|\n",
      "|  4430|4.760000228881836|\n",
      "|  4449|4.760000228881836|\n",
      "+------+-----------------+\n",
      "only showing top 20 rows\n",
      "\n"
     ]
    }
   ],
   "source": [
    "grouped_tags = tags_ratings_num.groupBy(\"tag_id\")\n",
    "tags_ratings = grouped_tags.avg(\"average_rating\")\n",
    "tags_ratings = tags_ratings.select([c for c in tags_ratings.columns if 'average_rating' not in c]\n",
    "                                   +[col(\"avg(average_rating)\").alias(\"tag_rating\")])\\\n",
    "                            .sort(desc(\"tag_rating\"))\n",
    "tags_ratings.show()"
   ]
  },
  {
   "cell_type": "markdown",
   "metadata": {},
   "source": [
    "# Nulls\n",
    "<img src='https://encrypted-tbn0.gstatic.com/images?q=tbn:ANd9GcTSSnyVc-eOyJkTfr7sY6n9fA0pd-jP2jrFpc3Yuf0P3FpDiuUC' width='50%' height='50%'>"
   ]
  },
  {
   "cell_type": "code",
   "execution_count": 23,
   "metadata": {},
   "outputs": [
    {
     "data": {
      "text/plain": [
       "34252"
      ]
     },
     "execution_count": 23,
     "metadata": {},
     "output_type": "execute_result"
    }
   ],
   "source": [
    "tags_ratings.count()"
   ]
  },
  {
   "cell_type": "code",
   "execution_count": 24,
   "metadata": {},
   "outputs": [
    {
     "data": {
      "text/plain": [
       "34243"
      ]
     },
     "execution_count": 24,
     "metadata": {},
     "output_type": "execute_result"
    }
   ],
   "source": [
    "tags_ratings = tags_ratings.where(tags_ratings.tag_rating.isNotNull())\n",
    "tags_ratings.count()"
   ]
  },
  {
   "cell_type": "code",
   "execution_count": 25,
   "metadata": {},
   "outputs": [
    {
     "name": "stdout",
     "output_type": "stream",
     "text": [
      "+------+--------------------+\n",
      "|tag_id|            tag_name|\n",
      "+------+--------------------+\n",
      "|     0|                   -|\n",
      "|     1|                --1-|\n",
      "|     2|               --10-|\n",
      "|     3|               --12-|\n",
      "|     4|              --122-|\n",
      "|     5|              --166-|\n",
      "|     6|               --17-|\n",
      "|     7|               --19-|\n",
      "|     8|                --2-|\n",
      "|     9|              --258-|\n",
      "|    10|                --3-|\n",
      "|    11|               --33-|\n",
      "|    12|                --4-|\n",
      "|    13|                --5-|\n",
      "|    14|               --51-|\n",
      "|    15|                --6-|\n",
      "|    16|               --62-|\n",
      "|    17|                --8-|\n",
      "|    18|               --99-|\n",
      "|    19|--available-at-ra...|\n",
      "+------+--------------------+\n",
      "only showing top 20 rows\n",
      "\n"
     ]
    }
   ],
   "source": [
    "tags_data = spark.read\\\n",
    "  .format('org.apache.spark.sql.execution.datasources.csv.CSVFileFormat')\\\n",
    "  .option('header', 'true')\\\n",
    "  .load(cos.url('tags.csv', 'cs340spring20184b12f92a8d204278af3959660617b691'))\n",
    "tags_data.show()"
   ]
  },
  {
   "cell_type": "code",
   "execution_count": 30,
   "metadata": {},
   "outputs": [
    {
     "name": "stdout",
     "output_type": "stream",
     "text": [
      "+------+-----------------+--------------------+\n",
      "|tag_id|       tag_rating|            tag_name|\n",
      "+------+-----------------+--------------------+\n",
      "| 14674|4.775000095367432|              hobbes|\n",
      "| 32803|4.769999980926514|         world-shift|\n",
      "|  5574|4.769999980926514|              boxset|\n",
      "| 28760|4.769999980926514|          stormlight|\n",
      "|  4319|4.769999980926514|best-books-i-have...|\n",
      "|  6833|4.769999980926514|   childhood-classic|\n",
      "| 15306|4.769999980926514|         imaginative|\n",
      "| 18890|4.769999980926514|       magic-is-real|\n",
      "|  4449|4.760000228881836|     biblical-novels|\n",
      "|   120|4.760000228881836|             05ip9hg|\n",
      "|  7128|4.760000228881836|      christian-help|\n",
      "| 10992|4.760000228881836|  everyone-must-read|\n",
      "| 32085|4.760000228881836|    want-my-own-copy|\n",
      "|  4430|4.760000228881836|    bible-commentary|\n",
      "| 30242|4.760000228881836|theology-and-apol...|\n",
      "| 26967|4.760000228881836|scripture-comment...|\n",
      "| 28858|4.760000228881836|         study-bible|\n",
      "| 13369|4.760000228881836|         good-enough|\n",
      "|   277|4.760000228881836|    101-bibles-tools|\n",
      "| 22610|4.760000228881836|                over|\n",
      "+------+-----------------+--------------------+\n",
      "only showing top 20 rows\n",
      "\n"
     ]
    }
   ],
   "source": [
    "tags_ratings_names = tags_ratings.join(tags_data, on=\"tag_id\")\n",
    "tags_ratings_names.show()"
   ]
  },
  {
   "cell_type": "markdown",
   "metadata": {},
   "source": [
    "# Let's add some Pixie Dust!\n",
    "<img src='http://www.disneyeveryday.com/wp-content/uploads/2012/07/Bottle-of-Tinker-Bells-Pixie-Dust-Necklace.jpg'>"
   ]
  },
  {
   "cell_type": "code",
   "execution_count": 27,
   "metadata": {},
   "outputs": [
    {
     "name": "stdout",
     "output_type": "stream",
     "text": [
      "Requirement already up-to-date: pixiedust in /usr/local/src/bluemix_jupyter_bundle.v86/notebook/lib/extra\n",
      "Requirement already up-to-date: astunparse in /usr/local/src/conda3_runtime.v29/home/envs/DSX-Python35-Spark/lib/python3.5/site-packages (from pixiedust)\n",
      "Collecting lxml (from pixiedust)\n",
      "  Downloading lxml-4.2.1-cp35-cp35m-manylinux1_x86_64.whl (5.6MB)\n",
      "\u001b[K    100% |████████████████████████████████| 5.6MB 213kB/s eta 0:00:01\n",
      "\u001b[?25hCollecting markdown (from pixiedust)\n",
      "  Downloading Markdown-2.6.11-py2.py3-none-any.whl (78kB)\n",
      "\u001b[K    100% |████████████████████████████████| 81kB 10.0MB/s ta 0:00:01\n",
      "\u001b[?25hCollecting geojson (from pixiedust)\n",
      "  Downloading geojson-2.3.0-py2.py3-none-any.whl\n",
      "Requirement already up-to-date: mpld3 in /usr/local/src/conda3_runtime.v29/home/envs/DSX-Python35-Spark/lib/python3.5/site-packages (from pixiedust)\n",
      "Collecting wheel<1.0,>=0.23.0 (from astunparse->pixiedust)\n",
      "  Downloading wheel-0.31.0-py2.py3-none-any.whl (41kB)\n",
      "\u001b[K    100% |████████████████████████████████| 51kB 9.9MB/s eta 0:00:01\n",
      "\u001b[?25hRequirement already up-to-date: six<2.0,>=1.6.1 in /usr/local/src/conda3_runtime.v29/home/envs/DSX-Python35-Spark/lib/python3.5/site-packages (from astunparse->pixiedust)\n",
      "Installing collected packages: lxml, markdown, geojson, wheel\n",
      "Successfully installed geojson-2.3.0 lxml-4.2.1 markdown-2.6.11 wheel-0.31.0\n"
     ]
    }
   ],
   "source": [
    "!pip install --user --upgrade pixiedust"
   ]
  },
  {
   "cell_type": "code",
   "execution_count": 28,
   "metadata": {},
   "outputs": [
    {
     "name": "stdout",
     "output_type": "stream",
     "text": [
      "Pixiedust database opened successfully\n",
      "Table METRICS_TRACKER created successfully\n",
      "\n",
      "Share anonymous install statistics? (opt-out instructions)\n",
      "\n",
      "PixieDust will record metadata on its environment the next time the package is installed or updated. The data is anonymized and aggregated to help plan for future releases, and records only the following values:\n",
      "\n",
      "{\n",
      "   \"data_sent\": currentDate,\n",
      "   \"runtime\": \"python\",\n",
      "   \"application_version\": currentPixiedustVersion,\n",
      "   \"space_id\": nonIdentifyingUniqueId,\n",
      "   \"config\": {\n",
      "       \"repository_id\": \"https://github.com/ibm-watson-data-lab/pixiedust\",\n",
      "       \"target_runtimes\": [\"Data Science Experience\"],\n",
      "       \"event_id\": \"web\",\n",
      "       \"event_organizer\": \"dev-journeys\"\n",
      "   }\n",
      "}\n",
      "You can opt out by calling pixiedust.optOut() in a new cell.\n"
     ]
    },
    {
     "data": {
      "text/html": [
       "\n",
       "        <div style=\"margin:10px\">\n",
       "            <a href=\"https://github.com/ibm-watson-data-lab/pixiedust\" target=\"_new\">\n",
       "                <img src=\"https://github.com/ibm-watson-data-lab/pixiedust/raw/master/docs/_static/pd_icon32.png\" style=\"float:left;margin-right:10px\"/>\n",
       "            </a>\n",
       "            <span>Pixiedust version upgraded from 1.0.4 to 1.1.9</span>\n",
       "        </div>\n",
       "        "
      ],
      "text/plain": [
       "<IPython.core.display.HTML object>"
      ]
     },
     "metadata": {},
     "output_type": "display_data"
    }
   ],
   "source": [
    "import pixiedust"
   ]
  },
  {
   "cell_type": "code",
   "execution_count": 36,
   "metadata": {
    "pixiedust": {
     "displayParams": {
      "handlerId": "barChart",
      "keyFields": "tag_name",
      "rowCount": "20",
      "valueFields": "tag_rating"
     }
    }
   },
   "outputs": [
    {
     "data": {
      "text/html": [
       "<style type=\"text/css\">.pd_warning{display:none;}</style><div class=\"pd_warning\"><em>Hey, there's something awesome here! To see it, open this notebook outside GitHub, in a viewer like Jupyter</em></div>\n",
       "        <div class=\"pd_save is-viewer-good\" style=\"padding-right:10px;text-align: center;line-height:initial !important;font-size: xx-large;font-weight: 500;color: coral;\">\n",
       "            \n",
       "        </div>\n",
       "    <div id=\"chartFigure039c74ca\" class=\"pd_save is-viewer-good\" style=\"overflow-x:auto\">\n",
       "            \n",
       "                    \n",
       "                            <center><img style=\"max-width:initial !important\" src=\"data:image/png;base64,iVBORw0KGgoAAAANSUhEUgAAAnkAAAH2CAYAAAAMB5oxAAAABHNCSVQICAgIfAhkiAAAAAlwSFlzAAAOwwAADsMBx2+oZAAAADl0RVh0U29mdHdhcmUAbWF0cGxvdGxpYiB2ZXJzaW9uIDIuMS4wLCBodHRwOi8vbWF0cGxvdGxpYi5vcmcvpW3flQAAIABJREFUeJzs3XmcTvX///HXZWasY8uePYOakm3MWIbsWxGyRqH4mBIVRSWFUhHJUn3Et53S4pMkSqiQtYiIyCA7k7HOjFmevz/mdp3fXLMwM7Ycj/vtdt24znWu836f5Trned7nfc54JMkAAADgKjmudgUAAABw6RHyAAAAXMj/alcAwL9XUlKSnTt3zujVcW3yeDyWK1cu83g8V7sqAK4CQh6ANCTZvn377MiRI1e7KrhIfn5+FhwcbDlz5rzaVQFwhXm48QJAan///bcdOXLEypYta4GBgbQEXaOSkpIsMjLScuXKZUFBQaxH4DpDyAPgIykpyTZs2GBly5a14sWLX+3q4CIdP37cdu3aZUlJSXb77bdbrly5rnaVAFwh3HgBwMe5c+fMzCwwMPAq1wSXgjfUrVq1yr799luLi4u7yjUCcKUQ8gD48Dbuc2nPHbzrsVixYrZlyxbbunXrVa4RgCuFkAcA14GAgADLkSOHnT59+mpXBcAVQsgDgKvkhx9+MI/HYwkJCVeszMTExCtWFoCri0eoAMgUj2f0FStLej5L44eHh1vz5s1t1KhRl6dCl8Czzz5rK1assB9++MEZVr9+fTt48KD5+7MrBnDp0ZIHABchPj4+2w+Lzpkzp5UsWfIS1wgAkhHyAFzT+vTpYytXrrTRo0ebx+OxChUq2M8//2xNmjSxQoUKWbFixaxHjx527Ngxn+9NnDjRSpQoYQULFrShQ4daz549rU+fPhcsz3uJddGiRXbrrbdanjx5LCoqyr766iurW7eu5c+f32688UZ7+OGH7cyZM2Zm9t5779nYsWPtxx9/NI/HYx6Px3bv3p3mcu2oUaMsPDzcpk2bZqVKlbKiRYvasGHDfELkhg0brFatWpY7d24LDw+3GTNmcJMMgHQR8gBc0yZPnmyhoaE2dOhQO3jwoK1bt85Onz5tDz30kK1fv94WLlxof//9tz388MPOd77//nt7+umnbezYsbZ27Vo7d+6czZ8/P0vljh492mbMmGGbN2+2AgUKWGxsrI0YMcJ+++03++STT2zZsmU2enTyJe5u3brZY489ZvXq1bODBw/awYMHrWzZsulOd9OmTbZu3TpbunSpzZw5015//XX7+uuvzcwsISHBOnXqZJUrV7Zff/3VHn/88X/1JWoAVxcdQQBc0woWLGgBAQEWGBjoXPps2bKlzzgTJkywhg0bWmJiovn5+dn06dOta9eu1q9fPzMze/31123evHlZKveVV16x+vXrO++7du3q/P+mm26y559/3p555hkbP3685cmTx/Lly5epy7P+/v42ffp0y507t91yyy3WpEkT+/HHH61du3b27bff2pEjR2zGjBlWoEABCw4Otl9++cVefvnlLNUdwPWBljwArrNv3z6777777KabbrL8+fNbs2bNLCEhwQ4dOmRmZjt27LDatWs74/v5+VmNGjWyVEbNmjV93m/dutU6duxo5cqVs/z581vfvn3t77//znLdK1eubLlz53belyxZ0vkbwjt27LCgoCArUKCA83lISEiWywBwfSDkAXCdPn362J49e+ztt9+2devW2eeff25myTdJmCU/8Pli+7HlzZvX53379u3N4/HYrFmzbP369TZlypRsPRolICDA573H47GkpCQzuzT1BnD9IOQBuOYFBAT4PP9t9erVNmTIEGvevLndfPPNaW66qFKliv3yyy/O+8TERNu4cWO2yz927Jj99ddf9txzz1nDhg2tatWqTqthRnXMjipVqtiOHTvs5MmTzrCU8wEAKRHyAFzzypcvb6tXr7b9+/fb8ePHrVKlSvbhhx/ajh07bNGiRfbSSy/5jD9gwAD79NNP7Z133rHt27fbkCFDLDo6OtutZIULF7bChQvbjBkzbNeuXTZnzhybPn16mjpu377dtm3bZseOHXNa57KiVatWVrx4cRswYID98ccfNnfuXHv//fezVWcA7kfIA3DNe+KJJywqKspuuukmq1mzps2cOdN27txp1apVs5EjR9qLL77oM37z5s3tpZdesqeeespCQ0PN39/fmjdvbrly5cpW+X5+fjZr1iz77rvv7NZbb7Xp06fbmDFjfMbp3LmzhYaGWp06daxYsWK2d+/eLJfj7+9vX3zxhW3bts1q1Khhr732mg0fPjzb9Qbgbh5l9ymeAFwpJibGtm7dasHBwZYnT56rXZ0rQpJVrVrV+vfvb08++eTVrk6WvPjii/bxxx/bli1b0v3cuz4jIyPtr7/+srCwMGvcuPGVrSSAq4JHqAC4Lk2YMMHatGljHo/H3nzzTdu7d6916dLlalfrgj7//HMrWrSolS9f3tasWWMTJ060YcOGXe1qAfgX4nItgOvSTz/9ZI0aNbLQ0FBbv369LV682CpUqGDLly+3wMDAdF8RERFXu9p2/Phx69u3r91yyy327LPP2pAhQwh5ANJFSx6A69JXX32V7vCQkJAM77RN+Xy6q6V///7Wv3//q10NANcAQh4ApJAnTx4LCgq62tUAgIvG5VoAPryPEeGeLHdgPQLXL0IeAB85c+Y0M7PTp09f5ZrgUoiLizMzy9Zf3wBwbeNyLQAfOXLksOLFizt/dzUwMJA/pXWNSkpKsr///tvOnDmTrYcvA7i2EfIApFGmTBkzMyfo4dqVlJTk/Ik1SU5LLQD3I+QBSMPj8VjZsmVt//79tnbtWitcuLDlzp2bFr1rjCSLj483SRYdHW0BAQFWrFixq10tAFcIIQ9AhurUqWNnzpyxjRs30qfrGibJ8uTJY82aNePOYeA6wp81A3BeiYmJdvToUTtz5gx3al6jcuTIYfnz57eiRYvSGgtcRwh5AAAALsQjVAAAAFyIkAcAAOBChDwAAAAXIuQBAAC4ECEPAADAhQh5AAAALkTIAwAAcCFCHgAAgAsR8gAAAFyIkAcAAOBChDwAAAAXIuQBAAC4ECEPAADAhQh5AAAALkTIAwAAcCFCHgAAgAsR8gAAAFzI/3JNOCkpyaKjoy137tzm8XguVzEAAACuJMliY2OtUKFCliNH1tvlLlvIi46OtiJFilyuyQMAAFwXoqKi7IYbbsjy9y5byMudO7eZJVcsT548l6sYAAAAV4qJibEiRYo4mSqrLlvI816izZMnDyEPAAAgm7Lb7Y0bLwAAAFyIkAcAAOBChDwAAAAXIuQBAAC4ECEPAADAhQh5AAAALkTIAwAAcCFCHgAAgAsR8gAAAFyIkAcAAOBChDwAAAAXIuQBAAC4ECEPAADAhQh5AAAALuR/tSsAAMD1wOMZne3vSs9fwprgekFLHgAAgAvRkgcg02iJAIBrBy15AAAALkTIAwAAcCFCHgAAgAsR8gAAAFyIkAcAAOBChDwAAAAXIuQBAAC4ECEPAADAhXgYMnAN4qHEwMXhN4TrAS15AAAALkTIAwAAcCEu1+KS4zIIAABXHy15AAAALkTIAwAAcCFCHgAAgAsR8gAAAFyIkAcAAOBChDwAAAAX4hEqwEXikTEAgH8jWvIAAABcKNMteR06dLB58+bZ4sWLrXnz5pezTgBw3aJlGMClkqmWvHfffddiYmIud10AAABwiVywJW/Pnj32/PPP288//2xly5a9EnUCAADARTpvyEtKSrLevXvb6NGjrUyZMuedUHx8vCUkJDjvafkDAOD6RdeDq++8IW/SpEkWGBhoffv2veCExo4da6NHZ3+FAheLHQoAAP9fhiHvjz/+sIkTJ9r69eszNaERI0bY8OHDnfcxMTFWpEiRi68hAMC1ODkDLp8Mb7xYs2aNHTp0yMqVK2f+/v7m75+cB1u1amU9e/ZMM35AQIDlyZPH5wUAAICrI8OWvA4dOlhISIjPsGrVqtn06dOtdevWl71iAAAAyL4MQ16hQoWsUKFCaYZXqFDhgjdhAAAA4Oriz5oB+Nej3xYAZF2WQp6ky1UP18vuQYoDFAAAyA7+di0AAIALEfIAAABciD55AJAB+gICuJbRkgcAAOBChDwAAAAXIuQBAAC4ECEPAADAhQh5AAAALkTIAwAAcCFCHgAAgAsR8gAAAFyIkAcAAOBChDwAAAAXIuQBAAC4ECEPAADAhfyvVsH84W8AAIDLh5Y8AAAAFyLkAQAAuBAhDwAAwIUIeQAAAC5EyAMAAHAhQh4AAIALEfIAAABc6Ko9Jw8A8O/Bs0sB9yHkAQAA1+CE5f/jci0AAIALEfIAAABc6Lq7XEszLgAAuB7QkgcAAOBChDwAAAAXIuQBAAC4ECEPAADAhQh5AAAALnTd3V0LAMD1hKdKXL9oyQMAAHAhQh4AAIALEfIAAABciJAHAADgQtx44WJ0tgUA4PpFSx4AAIALEfIAAABciMu1AAAAFym7XaQuZ/coWvIAAABciJAHAADgQoQ8AAAAFyLkAQAAuBAhDwAAwIUIeQAAAC5EyAMAAHAhQh4AAIALEfIAAABciJAHAADgQoQ8AAAAFyLkAQAAuBAhDwAAwIUIeQAAAC5EyAMAAHAhQh4AAIALEfIAAABciJAHAADgQoQ8AAAAFyLkAQAAuBAhDwAAwIUIeQAAAC5EyAMAAHAhQh4AAIALEfIAAABciJAHAADgQoQ8AAAAF8ow5L3yyit28803W968ea1IkSLWvn17+/PPP69k3QAAAJBNGYa8SpUq2bRp02zLli22dOlS8/PzszvvvPNK1g0AAADZ5J/RB126dPF5P2bMGLv99tvt8OHDVqJEicteMQAAAGRfhiEvpZiYGHvvvfesatWqVqxYsXTHiY+Pt4SEBJ/vAAAA4Oo4740XX3/9tQUGBlq+fPlswYIFtnDhQsuRI/2vjB071vLmzeu8ihQpclkqDAAAgAs7b8hr0qSJbdy40X766Se75ZZbrEePHhYfH5/uuCNGjLCzZ886r6ioqMtSYQAAAFzYeS/X5suXz4KCgiwoKMhCQ0OtcOHCtnDhQmvfvn2acQMCAiwgIOCyVRQAAACZl6Xn5Ekyf/9MdeMDAADAVZRhyBs+fLitWrXK9uzZY2vXrrXu3btb0aJFrUGDBleyfgAAAMiGDJvl9u7da126dLGjR49asWLFrGHDhrZkyRIrWLDglawfAAAAsiHDkPfxxx9fyXoAAADgEuJv1wIAALgQIQ8AAMCFCHkAAAAuRMgDAABwIUIeAACACxHyAAAAXIiQBwAA4EKEPAAAABci5AEAALgQIQ8AAMCFCHkAAAAuRMgDAABwIUIeAACACxHyAAAAXIiQBwAA4EKEPAAAABci5AEAALgQIQ8AAMCFCHkAAAAuRMgDAABwIUIeAACACxHyAAAAXIiQBwAA4EKEPAAAABci5AEAALgQIQ8AAMCFCHkAAAAuRMgDAABwIUIeAACACxHyAAAAXIiQBwAA4EKEPAAAABci5AEAALgQIQ8AAMCFCHkAAAAuRMgDAABwIUIeAACACxHyAAAAXIiQBwAA4EKEPAAAABci5AEAALgQIQ8AAMCFCHkAAAAuRMgDAABwIUIeAACACxHyAAAAXIiQBwAA4EKEPAAAABci5AEAALgQIQ8AAMCFCHkAAAAuRMgDAABwIUIeAACACxHyAAAAXIiQBwAA4EKEPAAAABci5AEAALgQIQ8AAMCFCHkAAAAuRMgDAABwIUIeAACACxHyAAAAXIiQBwAA4EKEPAAAABci5AEAALgQIQ8AAMCFCHkAAAAuRMgDAABwoQxD3ksvvWS1atWywMBAK1WqlPXt29eOHj16JesGAACAbMow5K1YscKGDBli69evt3nz5tnWrVutW7duV7JuAAAAyCb/jD745ptvfN6//vrrVr9+fTtx4oQVLFjwslcMAAAA2ZdhyEvt2LFjljt3bsuXL1+6n8fHx1tCQoLzPiYm5uJrBwAAgGzJ1I0XcXFxNmbMGOvdu7f5+6efC8eOHWt58+Z1XkWKFLmkFQUAAEDmXTDkJSYmWq9evczMbMKECRmON2LECDt79qzzioqKunS1BAAAQJac93JtUlKS9enTx7Zt22Y//vijBQYGZjhuQECABQQEXPIKAgAAIOsyDHmSrF+/frZ69Wpbvny53XDDDVeyXgAAALgIGYa8iIgImz9/vi1YsMDMzA4dOmRmZsWKFTM/P78rUzsAAABkS4Yh7+233zYzs7CwMJ/hkZGRVqFChctaKQAAAFyc816uBQAAwLWJv10LAADgQoQ8AAAAFyLkAQAAuBAhDwAAwIUIeQAAAC5EyAMAAHAhQh4AAIALEfIAAABciJAHAADgQoQ8AAAAFyLkAQAAuBAhDwAAwIUIeQAAAC5EyAMAAHAhQh4AAIALEfIAAABciJAHAADgQoQ8AAAAFyLkAQAAuBAhDwAAwIUIeQAAAC5EyAMAAHAhQh4AAIALEfIAAABciJAHAADgQoQ8AAAAFyLkAQAAuBAhDwAAwIUIeQAAAC5EyAMAAHAhQh4AAIALEfIAAABciJAHAADgQoQ8AAAAFyLkAQAAuBAhDwAAwIUIeQAAAC5EyAMAAHAhQh4AAIALEfIAAABciJAHAADgQoQ8AAAAFyLkAQAAuBAhDwAAwIUIeQAAAC5EyAMAAHAhQh4AAIALEfIAAABciJAHAADgQoQ8AAAAFyLkAQAAuBAhDwAAwIUIeQAAAC5EyAMAAHAhQh4AAIALEfIAAABciJAHAADgQoQ8AAAAFyLkAQAAuBAhDwAAwIUIeQAAAC5EyAMAAHAhQh4AAIALEfIAAABciJAHAADgQoQ8AAAAFyLkAQAAuBAhDwAAwIUIeQAAAC6UYcibO3euNWvWzAoWLGgej8cSEhKuZL0AAABwETIMeWfPnrWmTZvaU089dSXrAwAAgEvAP6MPevXqZWZmP/zww5WqCwAAAC6RDENeVsXHx/tc0o2JiblUkwYAAEAWXbIbL8aOHWt58+Z1XkWKFLlUkwYAAEAWXbKQN2LECDt79qzzioqKulSTBgAAQBZdssu1AQEBFhAQcKkmBwAAgIvAc/IAAABcKMOWvH/++cf27t1rO3fuNDOz3377zfz8/CwoKMgCAwOvWAUBAACQdRmGvK+++sr69u3rvA8JCTEzs2XLllnjxo0ve8UAAACQfRleru3Tp49JSvMi4AEAAPz70ScPAADAhQh5AAAALkTIAwAAcCFCHgAAgAsR8gAAAFyIkAcAAOBChDwAAAAXIuQBAAC4ECEPAADAhQh5AAAALkTIAwAAcCFCHgAAgAsR8gAAAFyIkAcAAOBChDwAAAAXIuQBAAC4ECEPAADAhQh5AAAALkTIAwAAcCFCHgAAgAsR8gAAAFyIkAcAAOBChDwAAAAXIuQBAAC4ECEPAADAhQh5AAAALkTIAwAAcCFCHgAAgAsR8gAAAFyIkAcAAOBChDwAAAAXIuQBAAC4ECEPAADAhQh5AAAALkTIAwAAcCFCHgAAgAsR8gAAAFyIkAcAAOBChDwAAAAXIuQBAAC4ECEPAADAhQh5AAAALkTIAwAAcCFCHgAAgAsR8gAAAFyIkAcAAOBChDwAAAAXIuQBAAC4ECEPAADAhQh5AAAALkTIAwAAcCFCHgAAgAsR8gAAAFyIkAcAAOBChDwAAAAXIuQBAAC4ECEPAADAhQh5AAAALkTIAwAAcCFCHgAAgAsR8gAAAFyIkAcAAOBChDwAAAAXIuQBAAC4ECEPAADAhQh5AAAALkTIAwAAcCFCHgAAgAtdMOS98sorduONN1revHmtffv2dujQoStRLwAAAFyE84a8d99911588UWbNm2a/fzzz3by5Enr1q3blaobAAAAssn/fB9OnTrVHn30UevUqZOZmb3zzjtWqVIl27hxo9WoUeOKVBAAAABZl2HIi4uLs99++81effVVZ9hNN91kFSpUsDVr1qQJefHx8ZaQkOC8P3v2rJmZxcTEZFBCfLYrnfE0M+PaKvd6mlfK/beXSblXptzraV6vt3Kvp3ml3EtRpvczSdmatikD+/fvl5lp06ZNPsPr1KmjMWPGpBn/+eefl5nx4sWLFy9evHjxuoSvqKiojOLaeWXYkpfV1DhixAgbPny48z4pKclOnz5t+fPnN4/Hk6VpxcTEWJEiRSwqKsry5MmTpe9m19Uok3JZt5R77ZVJuaxbyr32yrxWy5VksbGxVqhQoWyVnWHIK1q0qOXIkcOOHDniM/zo0aNWvHjxNOMHBARYQECAz7B8+fJlq1JeefLkuaIr4mqVSbnuLZNy3Vsm5bq3TMp1b5nXYrl58+bNdpkZ3l2bK1cuq169ui1btswZFhkZabt377awsLBsFwgAAIDL77x31z7yyCP26KOPWu3ate2mm26yxx9/3Bo2bMidtQAAAP9yfqNGjRqV0Yc1a9Y0j8djzz33nE2bNs1uvvlm+/DDDy0wMPCyVyxHjhzWuHFj8/Pzu+xlXc0yKde9ZVKue8ukXPeWSbnuLfN6LNejbN+XCwAAgH8r/nYtAACACxHyAAAAXIiQBwAA4EKEPAAAABci5AEArhunT5+22bNnW2xs7NWuCnDZXXchj5uJr31JSUlXuwoArlHLly+3Xr162Zo1a652VYDL7rp9hMqqVausXr16JinLf1sX5yfJEhMTzd//vM/azrLExESfZwydOXPG8uXLxzoEkCnefUXz5s3N39/fPvnkk2z/TdALlZOUlHTFn4kGpHZdtOQlJib6vF+0aJE1aNDA4uPjCQeXmHcn6u/vb6dOnbLNmzdbdHS0z+eZtW3bNp/33h3m22+/bS1atLBZs2aZmbEOr4JFixbZunXr7OzZs1e7KrgErpdzfe9VgOnTp9t3331nCxYsuOTznpSUZB6Px/z8/Ozw4cO2fft2O3nypPP59bKs8e9wXYQ8Pz8/i4yMtH/++cfMkv+SR/369e2zzz4zM350l5I3cE2bNs2KFCli3bp1s7p169rSpUudnV9mTJgwwfr27WsbNmwws+R1dPDgQWvUqJGNGTPG2rVrZ0FBQRYbG8v6u4K+/vprq1Chgj3xxBPWvn17e+SRR+z33383My6jX2vWrFlj8+fPNzN3nyglJCQ4//fz87PExESrVKmSDRgwwMaMGWP79u27qOkvWbLEp5wcOZIPq4MHD7bg4GC7//777Y477rguljUur6SkpCwf71wZ8lIfbDZv3myVK1e2Xr162ZYtW6xgwYJWsWJF++uvv1zXmpdyh3Y1/PrrrzZjxgxbvHixzZkzxz7++GOrVq2ajRw50j744AMzO3+o9n5WvXp1K1iwoM2ZM8fMkneM3377reXMmdP27NljgwcPtqZNm1ru3Lldtf7+jbzrZPHixTZ27FiLiIiw33//3ebPn2/Hjh0z719G9B7c8O8nyZ566imbOXOm7dixwxl2tVyOEwRJJsnpNrJt2zaLjo52rghMmzbNDhw4YO+9916295vvv/++tWjRwo4cOWL+/v7OVaNXX33V1qxZY3PnzrWlS5fanXfeacOHD7evvvrq0szcNYITv0tHkuXIkcM8Ho/t3LnT9u7dm6nvuXKv7D3Y7N6928zM8ubNa7fddpvFxcXZhAkT7J9//rHq1avbihUrLCAg4LLt3JKSkrK0kV9MPbzl+Pv729mzZ23Xrl3ZnlZWyktJkg0dOtSefvppK1CggHXs2NGqV69u06dPt1q1atnHH39shw4dOm8o837WokULCw0NtbVr19rChQvNzOzEiRMWGRlpfn5+tnDhQps9e7aNHTvWPv/8c6d8XFrx8fEWFRVlZma5cuWyiIgIe+qppyw+Pt7eeecdW7JkiS1ZssTef/99M7v0O/UrdZC4mgej1N1JzC7vtpyYmGgej8eGDx9uR44csQULFpjZ+VuYLtfy8c5njhw5LCkpyU6fPn3Jpu3xeMzj8dj3339vwcHB1rlzZ6tdu7Z99tlnduLECfPz87OxY8faxIkTbevWrdkqo1WrVlavXj17+OGHnfk4d+6czZ492x5//HG74447bMeOHTZ37lwzMytYsOAlm7/zSe/Yk5mT60shMTHRKdt7LB4zZox99913GX7HDWHwcs+Dx+OxU6dO2T333GMNGjSwZs2a2Ycffpju/iMlV4Q87xmbV1xcnI0bN85atWplx48ft0qVKlnVqlWtQIECdvvtt1uvXr2sU6dOtmTJEouMjDSPx3NZDk45cuSwHDly2J49e2z//v0+KyO9H5V3J3uhlZYe74/phx9+sMDAQJs1a9Ylf0TA+PHjrXfv3ul+5j1wjBo1ygIDA+3MmTPOZzfccIO1bNnSTp8+bStWrEj3+ymbob3z37NnT8ufP799+umnFhsbay1atLCyZctagQIFbPTo0TZr1ixbtGiR9ezZ01auXGkej+dfGfSysz7/DbZs2WL9+vWzYcOGmZlZo0aN7N5777UNGzZYrVq1bMeOHfbZZ5/ZPffcYxMmTLD4+HjLkSPHJVsHiYmJznYdFxd3wfFTl5uZenhvEvKWk5n9wKXcV0hyWpaWLl16wX6ml2LZestr3bq1VatWzRYvXmyrVq067/QvRyttyhum5s6dazVr1rQff/zxvONn1VtvvWURERHWq1cv+/LLL23gwIE2ZswYp0Vt8ODBVrx4cXvttdey1L80Pj7ezMxKlixpzz77rH355Ze2atUq83g8FhUVZZUqVbKcOXNa9+7drXHjxnbXXXfZypUr7Y477rgi+wPvsWffvn1Od4rMnFx7t+2sLuvVq1db3bp1zSx5+/JuLzt27LDBgwfbN998Y4GBgeetr9n/vxKV2fJ//vnnLNXT61If71PuQzJT9+yW/9Zbb9nJkydt8eLFNnPmTLvvvvvMz8/v/GXqGpSUlCRJio+PV3x8vDM8MTHR+f+WLVvUrFkzNWrUSCdPntTy5csVGhqqM2fOKDw8XIMGDVJQUJBeeumly1bPkydPqmvXripatKiCg4PVqVMn/fbbb+nOS1JSkhITE/XGG2/onXfeyXJZW7ZsUd++ffXSSy/prbcYgOVyAAAgAElEQVTeuuD4mzZt0rfffpupaZ87d06S9P7778vj8ej333+XJCUkJDj/plz2jzzyiMLDw/Xjjz86w+Li4lSyZEl9/vnnaabvnY4knTlzxuezqVOnqmHDhvrggw8kSQcPHtSPP/6oyMhI7d+/X5IUEhKixx57LFPzcjmkrH9GYmJidOrUqUxNz7stZFSWd5s5nwULFqTZ1jLru+++U0hIiDp37qwyZcqocuXKWrNmjVP+0KFD1blzZx09elSS9MQTT8jj8WjkyJFO/S+V48ePq1+/furRo4fGjx+vHTt2SFKGyycmJkbfffddhtNLvX157dq1Sw899JCefPJJLVmyRCdPnpSU8br9559/nN9BRnVJbfPmzVq+fHm6ZYeHh6t06dKKiIjQzp07zzudw4cP64cffshS2UlJSenOy+bNmxUWFqYRI0bo9OnTzrip1+H+/fs1fPhwp9xLtY7//PNPffvtt+rYsaOmTJmimJiY845/4MAB/f3338577/YQGxub7vhz5szR66+/7rx/7rnn5PF41L59e61bt06StHjxYuXKleu8201Gxo0bp9dee03lypVTeHi4MzwsLEwej0d33323U0dJ2rp1q2bNmpXhdngxvOvXu/949NFHFRgYqAoVKmjgwIE6dOiQ83lK3vX90Ucf6b///W+2yl6zZo3mzJkjKfm4fO7cOb3wwgsKDw/XXXfdpb1796b5Tsp6nDp1Si+++KJefPHFTJf5v//9Tx6PR9u3bz/vtM8nLi4u0+VdaNrHjx/Xk08+qZEjR2r+/Pn6559/JGW8D4mJidGff/6Zqfp6P+/Tp49KlCih//3vf5o2bZqmTp2qyMjI807jmgt53bt3V79+/XyGJSUlacSIEXr88cc1efJkJ5RER0erWrVqeuSRRzRr1iwNGjRI69atU2RkpPr06SN/f3916NBB0dHRl7ye586d04ABA9SoUSOtWbNG8+fPV7169dSqVSv98ssvktJf+fXr11dYWJjPjiy19L63fft2eTweBQYG6tdff/X5LL2V/9RTT8nj8Wj37t0ZlhMXF6eaNWtq2rRpkpIPkHfeeafq16/vTDdlXdauXauoqCht375doaGh6tevn7PT3r9/v4KCgvS///0v3bJOnjypAQMG6O6779bIkSO1fv16SckHtF69eqljx47Oxiz9/4PbmjVrFBISoqVLl2Y4Hxcrox9p6uHeefWeeHiX+5kzZ1S/fn0988wzGU5rw4YN+uKLL3y+l1LqZb1mzRpt2rRJUtoDfWJiomrUqKGwsDDnwJ1Zf/75pypXrqwnn3xSmzZt0quvvqpKlSqpR48ezji33HKLT6geOHCg2rRpo7p162a5vPNZs2aNSpYsqTZt2mjYsGGqXLmy6tSp4xw0vb/zlCZNmqRSpUpp0aJFaT6bOnWq7r77budg5/Xee+8pb9686ty5s5o2baqbb75Z999/v/N56nV2/PhxPfjggwoJCcnSwfrBBx/Us88+6zMsLi5OPXv2VKdOnXTkyBEnXHqlXrdnz57VoEGDVLFiRZ/fw/mkrP+RI0e0detWn2GjRo1So0aNNH/+/DTf9W6Lq1atUpUqVfTwww9nqsz0pLddN2/eXHny5FHHjh0l+c5v6uV+6NAh3XbbbRoyZIiOHDmi3r17q0OHDj4nTytWrNDGjRud9+fOndO5c+f0008/KSgoSOHh4Zo2bZrKly+vF1980fnN1q9fXzVq1Mj0idjBgwdVvXp11ahRQ6+99poT6t5++21J0scff6xcuXL5bIdnzpzRww8/rCFDhujEiROZKiezUi/bHTt26J577tH69ev10UcfqXz58nruueecctM7OWjWrJlCQ0PPe0y4kJMnTyoqKkqSNGPGDFWqVMkn/GZU79OnT6tdu3Zq0qSJ8/3MCA8PV5cuXXyml7LhxxviEhMTfeY5MTFR48aNU8+ePTNdliT997//VefOndMMnzt3rgoVKqTWrVvr/vvvV6NGjdSrVy/n89Tb8unTp9W7d2+1bt1aR44cyXC81NasWaM6deqoQ4cOqlatmho1aqTq1auf9zvXTMiLjY1Vt27dVLt2ba1evdoZvmDBApUvX161a9fWY489phIlSujxxx93EvK3336r3r17KzQ0VN27d9e8efMkSX/88YfatGmjgQMH+mwUWZV64/E6cuSIihYtqo8++sgZtmrVKnXq1En/+c9/nGG//PKL3n77befguGPHDv3111/plpV6Azhz5oxP2a+88ooCAwMz/P7XX3/t/P/w4cM+Z7jpzZck9e/fX5UqVdKePXskSatXr1bOnDl9WuT++usvtWrVSkWLFtXPP/8sSXr55ZdVuHBhNWzYUBMmTFCNGjVUrVo1HThwIM3ymjdvnm688Ua1bNlS48aNU6tWrdSkSRNnHc6ZM0eNGzfW2LFjJUmRkZF6++231bNnT+XLl++i1+H5pNx5/vbbb+ku288//1z169fXZ5995jM8ZQAYMmSIunbtmm4wkaR27dqpRYsW2rx5syRp586dGjp0qKZNm6aDBw864/31119q2bKlypQp49MSe+zYMZ+gu2rVqnRbTS9k9uzZKlSokM+Jz6RJkxQSEqL3339fUnLrhcfj0ZgxY9ShQwc1aNDA58CaVYmJiekGgFGjRqlNmzZOK82WLVvUpk0bNWvWzGe8nTt36vDhw5KklStXavjw4Tpw4ECa6W3fvj3NCVBMTIw6dOigp556SlJyKPjiiy9UvHhx/d///Z/PuHv37nXqOWHCBA0fPlxnz57NdKtBejvwLVu2KE+ePFq2bJkk35b9lP744w9nH/Hxxx/7BJTMGjx4sEqWLKng4GB16NBBS5YskSQdPXpUTZs21YABA5zllpiYqNmzZ/tsQytWrMhSeV6p53v+/PmaO3eupOT5L1WqlDp37uzTEpVSyoP+Aw88oHHjxikpKUmTJk1SkyZN9MEHH+jYsWOqVq2abrzxRhUuXFgvvPCCjh07Jik5GLdr107Dhw93tusGDRooNDTU2ScePnxYq1atSlP3lK3qKev1/fffq3Llyvrjjz8kJYe+hx56SIUKFXLGadu2rWrXrq327dtr/PjxCgoKUo0aNbR27dpsLMX0pVy233zzjcLDw9WzZ0899thjPq1i48aNU3h4uHMiKSVfzfEuOyn5JD29VrGMpN6PR0VFqVWrVmrdurWk5N9WRESEgoODnf1Dyu/Mnz9fr776qnPS9ccff2S5ZW3FihXKkSOHFi9e7DM8JiZGgwYN0muvveZTpncdJiQk6J133lHevHnP26CS2vr167VgwQKfYefOnVPPnj01ceJEZ9iIESPk8Xj05Zdf+ox79OhR51j1wgsvKCIiIk0jU0bHiJTz5l1mU6ZMUYUKFZx1mJ5rJuTFxcUpNDTUCSbeANCnTx+fS67jx49XuXLl9MILLzjD1q5dq6ZNm8rj8ahr167O8KzuJFNLufHs379fhw8fdjbS/fv3KyQkxCfkScnh54477tC2bdskSTNnzpTH43Farrwb4fkuw0yfPl3BwcFq1aqVHnzwQWfcU6dOqXTp0ho+fHia7yxZskQej0effvppluetUKFCeuaZZ5xAO3jwYJUuXVpScvi+/fbb1blzZ58AFB0draZNmyosLEyPPfaYJk2apCVLlmjGjBnOON4m/Oeee85pLZSkadOmKW/evE5rSkJCggYNGqTWrVtr06ZNio6O1tixY9WrVy+nNetSS7lDP3DggO644w4VLlxYFStW1JgxYxQbG6tz586pWbNmKl68uF599VWfs8Zp06apbt26zjRS7ozTa61YuXKl6tatq5deeklfffWVypQpo4YNG6pixYqqWbOm/vzzT8XFxalatWrq2bOndu3a5UwjPj5er776qjwej44fP56l+fzll1+cAC8lH7yqVq3qsy4jIyPVpk0bNW/e3GnpGDZsmNq0aaP27ds7l81Tz2dGjhw5olGjRqW5nJx659aqVSt169bNeZ+YmKgffvhBN9xwg3NpbfXq1apYsaImTJjg892U6y91K+iWLVucg/OZM2eUN29en53xmTNn9Oyzz6pixYrOsClTpqhu3bpOGMvKSUXKsg8ePKgGDRpo3759kpIv3wUHB2vlypVp6u31wQcfqFKlSpn+7aZ28OBBde/eXQ0aNNCyZcu0efNm9e3bVy1atHAO6jNnzlRoaKhPV5Fq1aqpYcOG6V5qy44ffvhB06ZNU40aNdSjRw9nW33sscdUvXr1dEPW0KFD1bx5c+fSV8oTgqioKPXq1Uv33Xefhg0bpqefflqHDx/WpEmTVLVqVU2ePFmJiYk6cOCAypUrp+nTp0tK/j3Xq1dPxYsX18iRI32Cesrln3K9pV7fb775pkqWLOkzbPv27SpdurQeffRRScktj3PmzNF9992ndu3aafz48Re1/DJy5MgRRUZGKjg4WMOGDVOTJk2UM2dO56RYSj42tGzZUg888IDze588ebI8Ho9Pt5rMyKg7yblz5/Tuu++qbNmyzu/ku+++U7NmzZyTKO/3JWnkyJEKDAxM04Uhs1dOvHr16qUaNWo4+4+pU6cqMDBQ4eHh2rp1qzPepk2b1KVLF+eE8MyZM9m+bL5nzx6nPmfPnlWFChW0efNmRUZGqkmTJipevLgmTZrkE1pnzpyp6tWrO1fy0luGP/zwg4KCgvTyyy87J/yStG7dOm3evNnnO3FxcQoLC/NZtum5ZkLe6dOnNXz4cDVu3FjNmzdXpUqVFB0dreXLl+vo0aM6evSoevTooQIFCqhOnTpq3Lixz8a7a9cu5c+fX8HBwWmayjNzYIqLi3OCWMrx4+Li1LdvX5UqVUphYWFq2bKltm/frtjYWIWHh2v48OE+KXvZsmUqVKiQM8x7xpwZx48f17333qugoCBNnTpVn332mdPfwtva88477yh37txOCPbat2+fnnrqqTQtGaml3Ii8P5qZM2cqX758znf/+usvlShRQqNGjZIkn4N8ymm8++67aty4sdMi8vLLLysgIEBff/21wsLC1LlzZyUlJWnVqlU6deqUdu/erbvuuktFihRRjx49dOONNzpn2suXL9cdd9yhvn37Skr+YaUsL7N9k7IiPj5eCxYs0PDhw/XYY49p69atmjx5sgIDA50+gu+//366Z4KzZ89WYGCgEya8Um47p06d8jmoPPHEE2rfvr169erlTP/48eOqVKmSHnnkESUkJDgHu9R+/fVXDR06VCdOnMhUy9K2bdt06623qlSpUipbtqwTvleuXKkGDRpo8uTJPuP3799fuXLlcsJUYmKiz6XZrCz/b7/9VrVq1dIzzzwjKfk39J///Ec9e/bU66+/7uyER4wYoXr16vn8fo4cOaKWLVv6nDW3adPGaXFKeZIUFRXl03IRGxvr9A197LHHFBUVpdjYWDVp0kSPP/64Tx1/+uknVa9e3TkA/frrr6pWrdoFfz8ppVwmkZGRGj9+vA4fPqzSpUtrwIABkqTff/9dNWrU0BtvvOFs0wkJCYqPj3cOBv/8848aNWrk9CFLHUhS9utJrxUgKipKw4YNc87+N2/erKCgIBUpUsTn8mvnzp3Vo0cPp9xVq1Y5/78YJ06cUPv27XXDDTfo4YcfVtWqVVWiRAlnvxAdHa3KlSvrmWeecYKfd97mz5+vqlWr6tChQz6/He//P/vsM4WHh6tMmTI+dX3ooYfUqlUrrVmzRsePH9c999yjZs2a6fvvv9eDDz6oJ598UosXL87Udvvyyy/rrrvu0kMPPeR0N1mzZo2KFy/u04IUHx+vfv36KWfOnBnuE1PW/VI4cOCA8uXLp1q1amnq1KmSkvfHAwYMUFhYmM9VgE8++UT16tXTm2++6Qx74403slRe6n7v//nPfzRlyhQnTB06dEjdunVTgwYNnPGefvppNW3a1FlW3m00KSkp3T6qFyr3zz//9Lmk/Pfffytv3rzOvLzzzjtpWuElaeHChSpRooRee+21zM5uuoE2Ojpa/v7+zr5w586datu2rZo1a6bAwED179/fOYlLTEx0ls2+ffuUL18+rVq1KsNj1s6dOzVz5kx17txZ5cuXd/b39913n0aPHu2Mt2TJEpUrV07Vq1e/YLeNf3XIS32w6tGjhzwej4KDg336TsTExOjuu+9WmzZttGfPHm3btk2lSpXS4MGDfZL0hg0bsvUDi42N1TPPPKNixYo5G2hiYqJiY2MVERGhO+64QytXrtTu3bvVqVMnNWrUSAcOHNCMGTNUs2ZNzZo1y5nWp59+qttuu83ZCDKSXkvB0aNHNXjwYG3YsMEZ1rBhQxUtWlSzZs1y5q1u3bo+LZaZdb4bIG699VZ17drVORBNnjxZOXPmdC6lpNckLiUfOLp16+Y01xcoUEABAQG6//77fcJ2UlKS7rnnHnXs2FGHDh3S/v37VaNGDTVv3twZZ+zYsfrkk0986nWpwl1605k3b55KliypsmXL+rQy9OvXTw0aNPA500o5H1LySUnKIJq6rJYtWzohZ+XKlVq4cKGOHj2qsLAw5c2b1+eSzkcffaSKFSs6XQ3SKy+zTpw4oXnz5mnQoEF67rnntG3bNj3zzDMqUqSIcxliwIABatu2rX766SfnewMGDFDr1q3VrFmzNDcGZOc3NXLkSDVt2lRz5sxR9+7dVa9ePQ0aNEjFixdX+/bttXv3bi1btkyNGzfWq6++6nzv1KlTKlWqlM9OPKNtYMaMGfJ4PNq/f7+GDBmiTp06SUpulbv11ludy9sjR45Uq1atfLqBLF68WAUKFPA5WcruzQbLli1TlSpVNHDgQJ08eVLz58+Xn5+fE9oGDBigpk2b+vTf2rhxo3r27Jlh1wuvDRs2qFChQs6ldCl5P/HVV1/pn3/+cdbNvn37lJSUpMGDB6tEiRIaMmSInn76ad122236/vvvJSW3upQvX15TpkzJ1nxK6a+LhQsX+lzaPHr0qBo2bKi7777bGfb666+ratWqaS67SWkPtCn3TYmJiRoyZIiKFi3qs/62b9+uunXravjw4UpMTNTixYvVunVrlS1bVg0bNvRpvc5o+zl+/LiaNm2qypUr67///a/69++vOnXqaNq0aUpISFD37t115513+nynV69e8ng8Tr/lCy2bjGR02T61uLg4jRkzRh6Px1mPkrRo0SI1btxYTz/9tM/47dq1U8uWLS+4XV2obp9++qlKliyp5s2bq3r16ipZsqQ+/vhjSclXA8qXL+/0T9y4caM6dOigBx54wNknZme/vXfvXrVo0UKVK1dWlSpVnD72UvLVoCJFiqTbn8+7DGNiYnxa9jLy9ddfOzeRZLRvGzVqlG688UanvO7du+vGG29Mc7L5+eef66WXXnJOXmJjY33mPTo62rmimHpdh4WF6YEHHpCU3Jrv8Xg0YcIEdezYUbfffruefvpp5/dzvisL/8qQl17K3blzp/r166d7771XDRo08LlctXz5chUpUsQ56B44cEDly5dX5cqV071TNTv9t3788UfVrl1bzz33nDPs8OHDqlKlinMGuX79epUqVUr16tVzLoPcd999Cg4O1r333qtXXnlFxYoV05AhQzLcyFOv6N27dzs7tYSEBCe1v/baa7rhhhvUrVs3NWvWTGFhYU6ZK1askMfjydbdYocOHdL999+ve+65R6NGjXL64fz000/yeDxOy1pUVJRq167tXE5LPT/nzp1TUlKSli5dqvLly2vixIlatGiRgoOD5e/vn6aFYPXq1T476sOHDys4OFgej0cvv/xyusvmUkh9KS91n5CBAweqdOnSPq3Chw4dUsWKFTV69Gino3xGdUu9k/CO99FHH6lgwYJq0KCB/P39ndAyffp0BQUF6d133/X5XsuWLdW5c+cL3kl1IW+88YaKFSumqlWr+vyG2rZtq7vuukvHjh3Ttm3bnLvCR40ape7du6tJkyaaOXOmQkJCnL5c2eHdTjZt2qSOHTuqbdu26tixoxP4ly9frjvvvFP33nuvpOQbhMqXL68ZM2Zo586deuuttxQcHOzs3FNPN/V2WLZsWRUsWFA333yzT6tBWFiYevfurdOnT+u3335Tu3btFB4erm3btunYsWMaNmyYmjdvnqVO4Knt3LlT99xzj+68806fS2eS1Lp1azVq1EhS8v6qY8eOKlOmjHr37q2IiAgVKFBAAwcO9DlRSO+Ac+jQIQ0cOFA1a9aUlLz95MqVS+XLl1dISIg+/PBDZ9yffvpJderU0TfffCMpeZ+WP39+nxPCefPmZesAnFG/SkmaNWuWbrzxRp+uBF988YXq1q3r062mfv366tSpU7ot496WzY4dO6pz58568803nd/Czz//rKZNm2rw4ME+33nllVfUsGFDp/UtISHBJ9ykrG9687xkyRI1bdrU6TO1adMmFS9eXLfddpuk5GV10003qX///lq7dq0WLVqku+66S19//bWzjC9WRss05TFy165dqlixos/NUDExMRozZozq1Knj0yiwadOmdE9OM1v+6tWr1aZNG3Xt2tVnH9W3b181b95cS5cudYJ3lSpVnP60Y8eOVZ06ddK9JJ8ZZ8+e1V133aXOnTtr7969Wr58ufr27atq1apJSj7eVKxY0blUnl1RUVFq3bq1sy+UkluT+/Xrp3Hjxjl9VuPj41W+fHkNHDhQkrR06VJVrlxZQ4cO1fbt2xUVFaW3335bVapU0cSJE9McV+Lj4/Wf//xHwcHBqlu3brrhc+jQobr11ludhqXx48ercePG6tq1qyZPnqz3339fQUFBPq216flXhjyv3377TWPHjtXChQudZst169apRYsWeuihh5zx1qxZo6CgIKfj+/Tp09WrVy89++yz2rJly0XVIeXKmThxosqXL+8cHH/++We1bt1a69atU9u2bVW4cGE9//zzPq2MJ0+e1OzZs9WlSxeFh4dn+vEos2bNUoUKFdSgQQPdfvvtWrRokfOD+/7771W9enWnVev333+Xv7+/Jk2a5ISO1157Ld3O5yml3rH99NNPKlmypDp27KhJkybpvvvu8wkDd999t0JDQ52N/+uvv5bH43GCYHo7pO+++041atTQc88954TrFi1aqFmzZj4dTo8dO6bcuXPr//7v/3T27Fm99dZb6tOnj2bPnu2zDi826B06dMi5HJhyWpGRkerdu7cefPBBvfvuu86lrfXr1zvhPuUBd/z48apevbrP2fP5eJe190A9ffp0eTweVahQwaezc2xsrNq2bavevXv7hLC1a9eqbNmyPnePZ1bK8RMSEtS1a1cFBQU5/UKl5Bah0qVLO5dyYmJi9PTTT6tdu3Zq3ry5/v77b0VHR8vj8aR752p2TJ06VcWLF3furJSSl9Onn36qqlWrasWKFTp79qyef/55lShRQkFBQSpevLhPy3hKKU/ezp07p23btsnj8ShHjhzONur9PX/zzTcqU6aM8xv69ddfVadOHVWoUEFlypRRuXLlfFoys6t9+/by8/NzDoje9b9582b5+/s7rR8nTpzQ9OnTFRERofbt22fpbvEVK1Y4d50++eSTWrZsmf7880/df//9atiwoXPiNHbsWBUvXtz53pw5c1StWjXdeuutaTqTZ1bqx60sWrRIERERPjeTvffee2rQoIHT79CradOmqlWrlnOz1ty5c9WlS5c0/UoTEhI0duxYFSxYUBERERoyZIhatWrlc5fj6NGj1bhxY5/W7pMnT6pmzZpOC2rqaUrnb1GaOnWq2rZtK0mKiIhwLsV5g2JCQoIWL16soKAg3XTTTcqdO7dzQnqxEhMTNXToUOc4t3//fv38889pWjW9rUBvv/22/Pz8fK4Q/frrr2rbtm2a1sbMyOiRO2fOnFGlSpWUI0cOn21027Ztuuuuu/T44487gTwkJMQJQceOHfNpPT3ffKe3j1+5cqVKly7tzPsHH3ygwoULq3nz5s6l8U8//VR58uTJUohNPc9ScheAJk2aaNy4cXrvvfdUpEgR9erVSyVLllSTJk2cVvOPP/5Y/v7+Tr/wGTNmqE6dOipdurRuv/12FS9e3OckK6XHH39coaGhmjt3rqZPn+7TzebMmTPatm2batWqleaRMt593MMPP6zZs2en6ZaVnn9lyDt37pwGDRqkwMBAtWjRQjVq1FCNGjW0a9cuJSUlacKECQoJCXFaqnbt2qWIiAjlz59ftWrVUv78+TN98E0tvT5PiYmJev311/Xyyy+rbNmyTn+a06dPq3DhwvJ4PLr//vt9ro2vXr1aS5YscX4oqZN8ep16vSvZe4Y4adIk7d+/XyNHjlRoaKhzc8Irr7yiatWqOTvD6dOnK1++fKpYsaLPWVtWJCYm6sknn9TQoUOdYd4g4u17d/ToUfn7+zt9H2JiYtSqVSsNGTIkzTzFxMTowQcfVP78+TV8+HAtWrTICZ07duyQx+NJ8wMYPXq0AgMDVa5cORUrVkwLFy7M1rxkZMOGDWrcuHGaO56mTJmiQoUKqUuXLnrkkUdUu3ZtPfTQQ06o83ZmTh1uypUrp4iIiPM+NiR1q7R3Xa9atUpTpkyRx+PRkiVLfA6WX3zxhUJCQnxuRpGSuys888wzmQ55v/zyi3r06KH+/fvriy++cML5ggULVKNGDU2aNMln/EGDBqlBgwbOM/FSmzBhgho0aJCmv9H55j093t/C0aNH1aVLF1WvXt2nc//u3bt9+nJKyTcPeMOAV3rPcztx4oQGDRqkRx991GkB79Wrl0JCQtLU55577lGrVq2ckH3y5En99ttvPnehZ5d3HleuXKmqVavqiSeeSBMsHn30UVWpUsVn+0l9w0hmWtVOnTqlcePGqVChQmrbtq2zjW3cuFEdO3ZU9+7dnboUKFBAI0eO1IcffqiGDRtqypQpF/XIDK/Y2FhNmDBBpUqV0p133qlSpUqpRYsWkpJPrKpVq6YXXnjBp4tG7969VbJkSak17C0AACAASURBVD366KNOndMLFt5nGKa8MtGvXz/lypXLeSbo9u3b1bFjR/Xu3dvn5PGXX35J9xl6qZfr5MmT9cADD/j013rnnXdUs2ZN5c+fX40bN/a5u/jXX391ThajoqL0yy+/+ITTiz0ZTUpK0ieffCKPx6OIiAjnUl3K5TNixAjddNNNOnz4sKKjo51n0qX0xhtvOH31smPPnj2aPn26tm3b5mynH330kW644YY0DRbPP/+86tWrJyn52Pjiiy8qJCTEp+/x+ZZL6huUUq63devWqVOnTvryyy8VEhKicuXKaebMmWluVAwNDfW54S2zUu5Lzp07p4cfflgdO3ZUy5Ytnf1BZGSkBg8erNtuu83ZBzZq1EgtW7Z0puPdFtLrWpNynPbt26tLly7auHGjfvzxR23evNnZbr/99lsVLFhQ9erVy7C/3YkTJzJ9HPhXhryVK1eqevXqPnff5ciRQ3369FFcXJz++OMPdevWzacFIDo6Wp988okmTpzo05KW2UsP+/btU5UqVdKc0f7xxx8qXbq0GjZsqBEjRqh8+fIqWLCg03dk9OjRKly4sM8lhmPHjunee+/VhAkT0qyIjO6yjI6Ods507r33XqcjeHx8vLp37678+fM7D6ocP368c/ls27Zt6tKli+bNm5emv1pqqX9gx44dU9++fZ2DYcOGDfX+++9rz549CgsLU6lSpTRt2jSfFpKRI0eqUKFCzoExo+dKrV+/XiEhIRk+2HXAgAGqWrWqM8+nT59W/P9j783jaszf8PHXIaS0l7RobyqnXfum5bQXbUpla7eFGkqiGSFZIoyGGDIj0dgZO0NjK0vWiCwxUqG0UZ061/ePXs/7c55zTqk0n/n8ft/v9Q+dTs/6Xu7luq+bzcbdu3f5qggHKk3L4XD4NrSXL19iypQpNMMvJiYGioqKhJv0999/w8HBAXPnzqVpGt28eZMIAn8Nt2/fRkREBObOnYujR4+SCe3l5QUrKyu+Evjp06cjICCAZnD1dlKz2WykpaVBXFwcUVFRmDp1KqytrbFgwQLyncjISHh7e9N4THV1dRATE0N6ejoxUqqqqrBu3TqwWCxISEj0KhLNa9hSY57NZvPNx+PHj8POzg7p6enks7a2NsjLy5NqSN73v3XrVkRFRfGdl9KqcnNzQ15eHhErfvbsGYYPH06KS6h7Ky8vJ3ppfa2y60sF4Lx58+Dq6krSxdzVoZQUTW+P3x0ePHgAGxsbYlhRyM3NhYmJCUlZrl+/HqamplBSUup31In3Hebl5SEwMBChoaEkjf7s2TMICwuTitKsrCyMHTsWK1euRGNjI548eYKQkBBERkbC3d0dpaWlNHkL3hQUVa157tw5MJlMaGtrIyAgAFpaWjRdNlNTU4HE+u72gerqaixYsAAaGhqIjIyEkJAQYmNj0draSopiuHXYgC6i/+zZswU6A70VKxcE3nlz7NgxMBgMyMjIkLEMdKVc9fX1YWhoSNuvzp8/j6FDh9KM4b6MI14a065duzB8+HDo6elBTU0Nq1evJr9zcHBASEgILZKUn59Pk1/qD9WhpqYG/v7+YDKZMDMzQ3Z2NlpaWkgVvaioKL7//ntyDg6Hg3PnzpH0+L1790jRWm/QXQHEpUuXYG1tDWlpaVoU+NatW3B2dib7861btzB06FA++ayvYe7cuTA2NoaNjQ0kJSVhaWlJop5NTU0DGuD4nzTy0tPTMWfOHABdFUEGBgbQ1tam6YLt3r0bNjY23VYH9Zd3x4ucnByYm5sTL+327dvw9vYm1UOdnZ3Q1taGnZ0dZs+ejezsbKiqqsLBwYGvsrI7/PHHH2AwGMRAjYmJwd69e5GVlUU2Le4IXXV1NaZPnw41NTWIiYkhLCysX/d78+ZNmJmZkQrE2NhY6OjoQFRUFPHx8STy1tHRQZTuAUBDQ4NPM4vNZuPBgwewtbVFc3Mzrly5AnFxcbx58wYlJSXIz8/H6tWrieHU2dkJaWlpTJo0CbNnz4a2tjZfpOyf0r578uQJbSOgJlRxcTGsra2hoKAANzc3WFtbk9RMTk4ODAwMaBIwFL7mSGRmZkJUVBQzZsxAeHg43NzciAjn33//DSEhIWzbto22Ody+fRuqqqpYtWpVnzlSDx48wKRJk2gcND8/P6iqqhJC8Z07d2BpaYkffviBZuBcvnyZT1ooIyMDixYt6pVQLPc9XLlyBZGRkbh8+TJts/nrr7/g5uaGY8eOgc1mY86cOVBUVMTWrVvx5MkT7NixA+rq6nzpvcOHDyM1NRUXLlzgE+5taWnB+PHj8cMPPwi8rqVLl0JRUZGvsp5KifVFTon7fXRXQLV7925MmjQJ79+/x7Nnz2BtbY3k5GSyYVDHOHXq1FfTWD0ZlNw0gLy8PEhLS9Pee2VlJWJiYuDq6koiMX///Xe3HSL6AsqxLS4uhpiYGDQ0NGjGWWZmJqSlpUkGZs2aNZCXl4ehoSEGDRqExYsX49GjRxg6dCitct/FxQU6OjpISEigFSC9fPkSJiYmSE1NRWdnJ86fPw9paWmkpqYC6HJak5OT+fiaFHj17jIyMhAQEICgoCDyDi5duoSRI0eS9HpKSgpMTU2RlpaGe/fu4eLFi7C0tISjoyOtk8W3gvsdv3r1Cq9fv0ZpaSkSExMxaNAgGnXg2bNnOHr0KF926MuXLxg/fjzGjx/f5/Nzz9vKykp0dnZiwYIFuHDhAtra2pCcnAwbGxuiBHH+/HmMGjUKM2fORFlZGerr6+Hn54fJkyfzjdfeGpp///037O3t4efnhxs3bmD37t2wtbUltkBQUBDc3NxohuWjR48QHByMX3/99ZuqlouLi5Gbm0s79sqVKyEvL0/Tiuzo6EBSUhKCg4PJfAoJCcHEiRMFyu90Z/A3NDSgpqaGjO+goCAEBASgpaWlWxmf/uJfMfJ6atkEAMnJyTAyMoKfnx9kZWWRmZlJUmfUIl1VVYXQ0FCEh4fzRTj66klxP8iPHz/ijz/+IBtafHw8zMzMaN8/cuQIVFVVSarg8ePHWLVqFfz8/ODo6MiXZusOt27dQnR0NNLT02kkVn9/fwwbNgxjxozB4cOHyf3U1taisLAQzc3N4HA4KC0t7XOV1NatW0m1Yk1NDXx8fMj1bt68GZqamjR5CqCLgBwbG0vOxe39cD/rmpoaDB8+HPfv30dDQwOmTJkCMTEx6OnpISAgANbW1pCUlCQk9D/++ANRUVGwtbXtdYu1vkKQobhkyRIYGxvTum9UVVXBwsICs2bNQnt7O06dOgUFBQXSoaCjowOTJ0/ulqfVXWqtsbER7u7utIUiIiKC1h5u8eLFGD16NO7evYvW1lbs3LkTHR0dOHv2bK83Y16vmTKYT506BSaTCXV1dbi4uMDV1ZV4wWlpaTA1NaXJjFDgfsd9NbabmpoQHh4OcXFxRERE4M8//0RjYyPYbDa8vLwgLi6OBQsWkOugupbIyMggKCgIGhoaNJkHikowYsQI2jzhNrDevHkDKSkpEpGluD3UPTQ2NkJFRQUTJ07E3r17wWKxuu2+0huUlpbCysoKTCYTjo6O2L9/PzgcDurr66GjowMFBQVs3ryZPLvMzEw4Ojp26/H3RLCncO/ePbIJca9ZZ86cwYMHD9DQ0ICQkBCMGzeOdozCwkLo6el9NdLfHXivra2tjfA1qQj0ggULoKOjw5dSV1FRQVxcHDlGWVkZ9u/fj+vXr6OjowM3b96EkpISKcSKj4/HzJkz8dNPP8HOzg7jxo0j97p27Vro6OgQSs3p06cJXYaStxIE3o2SGje7d++GvLw8X3ovIiICdnZ2ePnyJRoaGpCbmwtZWVmYm5tDTk7uH2uh2NjYiPDwcKioqGDTpk0ksBAZGQlNTc1eHaM7iaXuwD2+bt26BQMDA6iqqiIsLAyWlpaEm1xZWYmoqCi4uLgQ4yY6OhoMBgMsFgtWVla0IsSewBvtpP5/+vRp6Onpkc9Pnz4NISEhhIaGgsPh4Nq1a7C1tQWTycSPP/6I5ORkUnzYkxgwL3jXs6SkJIiLi0NbWxu6urpkXy8rK8P48eMRHh5Oc4RnzJhB0tIAf0u9noy027dv882n1tZWmJmZ8Wl9DhT+tUget84Wr0dy+/ZtyMvLw9nZmfa7d+/eYfbs2YS/8y1l4IDghXXJkiVQUlIim3lubi4MDAxo1S+1tbWwtbWFkZERjU9DVZRyf68n3Llzh4TjuaN+xcXFAjlrGzduRERERK8Vunnv7/Xr1xAREQGDwcCxY8cAdA1wKir59u1b+Pj4wMbGBoWFhXj48CE2b94MFRUVJCcno6WlhcadaWpqokVAKioq4OLiQis/P3PmDF6+fEm4BbNnz4alpSX5G+5iBkEcq4ECd1q1vLwcEydOxJQpU4ihkZOTA3V1dfJzUVERZGRkoKioKFDWAeh6T9xGhSA8ffoUCgoKxHDU0tKCgYEB32Y/ZswYWFpaYtiwYXB2du51quPZs2dwc3ODubk5Vq1aRYsuUGkdqqfsL7/8glGjRpFo6rt37xAeHt5vonJ32LNnD8aOHStQRDcnJ0dgT90FCxbA09OTVOdR4HA4RCKJ4oZSVeZCQkKkCOPmzZswMDAQmOagxtRff/0Fe3t7qKmp0binPUHQeLx16xa0tbUxd+5cHD58GLNmzYK4uDjy8vJQW1uLNWvWEM4Ot5FJFQH0tfXbkydP4ODgAD09PWzZsoX8/dOnT2Fvbw8FBQWSOjx58iTU1dVpkipNTU29zir0Fps3b4aTkxMxxuvq6qClpYUlS5bQOHFUloI7hchms1FVVYWbN2/CxMQExsbGSEpKwvbt2xEYGEgMlaKiIhgbGxOpoYMHD2LIkCF4+PAhPnz4gISEBKSmpmL37t3d8r64/19eXo74+HhMmDCBfDZ9+nRYW1vTjMS3b99CTU0NGRkZxNmvra1FeXl5n1pQ9QUPHz6Evr4+kS6qrKwk1/7gwQNISkoSDm1fC6++hg8fPqCkpATTpk3Djz/+iB07dsDJyQmKioq07x06dAg2NjbESX/z5g1UVFSQkZFB0umCQAkx80ZYeQtstmzZgoSEBNy5cwdWVlZQUFDAxo0baUbZy5cvkZCQgClTpsDFxUVgK77uIGg/bG5uRlJSEsrLy/Hq1SukpaVhxIgRxGjcsmULdHR0MG/ePLx8+RJv3ryBg4MDkpOTe9yrbt68iQkTJmDOnDk4ceIEeWdTpkzBjh07yPdu3boFHR0d6Ovrd8u/+1b8K0bes2fP4O7uTksBAl1csx9//BHPnz9HREQE1NXVUVdXh8bGRnz69AkLFiyAhYUF32Dp62TjzcPfvHmT8N3a29thbGyMefPm4cuXLyguLoa7uzuSkpLI99lsNmxtbQkplgI3p+Ts2bNwcHAg7Xt4BwT185IlSyAtLU0TTwT+QxYPDg5GQUEBfHx8MHLkyF5X51J4+/YtDhw4QNJEUVFRkJKSwty5c/Hzzz/j1atXkJSUJEbsrVu3MHPmTCgoKMDAwABqamrYv38/3zM+fPgwwsLC4OXlRfvdmDFjiJAu79/U1tbC2dlZIBF4IBdM7nebn58PdXV1jB07FlOnTiWGxy+//AJ7e3uySR0/fhwjRozAgwcPwGazkZqaipkzZ2Lbtm20hZ372C4uLvDx8SGG1cOHD5GYmIicnBziAZeVlcHJyQl6enqQlZXFqlWriFdYX19PnntFRQX27dvX5yrHyZMnY8aMGVi2bBn09fUxffp0co2LFi2Cubk5ebYFBQUkrfatVefdgcPhICUlBeHh4ejo6MDjx49x48YN/P777wKdMm4dN25DnHs8fPr0CePHj8f8+fOxePFieHt7486dO5gzZw7U1NTI94yMjDBr1ixad4S2tjbs37+fZABqamq+yr+j5uYvv/xCq+Sl+KW5ubnQ0tKiGWtxcXFwc3MTWLRC3Ut3RQA94cqVK9DU1ER0dDQeP35MKBSfPn0Ci8VCVFQUzZiuq6tDYmIipKSkBpTusHv3blr3noaGBkRERGD8+PHEgMzKyhKodWdnZ0cromlubkZAQABkZGTw3XffQVVVFXZ2dlBUVIS7uzvZEJubm7Fu3TooKSkRLq2zszNGjx4NMTExWFlZ9crRv3HjBiwtLREQEABNTU0oKSkRDtfVq1dhbm6OFStW0IynVatWQUNDQ6AM1UDy7riL7SwsLGjf48by5csxYsQIMravXbv2VemM7s7Pi7i4ODAYDHh4eBCn/eHDh5CRkaFFlz59+oSUlBRYWlqSdSs1NRVGRkaE29vdOm5ubk74ok1NTZg6dSqYTCbmzp1L6AW//fYbGAwGJCQkMHPmTFLY0tnZicuXL9MCLX2lsHC/r2PHjkFOTg5mZmZgMpkICwsjwaSamhqYmpqSyu0PHz5g6tSpEBYWhpOTE8zMzGBjY9Pjs2ez2bC3t0dUVBTCw8Ohr6+PkydPor29HQsXLoSxsTGuXLmC+fPng8lkIjY2lhzvnwhy/ONGnqDc9OfPnyEsLEwqYO/evUtkC6gIx9u3b2FhYQEVFRU4OTlh9OjRMDIy6pPi/Nfw4MED7Nq1C87OzrCzsyPps507d0JNTY1suKtXr4a2tjZWrVqFyspKFBYWwt/fH3v27OFLT1B4+PAhvLy8EBMTQ9NS4+bRAF2DSFpampRKU8+rqakJBQUFcHd3h5ubG0JDQ79K8he0qK9cuRKWlpaEt3L8+HH4+fkhJycHvr6+SElJQVxcHK01HHVdvKH3zs5OvHjxgpSS3717FyoqKoiNjSWRz++//570LgS60ogFBQWYM2cOZGVl4eHhQSbvP4ny8nLcv38ftra2+Omnn7Bp0yZYWlrCyMgIb9++RUtLC6ZPnw5fX1+SlvHy8oK8vDwUFBTAZDK7NYSod3Tu3DlYWlpi3bp12L9/P+Tk5ODi4gIVFRWYmppi//79YLPZGD9+PAwMDEi0oLOzE2w2G5s3b+5Xq6Pc3FxkZWVh3759CAgIIAvzb7/9BisrKxKp++mnnyAnJ0ca38fHxyMxMRG//PILn6BsXyDo+9zdFrZs2QI3NzeoqKjAwcEBzs7OEBUVpVUod3dO3s+pZz1nzhyMGDEC4uLiJGr19OlTjBw5kvDwjhw5QlrMVVZW4suXL9i6dSvc3d17TOcJuhcACAgIwLhx47BhwwYoKSkRYnRKSgq8vLxoUezXr19DS0uLOA09LdaC7r07wyEnJwf29vbkZ+453p2xeu3aNfz444/48uVLrzcN7g48vBv1u3fvEBISAhsbGxqn8cSJE3BxcSGRYgCwtrZGdHQ0LdsgqNhs0qRJmDhxIqZPn46GhgbU19cjOzsbwsLCtGj048eP4eLiQjisTU1NOH/+PF/Etrv7pETVo6Oj8eDBAxKZ8fb2JgZ3YmIirSMDBQcHh37rugkC93Oor6+njYOtW7eCxWIhLy8Pq1atIhmWpKQk1NXVoa2tDYaGhjAyMoKamhqtaK036KkrUHt7OxQUFODu7k7GFJvNxurVqyEiIkIbZxcvXoSVlRVJaXZ0dMDY2BhRUVHEsRV0z5Rk0JEjR5CcnIwJEyYgKysLDg4O0NbWJt83MjKiFVQCXRmJgICAb9LnBLrm6IEDBzBx4kRs3rwZu3fvhoaGBi1zwuFwcPz4cTAYDPLuk5KSIC8vj4yMDJSXl391TpWVlcHOzg5Pnz5FVVUVlJWVia1z584dREZGQlpaGg4ODsjOzsa2bduwbNmyrzZI6C/+K5G86upqvgUpJCSEVPv99ddfyMjI4GvU+/HjR5w/fx4bN24kETHg263dzs5OpKSkYNCgQZgxYwYsLS0hKipKW6ycnZ0RGBiI9+/fo7m5GTk5OZCQkIC6ujqGDx/ebUSts7OTbHbbtm2Di4sLUf7mnuQnTpwgJNbs7GxSpMB7fxwOh0/jiRe8z6OoqIgUarS0tGDfvn0QFxfHoUOHcPnyZcyZMwfXr1/HxYsXISoqirFjxyIhIYGPfM5dFfnhwwdMnz4dK1aswKpVq8g1Xbt2DVFRUVBVVcXjx4+RkZGBsLAwYpB+/PgRO3fuRFBQEK0abSA9Ft7Fi81mQ01NDSIiIoiPjyeft7a2QkVFhYy7U6dOwdHRkRjYLS0tKCwsJNplvbnWuLg4TJw4EUFBQYQvVl9fj6ioKNjZ2aG8vByHDx/G2LFjMXv2bDx//hyVlZVYsGAB6Ufa22dRX18PHx8fjB49GkwmE8rKypg+fTr5fW1tLebPnw8bGxvU1taiqqoKpqamUFdXh6SkJMaNG9enZtw9oampiaR5uSkV1Ji5desWNm7ciCtXruDRo0d48uQJrKysaBV6vQXV9kpHRwehoaFkMWSz2cjOzsbQoUNJhCM9PR3GxsZQUVGBgYEBpKWle902EKCPpRs3bkBERATDhg2jVaLu378fI0aMIDqG1Pvz8/PrV6cZ3lZR9+7dIwYI1VM2NzcXCxYswIwZM2BqaoqYmBjyN73tjtAdYmNjMXXqVJo0TmVlJaqqqsi1HTt2DPb29jTxYg6Hg1mzZsHa2po4u4cPH8awYcPInOK+Nm46BtU3lbtIoLOzE2ZmZkTyBegaT/n5+QKb0FO/5/6XF+fPn4ewsDDNINq+fTssLS1J+pOS7Jk/fz4tav8taxSbzcbFixf5rqu9vR0zZszAmDFj4O3tTRyyly9fIi0tDRISEggMDMTChQsxZ84cWFlZEYHft2/fYvny5XwtB78G7vugIuAbN26kRcY2btwIMTEx0pkI6OIpGxgYIDo6mnzW2dnJR8PYvn07PDw8vhqEiI2NhbS0NHx9fYlBWFFRAW1tbaIHePToUYiKimLy5MnYtWsXVq9eDQUFBVLE1FvwBpc4HA5cXV2hqKhIeqIDXVJWDAYDJ0+eJN9tbm5GSEgIEb2mRKUpWRRu2ZbuxoiSkhK8vb0hLS0Nc3NzPs7gx48f0dLSgqioKERGRnarQjEQGHAjj3dQNzY2wtramrYQdHZ2YvLkyYTA2pdU3UCk9SoqKqCrq0sjnIeGhsLe3p54iH/99ReUlJSwc+dOsom9fPkSFy9e7FXPTkrSJTAwEH5+fmRiVFVVwc3NDcOHD6dF7wwNDQXKQnwNvJwTbW1tjB49GpKSkli3bh0xxtasWQNtbW1s374dVlZWZMHcuHEjREVFIScnR+6Lt4VQcXExzp8/D3NzcwwbNgyXLl3iU4ufOHEigoODwWKxwGQy+TTzuDFQqdmejnPy5EkwGAy+CClFoqYWjAULFmDs2LECOSXcUZPuxEEfP34MU1NTCAsL0xbIW7duwc/Pj5TaFxQUQFVVFUwmEyoqKjA0NOxWj04QJk+ejPj4eMyZMwdtbW14+fIlEhMTIS4uTksznT9/Ho6OjiRyW1NTg/z8fD5twL5sYIK+GxcXB1NTU9pnGRkZkJCQEJjievfuHUxMTLrlN3YH3qpcU1NTbNiwgVxTdXU1TExMiHHFZrPx999/49ixY8jLy+v1eXi1DOfPnw8WiwUPDw/o6ury8QiZTCamTp1Ki3y4urqSQp3u8OrVK76qYaDr+bi7u5MoTUBAAIqKitDc3IyUlBQoKioiIiICS5cuRWZmJhQUFJCZmQmg/8YI9Xe7d++Guro6Dh8+jM+fPyMyMhIjRowgHEKgy6hPTU2Fubk5zTg4cuQIxMTEMGvWLLDZbLDZbERERMDDw0NgZoH7MycnJ3h6etJkjS5duoRBgwbRlA5ev36NnJycbsn1vMUp3EbInTt3oKWlRaP41NTUICQkBNbW1sTpyczMhJ6eHl9hVX/bJm7ZsgUMBoOvybyRkRFcXFxQUFCATZs2QUREBHv37iXPhZenNn78eCxdurRf18E9d1pbWzF//nyIiYlhwoQJsLa2hp6eHq0zh6amJk1Si8Ppal/GYDAEdmTozTpeV1dHWnN9/PgRGhoasLKyorXy+vXXXzFo0CBSVLRv3z4EBwfD2dkZJiYmfE53T+jpOZ05cwZqamokKkzB398fFhYWtAwTZfxdv34dtbW1mDJlCuLi4sh3uMcx9/8pW8He3h5xcXHIy8vjmwfc11hfX99njm5f8Y9F8p4+fUpurqamBgEBAbC1tSXpWIq/0VsMZOTn4cOHkJKSoqVa7969CxcXF8TExNCqh0xMTASW5LPZbGzcuJGvlQ7QtWAMHjwY4eHhGDNmDERFRQm3Ye3atZg+fTqf5X7mzBlaiPhr4B449fX12L59OxITE/HDDz+gtrYWK1asgJ6eHgmrA11FD7GxsZCRkcGUKVMAdA3K3377jU+bjroPCQkJREVF4cyZM8jNzQWDwSBpXO5Ck8bGRmzduhXq6upgMBgCjaaB6jPLiyNHjiA8PBzJycm4f/8+MXrc3d1ha2uLtrY22rmlpKRItev169exZMkSgakGCtyL2YcPH1BWVkZ7/uvXr4eSkhJfU2wqrUcVl1RXV+Px48cCpXq6Azd3k8FgIDY2lvyusrISGhoatFY+ra2tWLlyJVRUVGgaeILupTfn5p131HPMzc2Fr68vampqUFNTQ3pKckfcX79+jYMHDyIjIwNycnIICAgQWFDSnUfMS20AuqIBHh4eZO5yOBwcO3YMQkJCA5Jau3//PhYuXAgWi0XGub6+PmbPnk2L8ly7dg0SEhLw9/fHb7/9huTkZIwcObJHAjoABAcH0/i9FKZOnQofHx+8ffsWz549Q3JyMkRERGjN3LnBYrEGtBrP09MTkydPxsaNGxEaGoqioiL8/PPPGDx4MElBFxcXw8PDg2zawH+khZycnIgcBBVV5Y3i8Y69CxcuQFlZmdZ3G+jSCWUymT1ujrw/l5WVwcrKCtra2lBTU8OcOXNQVlaGyspK2NnZYeXKlbTjpaamYvDgwcQZam9vH1AqEAB89913iI2NJfP/8uXLtLn69OlTDBs2DPb29jQ6wadPn9Dc3Iy8vDxoamr2qbigO5w+fRr29vY0R1RHRwf+ivU8ogAAIABJREFU/v5knJ85c4avkwXViaW1tbXbPbinvfnly5dQUFAglew//fQTREVFad18qB7BlKgwdby+VMzy4uDBg3B3d0dkZCQt6xYbGwsXFxfa3k91W8rJyaFFhl+/fk1UHwoLC+Hp6UmycgCIQzR16lSalNu1a9fAYrEEBk3+DXyzkce7Edy/fx/GxsZQUlKCm5sbyaO/efMGGRkZkJKSQn5+Ps6ePQt7e3vSEmQgIWgj43A4ZJJfu3YN5ubmfB5CYmIiFBUVyeevX7/GuHHj+PSQKF4K1TSY+x5evHgBAwMD7N69Gx0dHfj48SNcXV0xbtw42gQThKysrK8ObO576+jowJMnT3DkyBFoampCTU2NVkU3ffp0+Pj4kAH99u1bwnsZOXJkj6TllStXQldXFwcOHMCbN2/AZrPx5s0buLq60hS+AfokP378OJSVlWmSId8C3gWEt3VVXFwcJCUliRK5iYkJli1bBqDLcB88eDB27txJJlppaSk0NDRoWmK9RUJCAkaNGgUmkwlfX1/Cs6ivrweLxUJERAQtKpGVlQV5eflvIsBz/62GhgbCwsLI4sHhcJCXl4dBgwbRznvr1i1kZWXxRQX6Au6Fqba2Fps3b6YZaHv27MGYMWNIccO5c+doldJA11ygWmt1J9/BfR5u+Qfu915UVIRFixaBw+GgrKwMZmZmWLJkCal8bGhogJOTE3FcegNBsiCrVq2Cmpoa3NzcUFVVRb6zd+9ejB49GkePHqXJshw7dowUSFlYWPRoZHbXWxfocjqVlJRIdHn37t1QVFSEiYkJreKupqYGtbW1SE9Ph6ampkAjvq/gTq8rKipCXV2dluFYuXIl5OTkyBqYl5cHOTk5TJkyBcuXL4etrS3279/Px7Nta2vD/Pnz+TjL79+/R3h4OIn2hoSEwNXVlcZ/ffbsGZSUlGjt/oCud9ba2spXDd7Y2AgXFxdER0ejpqYGt2/fRmBgIGxtbdHR0YHk5GRa5wKgi2fl6uoKR0fHPvE1ewNqzp4+fRqDBw8mRlNTUxNqamrQ2NiISZMmQVZWFgsWLIC8vDwWLlyIpqYmVFRUICUlBRYWFpCTk6NVSfcVz549I3I6bW1thGN+9OhR6OvrQ0FBAdra2li5ciWJrHl6esLU1PSryhDc4J1Lv/zyC3F4qSgYpffJ4XBgYGBAo5kA/+mN3h+DltuZoKhY0tLSWLp0Kfz8/KCoqEi6VD148AAWFhZYsmQJjUK2aNEivnU0MTERoaGhALre6axZsxAWFkaimmvXroWhoSGWLl0KBoNB7rmgoABOTk49dr34b+KbjDzuBYv6/+LFi7Fo0SL88ccf8Pf3h4KCAk1ENT09HV5eXmAymXBychpQ+QZuA6i9vR1r167tVjrA29sbERERNI9i8+bNkJSUxKRJk/g6I3A4HDQ1NZGuENT9urq6wt3dnXzv/v37GD58OG3h+Ouvv+Do6IiEhIRv5s9QePHiBYYOHYpJkyahqakJ8fHxkJeXpz3P0tJSWFhYIC0tjQxoqidiWFgY36ZMob29HdbW1khLS6Nda2dnJw4dOgRlZWVa029eWFhYEBX/gYjAdnR0EMkX7mOWl5fDwMCAeFufP3/GypUroaOjQ6Jls2bNgpiYGOLi4nDu3Dky9niro3g7NHD/XFNTg9DQUNjY2ODChQsoKytDVFQUWCwWmfC7d+/GmDFjMGPGDFRVVaGurg6BgYGIiIjoteQBLxeT99keOHAAQ4YMoaX76urqwGKxSLP7b4WgtOWUKVNgZ2cHV1dXEvGsq6uDuLg4X4U8773w8ncEcag+fvyIkJAQGBoaIiEhgUQW6uvr4e3tjREjRmDBggVkI0pPT+frU/otOlkU9u/fD0NDQ7Ixcl+jq6srgoODiWPEfV/cPaJ7ikpSeP/+PTw9PYlhU1VVhXHjxpHCGWVlZeTm5tK0KO/du4ekpCRoaWlBV1e32+feH1DnSUlJwYgRI/g2WmVlZaIiwOFwkJ+fDw8PD5iamqKgoEBgcV1lZSWcnZ3h7OxMPlu1ahWEhYXh6upK1t2KigpoaGhg3bp1X6XBtLS0wN3dHXFxcWhsbMTy5cuRnZ2N+/fv0+Q+tmzZgmHDhpGqyYqKCkybNg0yMjJISkpCREQErKyssHPnTlhaWtKizwMF6lmwWCw4OjrSHK60tDSwWCzi9C9YsACqqqrEGNy3bx8tYtQbCFqHHz16BAUFBZpDe/ToUejo6BA5ooiICOjr65NzP3/+HNra2nzc3d5G8SoqKiArKwsxMTEipfX9998jKCiIpoc3aNAgmlP05csXrF69uk9V/4LmcXNzM60FKCWazWAwyHqRlpYGBwcHWqoaAJ825y+//IJz586RCO+lS5fg6+tLdGbd3d0xYcIEvHr1Cl5eXrC0tERDQwOam5vh4eGBuLi4AWkZ+K3ol5HHOwGXLFmCsLAwJCcnIzo6mmwEzc3N0NDQIIrVQFc6qbS0lKT1qDThQIY0Hz16BBaLBU9PT1oT9uzsbGhqaqK0tBQXLlwgm8qrV69QX1+PmJgYREdHw9nZmTbxuSfQ77//ThvYpaWlGDx4MDF6rl69ShoPcyM6OhqamprEIOnv/VZXV8PV1RUbN25EVlYWIWgXFRVh3LhxfKmgtLQ0uLi49MmrqKiogLq6Om0joZ5BXV0dZsyYgbFjx5LfcRuBQFflXHJycr/ujxcdHR1Yt24dtLW1cffuXaxduxZhYWEAuqIPQkJCtKqkiooKhIaGIjAwEEDX5q+lpQU1NTUkJSVh4sSJ3RJ4eQ2r58+fo66uDg0NDUhKSiLE9LKyMnz33XeQlpYmHiLQlXIbNGgQnJycYG9vD3V19V6ngFpaWgQag+/fv8eUKVPIOLa1tYWXlxdt0zh9+jTk5OT4esp+i4HNnbYsLi5GbW0tjI2NERgYiLNnz4LNZsPT07PXkj7dpYkrKysxe/ZsBAcHY82aNbCxsYGhoSGArnkcHR1Nqt6p+/n06RMMDAwQExPD18GiL1i9ejV+/vlnMjdaWlqwaNEijBo1ijiH1PyiOpBMnjwZAQEBGD16NJ+DKugeeZ0FSmic6irD4XDw6NEj2NvbY9iwYZg3bx6tAO38+fM4cOAAOjs7cfjw4W8ScOYFld2gnmtdXR00NTWxePFi2vg6fPgwREREaMYC1VCd2xDljf6cOHECampqRIYmOzubtg5Rf5uQkAB1dXU+h1zQ89yzZw90dHQgKysLDQ0NnD9/HidOnEBERAT27dsHHR0d6Ojo8NFP2tvbsXLlSvj5+cHBwYFwLIcNG/ZN0bLuQM3lV69egcFgIC8vDx0dHWhtbQWLxSLrRmdnJ0JCQsBgMBASEvLVIruewK09C3TNH0tLS9ozDw0NRUhICPk5JSUFEhISiI6O7pckC9A1brgj9YGBgdDQ0EBKSgqR6RISEqJlAgIDA2FhYdGvNYq3Ev3nn38mafe7d+9CUlKSGIvUGJoyZQrZs2pra0nFNreDJgiXLl0Ci8Ui1x4fHw9fX18AXYWVo0aNgpaWFmRkZGiGJCXd1V8B8oHEN0XyKioqkJSUBCaTiejoaAwdOhQmJiY0L+DAgQMQEhIik4qa2Ddv3oS7uzutn+a3orGxEZGRkZgwYQLi4uKI519TUwM7Ozuoq6sjPz+fpoNlYmICdXV1SEhIwN3dHXV1dVBQUODzpHgH45UrV8hiHBcXB21tbVJZa2tri3nz5tE23fXr12PEiBE0lfivQZCnUllZCR0dHVIRxI0lS5bA2dmZ1j2itrYWTCYTCxcu7FMBhLq6OhEh5Z5UNTU1OHnyJJSVlUlalBvZ2dlgMBh91nvjBfcGQrWFkpKSwujRo0kqmDKoubXMgK6IgYeHB9moqMpo7tQXm82mGVbcz7q2thZBQUFgMBhEG+zt27fgcDhITEzEyJEjMW/ePKSmpoLJZBJZkKtXr0JJSQkZGRl9SgenpKRAW1sbfn5+tGKBlStXQkREBM7OzqQ68NGjRxgyZAj2799P60jRX6fha2lL7jH88OFDLFq0CNLS0iguLoa+vn63mohfOw/QFcFgMBjw9/cnc4nqFU1VuncnqfLnn3/yGbW9vdc///yTpEPDwsIgKSmJ1atXo6mpCffu3QOLxaLpX1LXUFhYSKqp+yJfAQAlJSW0PqiHDx/GkCFDSDozMTERtra2NMeKcljWrFkzYJp3J0+eJLxBXq1QoGv+6urq8hXI6Ovrw8HBgZYRALrex7179+Dm5gYrKyvExcWRe3j37h3mzp0LJpMp8P1Tx2hvb+9WiooXa9euhYiICIyMjMhGfuHCBYiJiUFKSgrp6elknevo6MDJkye7ld7YuXMnzMzMaK2segvu9Yn3c965MGfOHGhoaJB2clSR2pUrV3Dw4EFERkbiwIED35Q2Lisrg4eHBx9H3NDQkETtPn36hMjISAQHB5P1LyYmRmCf9b6Mt/Xr10NfX59UXh89ehRMJhMnTpyArq4uifxyV9ZT7ez6StfiHkenTp2ChoYGGAwGBg8ejLq6OnR0dEBRUZFE26ixUFJSAklJSfKuN2/ejNjY2B5F55uamqCpqYmpU6eS8x46dAiysrIkC1ZWVoYrV66gvr4eVlZWtAK3geBSDgR6beRxc0o6OjqwevVq2NvbY8KECWSx3bdvHxQUFPiiWCwWC97e3gDoLyksLIwMyr5uUt0Nwvnz52PYsGGYNWsW7fPCwkLi9XOfq7q6GocOHSJ8jc+fP0NLS4ukZAWlX7Zv3w5paWnCK3n//j2tXdfevXthYGCAH374AfX19fjy5QtmzpyJkJAQrFq16qvRB97zlZWVEcOwo6MDBw4cwKBBg0jajoo2lJWVwdfXFzExMbRUbElJSZ8rWrdt2wYREREab+/jx4/YvHkzLl68iN27d9MqDqlrPnPmTJ8rKHnB+24vXboERUVFjBw5kmbQ1dfXE4Oee8P/4YcfoKWlRevOwV293NHRgVOnTsHJyYlPC3DhwoUQEhKCp6cnjIyMaC3qKC4nNVauXr0KcXFxBAUFked76NChXo/lO3fu4K+//oKVlRXy8/Ph5+cHQ0NDwolasmQJLU1NnSMkJASKiop8zkJf33F33+8pbQl0OTXh4eEYNmwY8Wp7QndztbKyEqNHj4arqyvZYDo7O5GTk4MhQ4bQxFD7C0F/Gx4ejoULF5KfU1JSIC4uTjh369evh6mpKTEOuDc/QXIx3OCdu1TvWBaLhUWLFtF+Z2trS/itT58+xcSJEyEvL4+4uDjMnz8f0tLSmDBhQo9FQd1BkFH14cMHyMvL09bn06dPQ11dHY6OjiQKZG5ujpiYGFqU4/Xr17hx4wYtesnhcLBz507IyMggPj4eO3fuxIwZMyArK0soOteuXYO+vj6hfnxrZX1dXR2OHTsGc3NzZGVlkXfj6ekJW1tbWoDh5s2b8PLyIpFQoGsN27hxI8aPHw9RUVFaD+vegvseeLs1UaitrUVSUhI5r4SEBHGaT548CVdXVygoKEBSUhLbtm3r8zXwgs1mIycnB/Ly8khKSiJ0AiqTQ42Hbdu2QU9PD2PHjsXIkSMRFBTUb+4ud9FdYWEhBg8ejJMnT6KkpASxsbG4desWDh48CE1NTVhaWiI6OpoWaexv1PL9+/ews7ODsLAwMjMzsXv3bnh6egLomqvLly+HoqIijSa2c+dO6Onp9UqLjrvOgDvr8/btW7BYLLi5uYHNZtMKD3Nzc/l6N/+v4KtGHi/Rn0JBQQG0tLRISywK7u7uCAwMpFWPlpaW0kiV1IOZN28eSav1FryL1+XLl/H8+XPy+bt372BjY4PAwMCvkke5j1VVVYVXr17B09MTUlJSfCXjvPw1S0tLxMXFkYVw/fr1EBMTIy957dq10NTUxJgxY6CoqAg7O7s+t2ErLCyEsrIy9PX1oaSkhL179+LTp09E84fiYXHfx5YtW2BiYiJw4ejLZslms+Hi4gIDAwMkJCSgsLAQlpaWMDY2/uZ2cr1Feno68vLyUFNTg/LycsyaNQuurq40I7mgoAC2traYMmUKnj9/jqdPn8LZ2RkpKSm0+6Wql6k0Tk1NDc1zfv/+PZydnaGhoYGioiJwOBwoKCjQKmE3bNgAGRkZ8vPBgwdhaGgIJpPZp3Q4m81GSUkJGAwGTE1NiWzP27dvMW/ePOjr6/cY+Whtbf0mYVDejXblypXYuHEjiT42NDRg0aJFUFBQICk0bp5ia2sr4Wba2dn1qgVbU1MTFi9ejMzMTFy6dIlsjlQxFreR/uHDB1hZWZGo17dSOZqamkgEqrKyEvb29nj58iVqa2sREhICMTExLFq0iEQTnzx5gvDwcPj4+HR7zO4EjXnR0NCA0NBQDB8+nERpqejCo0ePwGAwSKFXU1MTMjMzMWvWLPj6+vLJ3nwLqGvz8PAgmmR//vknJCUlsXTpUlqK+MSJExg1ahR27dpFxiHFh4uNjUVjYyNWrlyJpUuXIi8vj9Z+cd26dWAwGISi09zcjDVr1kBZWZkYHgMhoRQXFwd3d3cSlXzw4AHGjBkDExMTJCcn07i4vBIVmzZtQmJi4jeLsv/www9wcnLC7NmzaRH4JUuWQFxcHC4uLuQc27Ztg6SkJIlctba24vLlywPSooy7i8rp06dhYGCAsLAwNDQ0YPv27fD09CTGzZcvX3Dr1i2kpKTwZUC6i0z2NmKZnJxMdEenTZtG9vusrCxISUlBWVm5Xw4LL/bs2UPLlGVlZYHFYpHfP3v2DGZmZnBxccGJEyfw4sUL+Pj4ICQkpN9jr76+HsuXL8eYMWP4InQFBQVQUVEhkcqBVAIZCPQ6krdmzRp4eXkhOjqabHwJCQnQ19enbZY3b96EsrIytm/fTvNy9u3bRzOUdu3aBSEhoT5pWXEjLy8P8vLyMDY2hqysLNauXUsG0KZNm2BlZdUnEdTvv/8eo0aNgo2NDVRVVUmEsaGhAXFxcfD09MTWrVsJYfjgwYNQUVEhjck5HA7GjBmDadOmAeh60U+fPsX27duxffv2r56fd/DduHEDmpqaWLduHe7fv4/4+HiYmJgQHa4rV65g8ODBJNJDPevq6mosXLhQYH/QvqKpqQnp6elwdnaGkZGRQLmYgQDvpCgsLMTIkSNhYmKC7OxsYjgfOHAAtra2RB+MwvHjx6GhoQEmkwlxcXGBwpwcDgfBwcHQ0NCgcX9evHhB0kvcUb3y8nJ89913NIP26tWrkJKSwuLFi5Gfnw97e3ts2LCBlgb+GlJTU7Fw4UJUV1cjPj4eoqKitM3m2rVrMDAw6DbyMZALyMuXL2FsbIwxY8bAwsIC4uLipGLz2rVrcHNzo6UteXHkyBFISkp2W8BD4cSJE5CUlIS9vT2cnZ0xatQowkfjcDhQU1PjG1unT58Gg8Hg0y37Gng3pBcvXsDZ2ZnoFX748AFiYmJEdd7X15dG9qYqfHNzc2FsbExkQXqL5uZm7NixAyUlJWQ9unTpEmlfRIGKbkZFRcHQ0HBARKp5x8a6devw448/kjHU3t6OJUuWYOrUqfjy5Qup9hSEgIAAPiOA4sPJyMhAU1MTFy9exMOHD9HZ2YkbN27AyMgIenp6SE5OxqBBg0gK9tGjR3ByciJc2oFAeXk5zM3NsWTJEuJkUGLskydPho+PD23scBsr32pk1tTUwMnJCcbGxtiyZQuWLVsGERER7Nu3D3fv3kVMTAwtAk9BWVkZPj4+X50vvOjuenkj5JQhR8ml+Pj4YO/evZCWlibjWtCxujt+XyKW1LUkJycjICAAUlJShJfd0NCA/Pz8fu/1FKjxzXvfvr6+hPZFvePnz5/D0dERurq6kJOTA4vF6pOBeebMGSQlJaGoqAi7du0i1chUMQnwH2FrISEhImr9v4ivGnlPnz6FjY0NtLW1sX79eowfPx729vY4ceIEnj59CicnJ75m3zNnzoSRkZHABZJ6CdevX+9WUqSnjayzsxPbtm2DsbExcnNziZiig4MD4R60tbXB29sbkydPJhHF7o5JXU9FRQVKS0vR2tqKrVu3QkFBAdeuXUNMTAxcXV0xc+ZMaGlpITY2lhzLx8cHPj4+hBR/8uRJCAkJ4cqVK91ef3fnB7q85atXr6K9vZ2IF3NjxYoVsLOzIxGXuLg4aGpqkt8PZP9Xbnz58oUWPfunzgN0GanW1taEU8E9oT99+oSFCxfC1taWT2ewpqYGN2/epBU68L7zixcvwsPDg9YFw8PDAx4eHkSugbq3O3fuQFVVlRbhaG1tRU5ODkxNTaGsrEyElnuDFStWICMjA7a2thg1ahRKSkpw584diIuL06KuLS0tWLNmDdTU1AY08sGNpqYmjBs3DosWLSJOQ1VVFaZOnQodHR3C8Vu/fj1MTExI1JD7OjgcDj58+ABVVVXi9AlqndTW1kaEnKn3sWPHDpiampIuEvv27aPxdoEuY2nlypXfrARPRRCtrKzIejNjxgwwGAyaHhjQ5XhSi3V9fX2fdbq2bt0KcXFxmJqawsjICEZGRsQBSElJgbOzM3lWVASntbUVDAYDy5cv77cBL+i5d3R0YNeuXRg1ahTmzp1LxlJGRgbpkdpTFbCgMcfNh+POdLS0tMDFxQVz585FY2Mjvnz5Am1tbUyYMAFA1xzOz8+HqqoqoZgMRKHdqlWrYGNjg5ycHJSVlWHSpEl8kbGe2nl9Dd1FsS5fvgxbW1tiOL179w5DhgxBYGAgPnz4ILADD9DlRAoSCu8tjhw5gj179vDx2HJzczFs2DCkpKSQzxoaGmBqagoWiwUGg8FnsFP31xv0JmJJOdVVVVX4+eefwWAwMGLEiD5HS/sSOaTSpQ4ODgIzV62traioqOhXn+7Xr19DQkIC5ubmUFJSIo0buK8H6KJm/bcyW/3FV428/Px8JCYmEu+jpKQE6urqMDIyQnt7O9atWwd7e3sa0b66uhoODg60ytbe4tOnT6SarjuPp6CggFStUJpDw4YNg6GhITGwDh06BGtra9K6pifwDqAnT55g4sSJGDNmDPF6ga68vrW1NdkIqJ67P/30E/mOra0tiRr0BZmZmZCSksKUKVNQVFSErKwsuLm50bR8Hjx4ABaLRQiuT58+JRsELwayWpm7evafCEW3trYiLS0NZWVluH79OsaOHYuKigq0tbWhpKQEt27dIsTwW7dugcViwd/fH/fv34ejoyOfM8H7Pqn/d3Z2IisrC6ampmSxPX78OKytrfm4OevXr6dREVpaWsjiWl1dzVfE0tO9hYaGQk1NDb/++itmzZoFWVlZBAcHo66uDkuXLoW0tDTtbx4/fgwLC4se04W9RXd8OHd3dzAYDGRnZ5PPampqIC0tTSKljx8/RlhYWLfXsX//fjCZTLx+/Zo2Lmpra2npV3l5eVorpvr6eqxYsQJGRkbEu3Z1dYWTk1O/7pF7rL9//x7Tpk2jOSXFxcXw8vIiIr4lJSUYOnQosrOz8eLFCyLRY2JigqVLl9KiFoLmkaD+ruXl5Xzq/PLy8vD19UVzczPu378PLy8vxMXFkXdCpdl+//33bqWe+nLvd+/exZ49e/D8+XMyPg8dOoQJEybAxMQE9fX1ePjwIeTk5Hq1NvNqoHLz4davX0/u4+zZsySyRz0LqjiMSuW+ePECrq6uAoWg+4uWlhbExcWByWRCVFSUcG77G7Fjs9lYs2YNn5POOwaWLl2KyZMnA+jqRCMmJkakkygM5Dr55MkTmJqaQk1NDba2ttDS0iJFb5mZmZCVlcX27dtpHGSgK4I6d+5cGBoa8mm99gb9jVgCIAUefal+723kMCUlBc3NzeQZc8vPlJaWIjAwcEC0D9+8eYN79+7RDFXqGf+vpWR7wleNvBcvXqC8vBydnZ1ISkqCuLg4vL29oauri2XLlqGxsRF+fn6YOnXqN8kZAF3ee3R0NNTV1WmfFxQU4MKFC+T41OJ47NgxqKioICAgAPv374eDgwOtL52/vz88PDx6nQp5+vQpFixYgKNHj2L//v1QVlam9Yisra3FvHnzYGtrSzax+fPnw8jIiCwM/WlRwis8DHRxOCwsLPiiDXZ2dsSrYLPZ+P333wW2nPlfw549e/Dx40eBk6O4uBi6urooLi7Gx48fYWBgAFdXVxgYGMDb2xtycnL47rvvSHTv0KFDMDU1haKiIgICAro1ZAR5f48ePUJQUBD8/PzIZzExMfD09KRV+C1cuJDIHGzbtg0MBgMxMTF9rnL88OEDmEwmzQOmdJuOHDmCV69eQUNDA4mJieT3HR0dOHLkCKnaHQicPHkSt2/fJqmtmpoaCAkJYfXq1bRnRPVRpjYsKmrOa0h/+vQJo0ePxowZM2hOQHx8PCQkJGBkZISUlBS8f/8e/v7+fI7PhQsXYG5uTuZNSUkJhIWF+1TpyL35Utdw7949qKur06K1QBeFw8TEhDzTbdu2QUtLCyoqKrCzs4OIiAjWrFnTp3NWVlYSZ3PPnj3w8vIC0OWMBQQEQExMDDk5OWTMZGVlwcXFhVRs98UR66nbw6dPnxASEgJpaWkYGBjA2NiYZFc4HA5aWlpgY2ODoKAgpKamYvLkyXyV+X0BxYej0qFPnjyBqKgoNmzYgPLycixatAgrVqzAkSNHyHj78uULjI2N+brCfCtaWlpw+/btr0ph9AYPHjyAo6Mj4YICXUbUxIkTsX79enKOQ4cOQVRUFGJiYvDw8KDNjd5WCfcFiYmJCAgIID8XFBSQSPTTp0/5er5zozfO6EBFLIGeRb97i95EDqlrevDgAUxMTFBRUYGoqCgICQnRCuEGCryyLf9fQp84eaampiRVGB0djVGjRqGmpga//vorjIyM+No19edBnz17Frq6utiyZQs+ffoEBQUFokMTHR1N0h+NjY3w9/fHokWLiNHHYrEwatQo4j1WVFT0SmaBw+EgLS0NwsLCCAwMxMmTJ1FWVoaIiAg+g/PcuXNwcnIifIPgBv6RAAAY+0lEQVT6+nro6en1W5yUV3iYmhyfP3+GhYUFYmNjiVxDW1sbHB0dkZGRIfAe/lfx4cMHMBgMbN68mXzGuwhw8x1u376NdevWobCwEGfPniX9Dz09PUlFVnV1da8rmZ4/f44NGzbg4sWLaGtrw759+2BpaYmtW7cC6NKEs7S0xOLFi4kj4e/vDxcXF1hbW0NGRqbffJI7d+5AXl4epaWltPsOCgqCmZkZqqqqSOeUvnD7eoujR49CQUGBSAUFBweTqGhiYiJUVFRoguBsNhtGRkYICgoC0HPakrsq7+bNm8jKykJwcDDOnDmD7OxsDBs2DDt37sTMmTMRFBREmyN3797FoEGDaOl17qh1T+AdO5mZmYiKisLmzZvR2NiI3NxcKCkp0dK/5eXl8Pb2xvjx48lcefz4MU6ePImdO3fSKv2+tkF1dHQgLi4O0tLSCAwMRGVlJbZu3Qomk4mlS5dixIgRmDZtGl+6/e3bt3Bzc0NoaGiv75UX3O8K6HJ4582bBy8vL5I2OnDgAOkxTeH58+dYs2YNhIWFiYPBfW19gSA+XEpKCszMzCAqKgp9fX0+TnB+fj4MDQ3/0dSWoDZ4fcWuXbtgamqKXbt2Ye3atdDW1kZ8fDzExMQwe/ZsvHv3Di9fvsS4ceNoIvhAV6rSx8enT0VRFA+Yu3iCQmdnJ6qrq2FsbEwc+dTUVMjKysLHx6dXlaIUeHut/i9GLPsTObx69SoYDAYYDAYsLCz6HRH//zN6ZeQ1NDSAyWTSdG5CQ0PBYDCINMq3blBUeLalpQVLliwhRQfUOXft2kVUpIEu75Vq7gx0GRLjx4+Hra0toqKiaJb31yb+9evXoa+vT9OXA7o6Vejq6tLum+oNqqGhwSdh0h8IEh6meCXHjx+Hg4MDtLS0sGnTJvj6+vJtXv/roO5l6dKlGD16NB49egQfHx9s2bKFZjxMnjyZr9UNN2bPnk3SMdzoiXPD4XCwePFiiIqKwsXFBRoaGvD398fRo0eRkJAABwcHcg0//vgj4ZoCXcRzYWHhAUkvqaqqEt036nlQ0bzc3FxUV1fDzMyMCOX2B4Kew4cPH2BnZ0e4gy9evIC7uzuN6ykrK4vk5GRaeuTQoUNgMpm0yHxPc+jjx49QU1ODqqoqjZj8/fffg8ViYdu2bfD29oa3tzcePnyIz58/Ewmmb5Ec+PvvvxEbGwsNDQ3ExMRAWFgY4eHh2LFjB6ZPnw4PDw/a9ydPngxJSUlan0lucAsDd4fW1lbExMTAysoKJSUlqKurQ3t7O168eAFlZWWoq6vTopEUJ5DapK9fv97vjMeECRMQFhYGNpuNwsJCQtPIy8sjjuChQ4egoaGBIUOG8HF6ga7qewUFhR7nWm9A8eG2bNmC58+fY+LEiSgrK+NrtfZv9+38Gmpra7F27Vryzm7cuIGFCxfCysoK/v7+xCjdt28fHB0dCZVh48aNkJSUxIYNG3DlyhWcOXMGY8eOBYvF6lVqlM1mIyMjA1paWrSuCJcuXcLZs2dp3EJdXV3MnTsXOjo6MDQ0pFGjqL2nL8/5345YDmTk8O7duwgPD+fbu/8f/oNeR/JsbGwQEhKCz58/o6ioCAEBAfjtt99o5cT9sep5Cw9u3ryJixcvwt3dHSIiIrRFY+PGjTA1NSWDPDw8HIqKisQADA8P71ebtE2bNkFfX58vYtHQ0IDly5dDRUWFJsdSXFyMpKQkPq+6v+hOePj9+/coLS1FfHw8vL29ERIS8s1l//9N8EYJ5OXlkZWVhcTERHh6ehJiNofDQUJCAkmHUs/g2LFjOHXqFNzc3DBq1CgiNdJbXL9+HSYmJqR9TmdnJ6SkpBAdHY1du3Zh3LhxpPCA6jFMqc6XlpZ+U+9XbuTk5EBERIRGG9iyZQukpKSItlJfNaPYbDa2bt1Ka3EG0Ofgrl27oKenB6DL2IiKioKEhARmzZpFzvfrr79CQkKiz1WkvMjNzYWMjAx+//138llLSwt0dHSwbNky7N27F97e3pCRkYGenh6kpKRo3+0r0tPT4e/vD19fX7JJ3r17F4GBgfDz88Nvv/0GDQ0NojnY0dGByMhI2NvbIygoiM8x6+3aVV1dDTU1NRKZpdaM8vJypKWlQV5eHp8/fyZpsh07dsDExOSbxMEpA7yoqAgKCgrQ0NCAhIQEIdNTRmNCQgI0NDSwdu1aXL16FSIiIkTnkbpfDoeD77//nsYN7A+4+XAiIiJ8Dtg/WRU+kDh//jy0tLSwdu1aTJ8+HTIyMli9ejWMjY1hbW1N+25CQgJcXFzIu9+wYQO0tLRgaGgIBQUFPh1EXvAaKadOnQKLxUJSUhI4HA6cnJwgKysLOTk5hIWFEWd+3rx5EBISInQVCkePHiXFhn3FfzNi+b8aOfy/Bb028oqKiiAiIgI9PT0MGjRIYMrwW5CZmQkJCQlERUXhzJkz2Lp1KxgMBs1oe/bsGcLCwogAa01NDUJCQmBmZoZJkybR+HB9SUMsWrQIlpaWAPgH3t27d8FisWhcv4FGd8LDlHwKQE9l/ZPVrf8Eli1bhszMTDg7O0NNTQ03btzA3bt3oa6ujqlTp+L58+c4evQoRo8eTfu7tLQ0mJqaIjIysl/Rjy1btiA8PBxAV0m8lZUVFBUVcfr0aTQ3NyMtLQ0WFhZkMf3pp58QERHRK923vqC9vR3jxo3D2LFjsWnTJvz5559E40tGRoZElvrSueLz58/Q0NAgzgHQNYeio6NJMcWZM2fg6+uL9PR0yMjIgMViCWyzNnr0aPj6+vIZPn0xAtra2mBlZYX58+fTjOPt27eTriBtbW24du0arTihv7h9+zZkZWVJpSiFvXv3wtXVFevXr8fy5cvBYDCQmpoKX19f+Pn5kQ36W2BmZoawsDAkJiYiIiICZmZmGD16NPbs2QMWiwVVVVXSy1JGRqZPUk7c4J7nra2t2LRpEyQlJaGsrEzug7uP89ixYwlH8OXLlxg5ciTExMTI2kFFh1atWgUmk9nv+6cwkHy4fxMuLi5gMBgwNDTEq1evwGazkZSUBCUlJVp1d3FxMdzd3TFv3jzy3JuamlBWVtYjL44bra2tNFWJjIwMjBs3DqmpqaSl3YkTJ+Dg4IDY2Fi0trbi1KlTYDKZtAK7e/fuwdvbGzNnzqSJ/naHfytiCfz7kcP/29GntmaPHj3CwYMHac25B8Ky5i086OjowJs3b+Du7k6UrCkUFBTAysqKVEO2tbXRNpX+pAcePHiAQYMGobi4mHac9+/f4/z58yTFMRBaVoIgSHjYysoKJiYmfET0//X0Bzfa2toQHh4OVVVV5OXlIS4uDlJSUkQA++HDh5gyZQp0dXXx66+/Ql9fn6ZV9+nTJ9oG0lfjNjExEY6OjggPDyeK89yLcVFRES2i+E+irq4OUVFR0NfXh7S0NGbNmoXOzk64uLj0O3V25MgRODg44ODBg5g7dy60tLQQEREBBoOBpUuXYvfu3TA2NsbIkSNpXQ7a2tqQm5tLoktPnjwhFe3fgtOnT8PW1pZEzyiYmJjAx8enz5IkX8PcuXNhbGxMM1wbGxvh5OREUt+pqamYMGECgoKCaNqJ3+IoUVXugYGByM7Oxt69e5GUlAQtLS28f/8ehYWFSE9P54u89BerVq2Cm5sbEhMTcePGDSgpKWHz5s00x+/EiRMQFhYmadvr168jODgY6urqND5pe3s7QkJCEBoa2usK8d5gIPhw/waamprg5+cHTU1NpKWl0aKm7u7ufJ2TVq9eDXNzc1I80xdQgtJxcXGor69HdnY2QkNDERsbC0lJSdoxf/75Z9jb2xN++bZt2zB8+HCYmprC19cXw4cPR2RkZK819/6bEUtB+G9zHf8f/oN+964dqGoT3sIDbh4dparPvUHV1tZi2rRpJOVCfb+7PH9v0NnZibCwMOjo6OD58+dobW3Fly9fkJiYiIyMDNKo/p/Ef0t4+L+J+vp6MJlM7Nixg3x27tw5MBgMYgh8+fIFM2bMgJSUFMTFxUlRADf6+24fP34MYWFhODk50YzFqqoqLF++HE+ePMGmTZvw8/9p7+6Doiq/OIB/V0IHgmB0FDWUF0EaEOSlEAIVcCGSGSEniJckLEorZMYoZCkmLRElJNFalSHBNK2ZCpLKBhCZHBADRw2ZAspGBDEQI0FAYPf8/mj2xgX0J7DswnY+M8yw7L33efZedvfc87zt309Emgmg29rahEzhjRs3yM7OblhQ9KAUCgUFBgbSunXrKCIiQpiOpLCwUAisVU2aqnkAif65Y161ahUVFBSIpskY7+tXKpUUEhJCsbGxohvB8+fPi26g1KW1tZXc3NyGTSHk7OwsfDkrlUrRF6G6rvHQ6Sq+++47cnJyUuuyRo2NjeTq6ko2NjaUm5srjAzevHkzubq6DmtiX7BgAXl6elJcXBxZWlrSrl27hg3wOHbsGHl6enIH9SE++OAD8vLyovz8fCL65/pmZGSQq6ursKoGEQmjOMeaWRo8obSNjQ2VlpbSoUOHyNTUlA4dOiRsd+vWLYqOjqbg4GChO0JZWRkdPnyY3nnnHVE28EH/pzWZsdRm5pCJjSnIU2e7+EgDD1QfnLdu3aKNGzeSm5ubaJ/BHVXVpbu7m9zc3MjKyor8/f3J2tqabG1tRww6JpImJx6eaJcuXaK5c+cK51D1YRQWFkYuLi6iwOvgwYNkYmIiNF2q48u4r6+PIiMjycHBgVpaWqi7u5vu3LlD7777Lrm4uNClS5c0nn3o6emhmpoa2rNnD9na2pK/v/+oRskN9fPPP9OsWbPIx8dH9Pe1a9dSZGQkyeVyCgsLIxMTE4qNjaXAwEAyMjISDSZSp7q6OnJ1dR3TmqBjkZWVRXZ2dpSenk5NTU1UUlJC1tbWIy4zp+5r3dbWRvX19cJgh8TERLW+X/Py8oSBbYP19vaSnZ0dJSYmiroW1NTU0Ouvv04+Pj6ipcZGmkqIid2+fZv8/PwoNjZWyIbW1NRQeHi4aLql8Ro8obQqe97Y2Ejr168nX19fUdPriRMnyN/fX+g3PNRoJnrWZMaSSPuZQ/avMWfy1OleAw/+/PNP+v7778nc3FyY/HEwdX9wtbS00A8//EDvv/++6K5KkyZ64mFNs7CwED6kVH2CiouLSU9Pjw4ePCj0A+vq6qK4uLj7LqM1Fh0dHbR06VKysrKiwMBAWrRoEdna2o56uSx16erqouPHj6s1ENq0aROtXLlS1H+1rq6OLCwsaO/evXTz5k3au3cvyWQyio+PFw3emYj/sfj4eMrNzVX7cUdy9+5dcnNzI0NDQ3rmmWfIyspKWDd1IvX39wtdR+bPnz+ukdH3kpmZSfPnzyelUklffPEFHThwgOLi4ujUqVOUl5dHixcvptzcXGpqaqKEhIQRB4JNxSZUbfnss8/oiSeeELU8pKWlkbu7OxUXF6uljMETSu/evVv4TPz666/pySefFFaBUVFNHTW03+NYr6umMpZEms0csnubFEHevQYe7Nu3j0pLS+nw4cNTatoQ9i/VyNLBzXf79u0jQ0NDUR8iIqLw8HChmVqdX07Nzc108uRJyszMpE8//VRtxx2rO3fuqPUGpbW1lR5//HFKT08XnTeZTEa2trbDRuASTezknpoOLEpKSmjFihUkl8tFmZCJvklqa2ujgoKCcU2hdD/Xr1+nZcuWkYmJCXl5eVFwcDCtXr2apk+fTmfPnqX169eTq6sr6evr05o1a0SvnTN3Y7Nu3Try8PCgzZs3k4ODA0VERExIy9HQCaXb29spKSmJPD09RQHQlStXRj3y/n40lbHUdOaQ3dukCPJGGniwbNkycnZ2nvTrwrH76+vrIx8fH3JxcaHMzEw6ffo0BQQEUHl5uahJrbGxkczNzentt9/WYm2nrj179lBAQIAoQ9nd3U3Lly8fNqJU17I7SqWSgoOD6cUXXxSylEPXMJ2qWltb6cKFC3T9+nWhz+Vjjz1Gqamp1NvbS+fOneMbYDWqq6ujnTt3kqen54RkZweXo5pQWjVwsKKigqRSKYWHhw/bXp3vWU1kLFU0mTlkI5MQEWES6OrqwocffoiysjK0t7dj5cqVyMrK0na1mBp0dHRgy5YtqKysRFNTE8LCwrB//37RNh9//DGuXr2K9PR0LdVyart79y4CAgLg4eEBmUwGU1NTbVdJo+rr6xEREYGoqCi88cYb2q6O2vX390NfXx+lpaVITExERkYGfHx8hOeVSiUAYNq0aVqqoW5RKpUTfi537tyJwsJCPP/885BKpUhOToaHhwecnZ2xatWqCS07OjoaDQ0N8PT0RFFREZycnJCWlgYLCwu1ltPZ2YmQkBBYW1sjJSUFCxcuxOXLl5Gamore3l7k5+ertTw2Am1HmUPp0sADJtbS0iKaxoJo7IuJs+FOnDhBTk5Ow0ay/lfOrSb7AmrS1atXKT09nYKDg8nQ0JBkMpm2q8TUYPCE0gYGBsOaMCeSpjKWRJrNHLLhJk0mT4WIIJFIoFQqIZFIIJFItF0lpiaqa6tQKCCRSDjroGZEhF9++QX29vbaropWaCL7og2dnZ3IyclBQ0MDtmzZImRbVO8nNnV1d3fj119/xbx58zBv3jwAmr2umnrPaCpzyIabdEEeY4wxsb6+PkyfPh0AoFAoMG3aNA7wdIwuX9f6+nrk5+fjm2++wbPPPquTXSomKw7yGGNsitDVbCX7b+D/X83jII8xxhhjTAdxSM0YY4wxpoM4yGOMMcYY00Ec5DHGGGOM6SAO8hhjjDHGdBAHeYwxxhhjOoiDPMYYY4wxHcRBHmOMMcaYDuIgjzHGGGNMB3GQxxjTGm9vb2zdulXb1WCMMZ3EQR5jjDHGmA7iII8xphUxMTEoLy/Htm3bIJFIYGlpiYqKCvj6+sLU1BSzZ89GREQEbt68Kdpv9+7dMDMzg4mJCRISEhAVFYWYmJj/W15ZWRkkEglOnToFe3t7GBsbIyQkBH/99ZewzSeffAJnZ2c8/PDDsLCwQEpKCgYGBkR1joqKgkwmw8yZM2FmZobc3Fx0dHQgNDQURkZGcHJywsWLF0Vlf/7557C3t4eBgQGWLFmCL7/8cnwnjzHGHgAHeYwxrcjKyoK7uzsSEhLQ0tKCqqoqdHV14dVXX0V1dTVOnjyJa9eu4bXXXhP2KSkpgUwmQ2pqKn766Sf09fWhsLBwVOVu374deXl5OH36NGpqarB9+3bhOaVSiYyMDFy+fBkHDhxATk4OsrOzRfuryqusrER8fDw2bNiAyMhIhISE4MKFC7CxscFLL70kbF9aWopNmzZh27ZtqK2tRXJyMqKjo1FZWTmW08YYYw9MQkSk7Uowxv6bvL29IZVK79kvr7KyEsuXL0dvby/09PQQGhqKGTNm4OjRowAAhUIBKysr+Pn5IS8v775llZWVwdfXF+fOnYO7uzsAIC0tDV999RWqq6tH3Gfnzp0oKipCaWkpgH8yeVVVVaitrRXKNzExQUxMDD766COhzp6enrh9+zaMjY3h5+eHtWvXIi4uTjjuK6+8AqVSiZycnAc+V4wxNloPabsCjDGm0tTUBJlMhvLycrS1tUGpVGJgYAA3btzAo48+ioaGBrzwwgvC9np6enB2dh5VGY6OjsLvc+fORWtrq/C4oqICW7duRW1tLf7++28MDAxgwYIFov2XLFkiKn/WrFlwcHAQ/mZmZgYAaGtrg7GxMWpqanD27FkkJSUJ2/T19cHb23tU9WaMsdHiII8xNmnExMSgr68P2dnZMDc3xx9//IHVq1ejv78fAEBEkEgk4ypDX19f+F0ikUCpVAIAOjs7ERQUhLCwMLz33nuYOXMmjh07NixDOHh/1TGGHhOAcNyuri5kZGTgqaeeEu1nYGAwrtfBGGP/Dwd5jDGt0dfXh0KhEB5XVlbi6NGjkEqlAICqqirR9osXL8b58+eFxwqFAhcvXoSfn9+461JXV4eOjg7s2rULpqamAIBr166N+7hLly7FlStXYGNjM+5jMcbYaHCQxxjTGgsLC1RWVqK5uRmGhoZYtGgRjhw5AgcHB/z+++/YsWOHaPsNGzYgKCgIvr6+8PLyglwuR0dHx7izewCwcOFC6OvrQy6XIzw8HEVFRSgoKICxsfG4jpucnIywsDCYm5sjKCgIPT09OHPmDGbPno3nnntu3PVmjLF74dG1jDGtefPNN9He3g5ra2u4uLggJycHv/32GxwdHZGSkiIa+QoAUqkUO3bsQFJSEtzd3fHQQw9BKpVixowZ467LnDlzkJ2dDblcDkdHRxQVFYn60Y3VmjVrcPz4cRw5cgSOjo6QSqX49ttvYWFhMe5jM8bY/fDoWsbYlEVEsLOzw8svv4y33npL29VhjLFJhZtrGWNTSkZGBp5++mlIJBLI5XI0NjYiNDRU29VijLFJh5trGWNTyo8//ogVK1bA3d0d1dXVKC4uhqWlJc6cOQMjI6MRfzZu3KjtajPGmMZxcy1jTCf09PSgubl5xOceeeQRzJkzR8M1Yowx7eIgjzHGGGNMB3FzLWOMMcaYDuIgjzHGGGNMB/0Pr5KoExb1nhoAAAAASUVORK5CYII=\" class=\"pd_save\"></center>\n",
       "                        \n",
       "                    \n",
       "                        <div>Some labels are not displayed because of a lack of space. Click on Stretch image to see them all</div>\n",
       "                    \n",
       "                \n",
       "        </div>"
      ],
      "text/plain": [
       "<IPython.core.display.HTML object>"
      ]
     },
     "metadata": {},
     "output_type": "display_data"
    }
   ],
   "source": [
    "display(tags_ratings_names)"
   ]
  },
  {
   "cell_type": "code",
   "execution_count": null,
   "metadata": {},
   "outputs": [],
   "source": []
  }
 ],
 "metadata": {
  "kernelspec": {
   "display_name": "Python 3.5 with Spark 2.1",
   "language": "python",
   "name": "python3-spark21"
  },
  "language_info": {
   "codemirror_mode": {
    "name": "ipython",
    "version": 3
   },
   "file_extension": ".py",
   "mimetype": "text/x-python",
   "name": "python",
   "nbconvert_exporter": "python",
   "pygments_lexer": "ipython3",
   "version": "3.5.4"
  }
 },
 "nbformat": 4,
 "nbformat_minor": 1
}
