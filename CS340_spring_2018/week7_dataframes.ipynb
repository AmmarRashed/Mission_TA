{
 "cells": [
  {
   "cell_type": "code",
   "execution_count": 1,
   "metadata": {},
   "outputs": [],
   "source": [
    "import ibmos2spark\n",
    "\n",
    "\n",
    "from pyspark.sql import SparkSession\n",
    "spark = SparkSession.builder.getOrCreate()\n",
    "# Please read the documentation of PySpark to learn more about the possibilities to load data files.\n",
    "# PySpark documentation: https://spark.apache.org/docs/2.0.1/api/python/pyspark.sql.html#pyspark.sql.SparkSession\n",
    "# The SparkSession object is already initialized for you.\n",
    "# The following variable contains the path to your file on your IBM Cloud Object Storage.\n",
    "hello_file = cos.url('hello.txt', 'cs340spring20184b12f92a8d204278af3959660617b691')\n"
   ]
  },
  {
   "cell_type": "code",
   "execution_count": 2,
   "metadata": {},
   "outputs": [],
   "source": [
    "rdd = sc.textFile(hello_file)"
   ]
  },
  {
   "cell_type": "code",
   "execution_count": 3,
   "metadata": {},
   "outputs": [
    {
     "data": {
      "text/plain": [
       "['hello', 'world', 'I', 'am', 'ahmed']"
      ]
     },
     "execution_count": 3,
     "metadata": {},
     "output_type": "execute_result"
    }
   ],
   "source": [
    "rdd.collect()"
   ]
  },
  {
   "cell_type": "code",
   "execution_count": 4,
   "metadata": {},
   "outputs": [
    {
     "data": {
      "text/plain": [
       "5"
      ]
     },
     "execution_count": 4,
     "metadata": {},
     "output_type": "execute_result"
    }
   ],
   "source": [
    "rdd.count()"
   ]
  },
  {
   "cell_type": "code",
   "execution_count": 5,
   "metadata": {},
   "outputs": [],
   "source": [
    "s = \"heloo\""
   ]
  },
  {
   "cell_type": "code",
   "execution_count": 6,
   "metadata": {},
   "outputs": [
    {
     "data": {
      "text/plain": [
       "('hello', 1, 'world', 0, 'I', 0, 'am', 0, 'ahmed', 1)"
      ]
     },
     "execution_count": 6,
     "metadata": {},
     "output_type": "execute_result"
    }
   ],
   "source": [
    "rdd.map(lambda x: (x, len(x)-len(x.replace(\"h\",\"\")))).reduce(lambda x,y : x+y)"
   ]
  },
  {
   "cell_type": "markdown",
   "metadata": {},
   "source": [
    "# Let's get started!"
   ]
  },
  {
   "cell_type": "code",
   "execution_count": 7,
   "metadata": {},
   "outputs": [
    {
     "data": {
      "text/plain": [
       "[Row(id='1', book_id='2767052', best_book_id='2767052', work_id='2792775', books_count='272', isbn='439023483', isbn13='9.78043902348e+12', authors='Suzanne Collins', original_publication_year='2008.0', original_title='The Hunger Games', title='The Hunger Games (The Hunger Games, #1)', language_code='eng', average_rating='4.34', ratings_count='4780653', work_ratings_count='4942365', work_text_reviews_count='155254', ratings_1='66715', ratings_2='127936', ratings_3='560092', ratings_4='1481305', ratings_5='2706317', image_url='https://images.gr-assets.com/books/1447303603m/2767052.jpg', small_image_url='https://images.gr-assets.com/books/1447303603s/2767052.jpg'),\n",
       " Row(id='2', book_id='3', best_book_id='3', work_id='4640799', books_count='491', isbn='439554934', isbn13='9.78043955493e+12', authors='J.K. Rowling, Mary GrandPré', original_publication_year='1997.0', original_title=\"Harry Potter and the Philosopher's Stone\", title=\"Harry Potter and the Sorcerer's Stone (Harry Potter, #1)\", language_code='eng', average_rating='4.44', ratings_count='4602479', work_ratings_count='4800065', work_text_reviews_count='75867', ratings_1='75504', ratings_2='101676', ratings_3='455024', ratings_4='1156318', ratings_5='3011543', image_url='https://images.gr-assets.com/books/1474154022m/3.jpg', small_image_url='https://images.gr-assets.com/books/1474154022s/3.jpg'),\n",
       " Row(id='3', book_id='41865', best_book_id='41865', work_id='3212258', books_count='226', isbn='316015849', isbn13='9.78031601584e+12', authors='Stephenie Meyer', original_publication_year='2005.0', original_title='Twilight', title='Twilight (Twilight, #1)', language_code='en-US', average_rating='3.57', ratings_count='3866839', work_ratings_count='3916824', work_text_reviews_count='95009', ratings_1='456191', ratings_2='436802', ratings_3='793319', ratings_4='875073', ratings_5='1355439', image_url='https://images.gr-assets.com/books/1361039443m/41865.jpg', small_image_url='https://images.gr-assets.com/books/1361039443s/41865.jpg'),\n",
       " Row(id='4', book_id='2657', best_book_id='2657', work_id='3275794', books_count='487', isbn='61120081', isbn13='9.78006112008e+12', authors='Harper Lee', original_publication_year='1960.0', original_title='To Kill a Mockingbird', title='To Kill a Mockingbird', language_code='eng', average_rating='4.25', ratings_count='3198671', work_ratings_count='3340896', work_text_reviews_count='72586', ratings_1='60427', ratings_2='117415', ratings_3='446835', ratings_4='1001952', ratings_5='1714267', image_url='https://images.gr-assets.com/books/1361975680m/2657.jpg', small_image_url='https://images.gr-assets.com/books/1361975680s/2657.jpg'),\n",
       " Row(id='5', book_id='4671', best_book_id='4671', work_id='245494', books_count='1356', isbn='743273567', isbn13='9.78074327356e+12', authors='F. Scott Fitzgerald', original_publication_year='1925.0', original_title='The Great Gatsby', title='The Great Gatsby', language_code='eng', average_rating='3.89', ratings_count='2683664', work_ratings_count='2773745', work_text_reviews_count='51992', ratings_1='86236', ratings_2='197621', ratings_3='606158', ratings_4='936012', ratings_5='947718', image_url='https://images.gr-assets.com/books/1490528560m/4671.jpg', small_image_url='https://images.gr-assets.com/books/1490528560s/4671.jpg')]"
      ]
     },
     "execution_count": 7,
     "metadata": {},
     "output_type": "execute_result"
    }
   ],
   "source": [
    "books = spark.read\\\n",
    "  .format('org.apache.spark.sql.execution.datasources.csv.CSVFileFormat')\\\n",
    "  .option('header', 'true')\\\n",
    "  .load(cos.url('books.csv', 'cs340spring20184b12f92a8d204278af3959660617b691'))\n",
    "books.take(5)\n"
   ]
  },
  {
   "cell_type": "code",
   "execution_count": 8,
   "metadata": {},
   "outputs": [
    {
     "name": "stdout",
     "output_type": "stream",
     "text": [
      "+---+--------+------------+--------+-----------+----------+-----------------+--------------------+-------------------------+--------------------+--------------------+-------------+--------------+-------------+------------------+-----------------------+---------+---------+---------+---------+---------+--------------------+--------------------+\n",
      "| id| book_id|best_book_id| work_id|books_count|      isbn|           isbn13|             authors|original_publication_year|      original_title|               title|language_code|average_rating|ratings_count|work_ratings_count|work_text_reviews_count|ratings_1|ratings_2|ratings_3|ratings_4|ratings_5|           image_url|     small_image_url|\n",
      "+---+--------+------------+--------+-----------+----------+-----------------+--------------------+-------------------------+--------------------+--------------------+-------------+--------------+-------------+------------------+-----------------------+---------+---------+---------+---------+---------+--------------------+--------------------+\n",
      "|  1| 2767052|     2767052| 2792775|        272| 439023483|9.78043902348e+12|     Suzanne Collins|                   2008.0|    The Hunger Games|The Hunger Games ...|          eng|          4.34|      4780653|           4942365|                 155254|    66715|   127936|   560092|  1481305|  2706317|https://images.gr...|https://images.gr...|\n",
      "|  2|       3|           3| 4640799|        491| 439554934|9.78043955493e+12|J.K. Rowling, Mar...|                   1997.0|Harry Potter and ...|Harry Potter and ...|          eng|          4.44|      4602479|           4800065|                  75867|    75504|   101676|   455024|  1156318|  3011543|https://images.gr...|https://images.gr...|\n",
      "|  3|   41865|       41865| 3212258|        226| 316015849|9.78031601584e+12|     Stephenie Meyer|                   2005.0|            Twilight|Twilight (Twiligh...|        en-US|          3.57|      3866839|           3916824|                  95009|   456191|   436802|   793319|   875073|  1355439|https://images.gr...|https://images.gr...|\n",
      "|  4|    2657|        2657| 3275794|        487|  61120081|9.78006112008e+12|          Harper Lee|                   1960.0|To Kill a Mocking...|To Kill a Mocking...|          eng|          4.25|      3198671|           3340896|                  72586|    60427|   117415|   446835|  1001952|  1714267|https://images.gr...|https://images.gr...|\n",
      "|  5|    4671|        4671|  245494|       1356| 743273567|9.78074327356e+12| F. Scott Fitzgerald|                   1925.0|    The Great Gatsby|    The Great Gatsby|          eng|          3.89|      2683664|           2773745|                  51992|    86236|   197621|   606158|   936012|   947718|https://images.gr...|https://images.gr...|\n",
      "|  6|11870085|    11870085|16827462|        226| 525478817|9.78052547881e+12|          John Green|                   2012.0|The Fault in Our ...|The Fault in Our ...|          eng|          4.26|      2346404|           2478609|                 140739|    47994|    92723|   327550|   698471|  1311871|https://images.gr...|https://images.gr...|\n",
      "|  7|    5907|        5907| 1540236|        969| 618260307| 9.7806182603e+12|      J.R.R. Tolkien|                   1937.0|The Hobbit or The...|          The Hobbit|        en-US|          4.25|      2071616|           2196809|                  37653|    46023|    76784|   288649|   665635|  1119718|https://images.gr...|https://images.gr...|\n",
      "|  8|    5107|        5107| 3036731|        360| 316769177|9.78031676917e+12|       J.D. Salinger|                   1951.0|The Catcher in th...|The Catcher in th...|          eng|          3.79|      2044241|           2120637|                  44920|   109383|   185520|   455042|   661516|   709176|https://images.gr...|https://images.gr...|\n",
      "|  9|     960|         960| 3338963|        311|1416524797|9.78141652479e+12|           Dan Brown|                   2000.0|    Angels & Demons |Angels & Demons  ...|        en-CA|          3.85|      2001311|           2078754|                  25112|    77841|   145740|   458429|   716569|   680175|https://images.gr...|https://images.gr...|\n",
      "| 10|    1885|        1885| 3060926|       3455| 679783261|9.78067978327e+12|         Jane Austen|                   1813.0| Pride and Prejudice| Pride and Prejudice|          eng|          4.24|      2035490|           2191465|                  49152|    54700|    86485|   284852|   609755|  1155673|https://images.gr...|https://images.gr...|\n",
      "| 11|   77203|       77203| 3295919|        283|1594480001|   9.78159448e+12|     Khaled Hosseini|                   2003.0|    The Kite Runner |     The Kite Runner|          eng|          4.26|      1813044|           1878095|                  59730|    34288|    59980|   226062|   628174|   929591|https://images.gr...|https://images.gr...|\n",
      "| 12|13335037|    13335037|13155899|        210|  62024035|9.78006202404e+12|       Veronica Roth|                   2011.0|           Divergent|Divergent (Diverg...|          eng|          4.24|      1903563|           2216814|                 101023|    36315|    82870|   310297|   673028|  1114304|https://images.gr...|https://images.gr...|\n",
      "| 13|    5470|        5470|  153313|        995| 451524934|9.78045152494e+12|George Orwell, Er...|                   1949.0|Nineteen Eighty-Four|                1984|          eng|          4.14|      1956832|           2053394|                  45518|    41845|    86425|   324874|   692021|   908229|https://images.gr...|https://images.gr...|\n",
      "| 14|    7613|        7613| 2207778|        896| 452284244|9.78045228424e+12|       George Orwell|                   1945.0|Animal Farm: A Fa...|         Animal Farm|          eng|          3.87|      1881700|           1982987|                  35472|    66854|   135147|   433432|   698642|   648912|https://images.gr...|https://images.gr...|\n",
      "| 15|   48855|       48855| 3532896|        710| 553296981|9.78055329698e+12|Anne Frank, Elean...|                   1947.0|Het Achterhuis: D...|The Diary of a Yo...|          eng|           4.1|      1972666|           2024493|                  20825|    45225|    91270|   355756|   656870|   875372|https://images.gr...|https://images.gr...|\n",
      "| 16| 2429135|     2429135| 1708725|        274| 307269752|9.78030726975e+12|Stieg Larsson, Re...|                   2005.0|Män som hatar kvi...|The Girl with the...|          eng|          4.11|      1808403|           1929834|                  62543|    54835|    86051|   285413|   667485|   836050|https://images.gr...|https://images.gr...|\n",
      "| 17| 6148028|     6148028| 6171458|        201| 439023491| 9.7804390235e+12|     Suzanne Collins|                   2009.0|       Catching Fire|Catching Fire (Th...|          eng|           4.3|      1831039|           1988079|                  88538|    10492|    48030|   262010|   687238|   980309|https://images.gr...|https://images.gr...|\n",
      "| 18|       5|           5| 2402163|        376|043965548X|9.78043965548e+12|J.K. Rowling, Mar...|                   1999.0|Harry Potter and ...|Harry Potter and ...|          eng|          4.53|      1832823|           1969375|                  36099|     6716|    20413|   166129|   509447|  1266670|https://images.gr...|https://images.gr...|\n",
      "| 19|      34|          34| 3204327|        566| 618346252|9.78061834626e+12|      J.R.R. Tolkien|                   1954.0| The Fellowship o...|The Fellowship of...|          eng|          4.34|      1766803|           1832541|                  15333|    38031|    55862|   202332|   493922|  1042394|https://images.gr...|https://images.gr...|\n",
      "| 20| 7260188|     7260188| 8812783|        239| 439023513|9.78043902351e+12|     Suzanne Collins|                   2010.0|          Mockingjay|Mockingjay (The H...|          eng|          4.03|      1719760|           1870748|                  96274|    30144|   110498|   373060|   618271|   738775|https://images.gr...|https://images.gr...|\n",
      "+---+--------+------------+--------+-----------+----------+-----------------+--------------------+-------------------------+--------------------+--------------------+-------------+--------------+-------------+------------------+-----------------------+---------+---------+---------+---------+---------+--------------------+--------------------+\n",
      "only showing top 20 rows\n",
      "\n"
     ]
    }
   ],
   "source": [
    "books.show()"
   ]
  },
  {
   "cell_type": "code",
   "execution_count": 9,
   "metadata": {},
   "outputs": [
    {
     "data": {
      "text/plain": [
       "['id',\n",
       " 'book_id',\n",
       " 'best_book_id',\n",
       " 'work_id',\n",
       " 'books_count',\n",
       " 'isbn',\n",
       " 'isbn13',\n",
       " 'authors',\n",
       " 'original_publication_year',\n",
       " 'original_title',\n",
       " 'title',\n",
       " 'language_code',\n",
       " 'average_rating',\n",
       " 'ratings_count',\n",
       " 'work_ratings_count',\n",
       " 'work_text_reviews_count',\n",
       " 'ratings_1',\n",
       " 'ratings_2',\n",
       " 'ratings_3',\n",
       " 'ratings_4',\n",
       " 'ratings_5',\n",
       " 'image_url',\n",
       " 'small_image_url']"
      ]
     },
     "execution_count": 9,
     "metadata": {},
     "output_type": "execute_result"
    }
   ],
   "source": [
    "books.columns"
   ]
  },
  {
   "cell_type": "code",
   "execution_count": 10,
   "metadata": {},
   "outputs": [
    {
     "name": "stdout",
     "output_type": "stream",
     "text": [
      "+---+--------+----------+--------------------+-------------+--------------+\n",
      "| id| book_id|      isbn|      original_title|language_code|average_rating|\n",
      "+---+--------+----------+--------------------+-------------+--------------+\n",
      "|  1| 2767052| 439023483|    The Hunger Games|          eng|          4.34|\n",
      "|  2|       3| 439554934|Harry Potter and ...|          eng|          4.44|\n",
      "|  3|   41865| 316015849|            Twilight|        en-US|          3.57|\n",
      "|  4|    2657|  61120081|To Kill a Mocking...|          eng|          4.25|\n",
      "|  5|    4671| 743273567|    The Great Gatsby|          eng|          3.89|\n",
      "|  6|11870085| 525478817|The Fault in Our ...|          eng|          4.26|\n",
      "|  7|    5907| 618260307|The Hobbit or The...|        en-US|          4.25|\n",
      "|  8|    5107| 316769177|The Catcher in th...|          eng|          3.79|\n",
      "|  9|     960|1416524797|    Angels & Demons |        en-CA|          3.85|\n",
      "| 10|    1885| 679783261| Pride and Prejudice|          eng|          4.24|\n",
      "| 11|   77203|1594480001|    The Kite Runner |          eng|          4.26|\n",
      "| 12|13335037|  62024035|           Divergent|          eng|          4.24|\n",
      "| 13|    5470| 451524934|Nineteen Eighty-Four|          eng|          4.14|\n",
      "| 14|    7613| 452284244|Animal Farm: A Fa...|          eng|          3.87|\n",
      "| 15|   48855| 553296981|Het Achterhuis: D...|          eng|           4.1|\n",
      "| 16| 2429135| 307269752|Män som hatar kvi...|          eng|          4.11|\n",
      "| 17| 6148028| 439023491|       Catching Fire|          eng|           4.3|\n",
      "| 18|       5|043965548X|Harry Potter and ...|          eng|          4.53|\n",
      "| 19|      34| 618346252| The Fellowship o...|          eng|          4.34|\n",
      "| 20| 7260188| 439023513|          Mockingjay|          eng|          4.03|\n",
      "+---+--------+----------+--------------------+-------------+--------------+\n",
      "only showing top 20 rows\n",
      "\n"
     ]
    }
   ],
   "source": [
    "books.select([\"id\",\"book_id\",\"isbn\",\"original_title\",\"language_code\",\"average_rating\"]).show()"
   ]
  },
  {
   "cell_type": "markdown",
   "metadata": {},
   "source": [
    "# Let's get the average rating per tag"
   ]
  },
  {
   "cell_type": "code",
   "execution_count": 11,
   "metadata": {},
   "outputs": [
    {
     "data": {
      "text/plain": [
       "['goodreads_book_id', 'tag_id', 'count']"
      ]
     },
     "execution_count": 11,
     "metadata": {},
     "output_type": "execute_result"
    }
   ],
   "source": [
    "book_tags = spark.read\\\n",
    "  .format('org.apache.spark.sql.execution.datasources.csv.CSVFileFormat')\\\n",
    "  .option('header', 'true')\\\n",
    "  .load(cos.url('book_tags.csv', 'cs340spring20184b12f92a8d204278af3959660617b691'))\n",
    "book_tags.columns\n"
   ]
  },
  {
   "cell_type": "code",
   "execution_count": 12,
   "metadata": {},
   "outputs": [
    {
     "name": "stdout",
     "output_type": "stream",
     "text": [
      "+-----------------+------+------+\n",
      "|goodreads_book_id|tag_id| count|\n",
      "+-----------------+------+------+\n",
      "|                1| 30574|167697|\n",
      "|                1| 11305| 37174|\n",
      "|                1| 11557| 34173|\n",
      "|                1|  8717| 12986|\n",
      "|                1| 33114| 12716|\n",
      "|                1| 11743|  9954|\n",
      "|                1| 14017|  7169|\n",
      "|                1|  5207|  6221|\n",
      "|                1| 22743|  4974|\n",
      "|                1| 32989|  4364|\n",
      "|                1| 27199|  3857|\n",
      "|                1| 11590|  3456|\n",
      "|                1| 18886|  3374|\n",
      "|                1|  6953|  2408|\n",
      "|                1| 22753|  1881|\n",
      "|                1| 24960|  1821|\n",
      "|                1|  1691|  1742|\n",
      "|                1|  6857|  1560|\n",
      "|                1| 15965|  1309|\n",
      "|                1|  6888|  1095|\n",
      "+-----------------+------+------+\n",
      "only showing top 20 rows\n",
      "\n"
     ]
    }
   ],
   "source": [
    "book_tags.show()"
   ]
  },
  {
   "cell_type": "code",
   "execution_count": 14,
   "metadata": {},
   "outputs": [
    {
     "name": "stdout",
     "output_type": "stream",
     "text": [
      "+-------+------+--------------+-------------+\n",
      "|book_id|tag_id|average_rating|language_code|\n",
      "+-------+------+--------------+-------------+\n",
      "|      1| 30574|          4.54|          eng|\n",
      "|      1| 11305|          4.54|          eng|\n",
      "|      1| 11557|          4.54|          eng|\n",
      "|      1|  8717|          4.54|          eng|\n",
      "|      1| 33114|          4.54|          eng|\n",
      "|      1| 11743|          4.54|          eng|\n",
      "|      1| 14017|          4.54|          eng|\n",
      "|      1|  5207|          4.54|          eng|\n",
      "|      1| 22743|          4.54|          eng|\n",
      "|      1| 32989|          4.54|          eng|\n",
      "|      1| 27199|          4.54|          eng|\n",
      "|      1| 11590|          4.54|          eng|\n",
      "|      1| 18886|          4.54|          eng|\n",
      "|      1|  6953|          4.54|          eng|\n",
      "|      1| 22753|          4.54|          eng|\n",
      "|      1| 24960|          4.54|          eng|\n",
      "|      1|  1691|          4.54|          eng|\n",
      "|      1|  6857|          4.54|          eng|\n",
      "|      1| 15965|          4.54|          eng|\n",
      "|      1|  6888|          4.54|          eng|\n",
      "+-------+------+--------------+-------------+\n",
      "only showing top 20 rows\n",
      "\n"
     ]
    }
   ],
   "source": [
    "tags_ratings = books.join(book_tags, books['book_id']==book_tags['goodreads_book_id']).select([\"book_id\",\"tag_id\",\"average_rating\",\"language_code\"])\n",
    "tags_ratings.show()"
   ]
  },
  {
   "cell_type": "code",
   "execution_count": 15,
   "metadata": {},
   "outputs": [
    {
     "data": {
      "text/plain": [
       "999912"
      ]
     },
     "execution_count": 15,
     "metadata": {},
     "output_type": "execute_result"
    }
   ],
   "source": [
    "book_tags.count()"
   ]
  },
  {
   "cell_type": "code",
   "execution_count": 16,
   "metadata": {},
   "outputs": [],
   "source": [
    "grouped_tags = tags_ratings.groupBy(\"tag_id\")"
   ]
  },
  {
   "cell_type": "code",
   "execution_count": 17,
   "metadata": {},
   "outputs": [
    {
     "name": "stdout",
     "output_type": "stream",
     "text": [
      "+------+-----+\n",
      "|tag_id|count|\n",
      "+------+-----+\n",
      "| 19132|   14|\n",
      "|   829|  559|\n",
      "| 18130|  412|\n",
      "| 19095|    7|\n",
      "| 22254|    1|\n",
      "| 23097|    2|\n",
      "|  2136|  588|\n",
      "| 31713|   13|\n",
      "|  2294|  200|\n",
      "| 32812|  214|\n",
      "| 28839|   71|\n",
      "| 13865|   52|\n",
      "|  2904|   12|\n",
      "|  7273|   13|\n",
      "| 27248|   16|\n",
      "|  8304|   25|\n",
      "| 27264|    6|\n",
      "| 29089|   26|\n",
      "| 21249|   18|\n",
      "|  9009|    5|\n",
      "+------+-----+\n",
      "only showing top 20 rows\n",
      "\n"
     ]
    }
   ],
   "source": [
    "grouped_tags.count().show()"
   ]
  },
  {
   "cell_type": "code",
   "execution_count": 18,
   "metadata": {},
   "outputs": [
    {
     "ename": "AnalysisException",
     "evalue": "'\"average_rating\" is not a numeric column. Aggregation function can only be applied on a numeric column.;'",
     "output_type": "error",
     "traceback": [
      "\u001b[0;31m---------------------------------------------------------------------------\u001b[0m",
      "\u001b[0;31mPy4JJavaError\u001b[0m                             Traceback (most recent call last)",
      "\u001b[0;32m/usr/local/src/spark21master/spark/python/pyspark/sql/utils.py\u001b[0m in \u001b[0;36mdeco\u001b[0;34m(*a, **kw)\u001b[0m\n\u001b[1;32m     62\u001b[0m         \u001b[0;32mtry\u001b[0m\u001b[0;34m:\u001b[0m\u001b[0;34m\u001b[0m\u001b[0m\n\u001b[0;32m---> 63\u001b[0;31m             \u001b[0;32mreturn\u001b[0m \u001b[0mf\u001b[0m\u001b[0;34m(\u001b[0m\u001b[0;34m*\u001b[0m\u001b[0ma\u001b[0m\u001b[0;34m,\u001b[0m \u001b[0;34m**\u001b[0m\u001b[0mkw\u001b[0m\u001b[0;34m)\u001b[0m\u001b[0;34m\u001b[0m\u001b[0m\n\u001b[0m\u001b[1;32m     64\u001b[0m         \u001b[0;32mexcept\u001b[0m \u001b[0mpy4j\u001b[0m\u001b[0;34m.\u001b[0m\u001b[0mprotocol\u001b[0m\u001b[0;34m.\u001b[0m\u001b[0mPy4JJavaError\u001b[0m \u001b[0;32mas\u001b[0m \u001b[0me\u001b[0m\u001b[0;34m:\u001b[0m\u001b[0;34m\u001b[0m\u001b[0m\n",
      "\u001b[0;32m/usr/local/src/spark21master/spark/python/lib/py4j-0.10.4-src.zip/py4j/protocol.py\u001b[0m in \u001b[0;36mget_return_value\u001b[0;34m(answer, gateway_client, target_id, name)\u001b[0m\n\u001b[1;32m    318\u001b[0m                     \u001b[0;34m\"An error occurred while calling {0}{1}{2}.\\n\"\u001b[0m\u001b[0;34m.\u001b[0m\u001b[0;34m\u001b[0m\u001b[0m\n\u001b[0;32m--> 319\u001b[0;31m                     format(target_id, \".\", name), value)\n\u001b[0m\u001b[1;32m    320\u001b[0m             \u001b[0;32melse\u001b[0m\u001b[0;34m:\u001b[0m\u001b[0;34m\u001b[0m\u001b[0m\n",
      "\u001b[0;31mPy4JJavaError\u001b[0m: An error occurred while calling o138.avg.\n: org.apache.spark.sql.AnalysisException: \"average_rating\" is not a numeric column. Aggregation function can only be applied on a numeric column.;\n\tat org.apache.spark.sql.RelationalGroupedDataset$$anonfun$3.apply(RelationalGroupedDataset.scala:99)\n\tat org.apache.spark.sql.RelationalGroupedDataset$$anonfun$3.apply(RelationalGroupedDataset.scala:96)\n\tat scala.collection.TraversableLike$$anonfun$map$1.apply(TraversableLike.scala:234)\n\tat scala.collection.TraversableLike$$anonfun$map$1.apply(TraversableLike.scala:234)\n\tat scala.collection.Iterator$class.foreach(Iterator.scala:893)\n\tat scala.collection.AbstractIterator.foreach(Iterator.scala:1336)\n\tat scala.collection.IterableLike$class.foreach(IterableLike.scala:72)\n\tat scala.collection.AbstractIterable.foreach(Iterable.scala:54)\n\tat scala.collection.TraversableLike$class.map(TraversableLike.scala:234)\n\tat scala.collection.AbstractTraversable.map(Traversable.scala:104)\n\tat org.apache.spark.sql.RelationalGroupedDataset.aggregateNumericColumns(RelationalGroupedDataset.scala:96)\n\tat org.apache.spark.sql.RelationalGroupedDataset.avg(RelationalGroupedDataset.scala:270)\n\tat sun.reflect.NativeMethodAccessorImpl.invoke0(Native Method)\n\tat sun.reflect.NativeMethodAccessorImpl.invoke(NativeMethodAccessorImpl.java:95)\n\tat sun.reflect.DelegatingMethodAccessorImpl.invoke(DelegatingMethodAccessorImpl.java:55)\n\tat java.lang.reflect.Method.invoke(Method.java:507)\n\tat py4j.reflection.MethodInvoker.invoke(MethodInvoker.java:244)\n\tat py4j.reflection.ReflectionEngine.invoke(ReflectionEngine.java:357)\n\tat py4j.Gateway.invoke(Gateway.java:280)\n\tat py4j.commands.AbstractCommand.invokeMethod(AbstractCommand.java:132)\n\tat py4j.commands.CallCommand.execute(CallCommand.java:79)\n\tat py4j.GatewayConnection.run(GatewayConnection.java:214)\n\tat java.lang.Thread.run(Thread.java:785)\n",
      "\nDuring handling of the above exception, another exception occurred:\n",
      "\u001b[0;31mAnalysisException\u001b[0m                         Traceback (most recent call last)",
      "\u001b[0;32m<ipython-input-18-27d8a4332e6f>\u001b[0m in \u001b[0;36m<module>\u001b[0;34m()\u001b[0m\n\u001b[0;32m----> 1\u001b[0;31m \u001b[0mgrouped_tags\u001b[0m\u001b[0;34m.\u001b[0m\u001b[0mavg\u001b[0m\u001b[0;34m(\u001b[0m\u001b[0;34m\"average_rating\"\u001b[0m\u001b[0;34m)\u001b[0m\u001b[0;34m\u001b[0m\u001b[0m\n\u001b[0m",
      "\u001b[0;32m/usr/local/src/spark21master/spark/python/pyspark/sql/group.py\u001b[0m in \u001b[0;36m_api\u001b[0;34m(self, *cols)\u001b[0m\n\u001b[1;32m     38\u001b[0m     \u001b[0;32mdef\u001b[0m \u001b[0m_api\u001b[0m\u001b[0;34m(\u001b[0m\u001b[0mself\u001b[0m\u001b[0;34m,\u001b[0m \u001b[0;34m*\u001b[0m\u001b[0mcols\u001b[0m\u001b[0;34m)\u001b[0m\u001b[0;34m:\u001b[0m\u001b[0;34m\u001b[0m\u001b[0m\n\u001b[1;32m     39\u001b[0m         \u001b[0mname\u001b[0m \u001b[0;34m=\u001b[0m \u001b[0mf\u001b[0m\u001b[0;34m.\u001b[0m\u001b[0m__name__\u001b[0m\u001b[0;34m\u001b[0m\u001b[0m\n\u001b[0;32m---> 40\u001b[0;31m         \u001b[0mjdf\u001b[0m \u001b[0;34m=\u001b[0m \u001b[0mgetattr\u001b[0m\u001b[0;34m(\u001b[0m\u001b[0mself\u001b[0m\u001b[0;34m.\u001b[0m\u001b[0m_jgd\u001b[0m\u001b[0;34m,\u001b[0m \u001b[0mname\u001b[0m\u001b[0;34m)\u001b[0m\u001b[0;34m(\u001b[0m\u001b[0m_to_seq\u001b[0m\u001b[0;34m(\u001b[0m\u001b[0mself\u001b[0m\u001b[0;34m.\u001b[0m\u001b[0msql_ctx\u001b[0m\u001b[0;34m.\u001b[0m\u001b[0m_sc\u001b[0m\u001b[0;34m,\u001b[0m \u001b[0mcols\u001b[0m\u001b[0;34m)\u001b[0m\u001b[0;34m)\u001b[0m\u001b[0;34m\u001b[0m\u001b[0m\n\u001b[0m\u001b[1;32m     41\u001b[0m         \u001b[0;32mreturn\u001b[0m \u001b[0mDataFrame\u001b[0m\u001b[0;34m(\u001b[0m\u001b[0mjdf\u001b[0m\u001b[0;34m,\u001b[0m \u001b[0mself\u001b[0m\u001b[0;34m.\u001b[0m\u001b[0msql_ctx\u001b[0m\u001b[0;34m)\u001b[0m\u001b[0;34m\u001b[0m\u001b[0m\n\u001b[1;32m     42\u001b[0m     \u001b[0m_api\u001b[0m\u001b[0;34m.\u001b[0m\u001b[0m__name__\u001b[0m \u001b[0;34m=\u001b[0m \u001b[0mf\u001b[0m\u001b[0;34m.\u001b[0m\u001b[0m__name__\u001b[0m\u001b[0;34m\u001b[0m\u001b[0m\n",
      "\u001b[0;32m/usr/local/src/spark21master/spark/python/lib/py4j-0.10.4-src.zip/py4j/java_gateway.py\u001b[0m in \u001b[0;36m__call__\u001b[0;34m(self, *args)\u001b[0m\n\u001b[1;32m   1131\u001b[0m         \u001b[0manswer\u001b[0m \u001b[0;34m=\u001b[0m \u001b[0mself\u001b[0m\u001b[0;34m.\u001b[0m\u001b[0mgateway_client\u001b[0m\u001b[0;34m.\u001b[0m\u001b[0msend_command\u001b[0m\u001b[0;34m(\u001b[0m\u001b[0mcommand\u001b[0m\u001b[0;34m)\u001b[0m\u001b[0;34m\u001b[0m\u001b[0m\n\u001b[1;32m   1132\u001b[0m         return_value = get_return_value(\n\u001b[0;32m-> 1133\u001b[0;31m             answer, self.gateway_client, self.target_id, self.name)\n\u001b[0m\u001b[1;32m   1134\u001b[0m \u001b[0;34m\u001b[0m\u001b[0m\n\u001b[1;32m   1135\u001b[0m         \u001b[0;32mfor\u001b[0m \u001b[0mtemp_arg\u001b[0m \u001b[0;32min\u001b[0m \u001b[0mtemp_args\u001b[0m\u001b[0;34m:\u001b[0m\u001b[0;34m\u001b[0m\u001b[0m\n",
      "\u001b[0;32m/usr/local/src/spark21master/spark/python/pyspark/sql/utils.py\u001b[0m in \u001b[0;36mdeco\u001b[0;34m(*a, **kw)\u001b[0m\n\u001b[1;32m     67\u001b[0m                                              e.java_exception.getStackTrace()))\n\u001b[1;32m     68\u001b[0m             \u001b[0;32mif\u001b[0m \u001b[0ms\u001b[0m\u001b[0;34m.\u001b[0m\u001b[0mstartswith\u001b[0m\u001b[0;34m(\u001b[0m\u001b[0;34m'org.apache.spark.sql.AnalysisException: '\u001b[0m\u001b[0;34m)\u001b[0m\u001b[0;34m:\u001b[0m\u001b[0;34m\u001b[0m\u001b[0m\n\u001b[0;32m---> 69\u001b[0;31m                 \u001b[0;32mraise\u001b[0m \u001b[0mAnalysisException\u001b[0m\u001b[0;34m(\u001b[0m\u001b[0ms\u001b[0m\u001b[0;34m.\u001b[0m\u001b[0msplit\u001b[0m\u001b[0;34m(\u001b[0m\u001b[0;34m': '\u001b[0m\u001b[0;34m,\u001b[0m \u001b[0;36m1\u001b[0m\u001b[0;34m)\u001b[0m\u001b[0;34m[\u001b[0m\u001b[0;36m1\u001b[0m\u001b[0;34m]\u001b[0m\u001b[0;34m,\u001b[0m \u001b[0mstackTrace\u001b[0m\u001b[0;34m)\u001b[0m\u001b[0;34m\u001b[0m\u001b[0m\n\u001b[0m\u001b[1;32m     70\u001b[0m             \u001b[0;32mif\u001b[0m \u001b[0ms\u001b[0m\u001b[0;34m.\u001b[0m\u001b[0mstartswith\u001b[0m\u001b[0;34m(\u001b[0m\u001b[0;34m'org.apache.spark.sql.catalyst.analysis'\u001b[0m\u001b[0;34m)\u001b[0m\u001b[0;34m:\u001b[0m\u001b[0;34m\u001b[0m\u001b[0m\n\u001b[1;32m     71\u001b[0m                 \u001b[0;32mraise\u001b[0m \u001b[0mAnalysisException\u001b[0m\u001b[0;34m(\u001b[0m\u001b[0ms\u001b[0m\u001b[0;34m.\u001b[0m\u001b[0msplit\u001b[0m\u001b[0;34m(\u001b[0m\u001b[0;34m': '\u001b[0m\u001b[0;34m,\u001b[0m \u001b[0;36m1\u001b[0m\u001b[0;34m)\u001b[0m\u001b[0;34m[\u001b[0m\u001b[0;36m1\u001b[0m\u001b[0;34m]\u001b[0m\u001b[0;34m,\u001b[0m \u001b[0mstackTrace\u001b[0m\u001b[0;34m)\u001b[0m\u001b[0;34m\u001b[0m\u001b[0m\n",
      "\u001b[0;31mAnalysisException\u001b[0m: '\"average_rating\" is not a numeric column. Aggregation function can only be applied on a numeric column.;'"
     ]
    }
   ],
   "source": [
    "grouped_tags.avg(\"average_rating\")"
   ]
  },
  {
   "cell_type": "markdown",
   "metadata": {},
   "source": [
    "# \"average_rating\" is not a numeric column.\n",
    "## Aggregation function can only be applied on a numeric column."
   ]
  },
  {
   "cell_type": "code",
   "execution_count": 19,
   "metadata": {},
   "outputs": [
    {
     "name": "stdout",
     "output_type": "stream",
     "text": [
      "root\n",
      " |-- book_id: string (nullable = true)\n",
      " |-- tag_id: string (nullable = true)\n",
      " |-- average_rating: string (nullable = true)\n",
      " |-- language_code: string (nullable = true)\n",
      "\n"
     ]
    }
   ],
   "source": [
    "tags_ratings.printSchema()"
   ]
  },
  {
   "cell_type": "markdown",
   "metadata": {},
   "source": [
    "# Cast\n",
    "<img src='https://preview.ibb.co/iq7s1c/s26c_Z1523345891.jpg'>"
   ]
  },
  {
   "cell_type": "code",
   "execution_count": 20,
   "metadata": {},
   "outputs": [
    {
     "name": "stdout",
     "output_type": "stream",
     "text": [
      "root\n",
      " |-- book_id: string (nullable = true)\n",
      " |-- tag_id: string (nullable = true)\n",
      " |-- average_rating: float (nullable = true)\n",
      " |-- language_code: string (nullable = true)\n",
      "\n"
     ]
    }
   ],
   "source": [
    "average_rating_num = tags_ratings.average_rating.cast('float')\n",
    "tags_ratings_num = tags_ratings.withColumn(\"average_rating\", average_rating_num)\n",
    "tags_ratings_num.printSchema()"
   ]
  },
  {
   "cell_type": "code",
   "execution_count": 21,
   "metadata": {},
   "outputs": [],
   "source": [
    "from pyspark.sql.functions import col, desc"
   ]
  },
  {
   "cell_type": "code",
   "execution_count": 22,
   "metadata": {},
   "outputs": [
    {
     "name": "stdout",
     "output_type": "stream",
     "text": [
      "+------+-----------------+\n",
      "|tag_id|       tag_rating|\n",
      "+------+-----------------+\n",
      "| 14674|4.775000095367432|\n",
      "|  6833|4.769999980926514|\n",
      "| 32803|4.769999980926514|\n",
      "|  5574|4.769999980926514|\n",
      "|  4319|4.769999980926514|\n",
      "| 18890|4.769999980926514|\n",
      "| 15306|4.769999980926514|\n",
      "| 28760|4.769999980926514|\n",
      "|  4431|4.760000228881836|\n",
      "|  5415|4.760000228881836|\n",
      "| 28859|4.760000228881836|\n",
      "| 32085|4.760000228881836|\n",
      "|  7114|4.760000228881836|\n",
      "| 30242|4.760000228881836|\n",
      "| 13369|4.760000228881836|\n",
      "|   120|4.760000228881836|\n",
      "| 28858|4.760000228881836|\n",
      "| 26967|4.760000228881836|\n",
      "|  4430|4.760000228881836|\n",
      "|  4449|4.760000228881836|\n",
      "+------+-----------------+\n",
      "only showing top 20 rows\n",
      "\n"
     ]
    }
   ],
   "source": [
    "grouped_tags = tags_ratings_num.groupBy(\"tag_id\")\n",
    "tags_ratings = grouped_tags.avg(\"average_rating\")\n",
    "tags_ratings = tags_ratings.select([c for c in tags_ratings.columns if 'average_rating' not in c]\n",
    "                                   +[col(\"avg(average_rating)\").alias(\"tag_rating\")])\\\n",
    "                            .sort(desc(\"tag_rating\"))\n",
    "tags_ratings.show()"
   ]
  },
  {
   "cell_type": "markdown",
   "metadata": {},
   "source": [
    "# Nulls\n",
    "<img src='https://encrypted-tbn0.gstatic.com/images?q=tbn:ANd9GcTSSnyVc-eOyJkTfr7sY6n9fA0pd-jP2jrFpc3Yuf0P3FpDiuUC' width='50%' height='50%'>"
   ]
  },
  {
   "cell_type": "code",
   "execution_count": 23,
   "metadata": {},
   "outputs": [
    {
     "data": {
      "text/plain": [
       "34252"
      ]
     },
     "execution_count": 23,
     "metadata": {},
     "output_type": "execute_result"
    }
   ],
   "source": [
    "tags_ratings.count()"
   ]
  },
  {
   "cell_type": "code",
   "execution_count": 24,
   "metadata": {},
   "outputs": [
    {
     "data": {
      "text/plain": [
       "34243"
      ]
     },
     "execution_count": 24,
     "metadata": {},
     "output_type": "execute_result"
    }
   ],
   "source": [
    "tags_ratings = tags_ratings.where(tags_ratings.tag_rating.isNotNull())\n",
    "tags_ratings.count()"
   ]
  },
  {
   "cell_type": "code",
   "execution_count": 25,
   "metadata": {},
   "outputs": [
    {
     "name": "stdout",
     "output_type": "stream",
     "text": [
      "+------+--------------------+\n",
      "|tag_id|            tag_name|\n",
      "+------+--------------------+\n",
      "|     0|                   -|\n",
      "|     1|                --1-|\n",
      "|     2|               --10-|\n",
      "|     3|               --12-|\n",
      "|     4|              --122-|\n",
      "|     5|              --166-|\n",
      "|     6|               --17-|\n",
      "|     7|               --19-|\n",
      "|     8|                --2-|\n",
      "|     9|              --258-|\n",
      "|    10|                --3-|\n",
      "|    11|               --33-|\n",
      "|    12|                --4-|\n",
      "|    13|                --5-|\n",
      "|    14|               --51-|\n",
      "|    15|                --6-|\n",
      "|    16|               --62-|\n",
      "|    17|                --8-|\n",
      "|    18|               --99-|\n",
      "|    19|--available-at-ra...|\n",
      "+------+--------------------+\n",
      "only showing top 20 rows\n",
      "\n"
     ]
    }
   ],
   "source": [
    "tags_data = spark.read\\\n",
    "  .format('org.apache.spark.sql.execution.datasources.csv.CSVFileFormat')\\\n",
    "  .option('header', 'true')\\\n",
    "  .load(cos.url('tags.csv', 'cs340spring20184b12f92a8d204278af3959660617b691'))\n",
    "tags_data.show()"
   ]
  },
  {
   "cell_type": "code",
   "execution_count": 26,
   "metadata": {},
   "outputs": [
    {
     "name": "stdout",
     "output_type": "stream",
     "text": [
      "+------+-----------------+--------------------+\n",
      "|tag_id|       tag_rating|            tag_name|\n",
      "+------+-----------------+--------------------+\n",
      "| 14674|4.775000095367432|              hobbes|\n",
      "| 28760|4.769999980926514|          stormlight|\n",
      "| 18890|4.769999980926514|       magic-is-real|\n",
      "|  5574|4.769999980926514|              boxset|\n",
      "| 15306|4.769999980926514|         imaginative|\n",
      "| 32803|4.769999980926514|         world-shift|\n",
      "|  4319|4.769999980926514|best-books-i-have...|\n",
      "|  6833|4.769999980926514|   childhood-classic|\n",
      "| 32085|4.760000228881836|    want-my-own-copy|\n",
      "|  4449|4.760000228881836|     biblical-novels|\n",
      "|  7114|4.760000228881836| christian-favorites|\n",
      "|   277|4.760000228881836|    101-bibles-tools|\n",
      "| 28858|4.760000228881836|         study-bible|\n",
      "| 10992|4.760000228881836|  everyone-must-read|\n",
      "|  5415|4.760000228881836| books-to-read-later|\n",
      "| 13369|4.760000228881836|         good-enough|\n",
      "|  5282|4.760000228881836|books-in-my-perso...|\n",
      "|  4431|4.760000228881836|bible-commentary-...|\n",
      "|   120|4.760000228881836|             05ip9hg|\n",
      "|  7128|4.760000228881836|      christian-help|\n",
      "+------+-----------------+--------------------+\n",
      "only showing top 20 rows\n",
      "\n"
     ]
    }
   ],
   "source": [
    "tags_ratings.join(tags_data, on=\"tag_id\").show()"
   ]
  }
 ],
 "metadata": {
  "kernelspec": {
   "display_name": "Python 3.5 with Spark 2.1",
   "language": "python",
   "name": "python3-spark21"
  },
  "language_info": {
   "codemirror_mode": {
    "name": "ipython",
    "version": 3
   },
   "file_extension": ".py",
   "mimetype": "text/x-python",
   "name": "python",
   "nbconvert_exporter": "python",
   "pygments_lexer": "ipython3",
   "version": "3.5.4"
  }
 },
 "nbformat": 4,
 "nbformat_minor": 1
}
