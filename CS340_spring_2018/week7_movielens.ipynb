{
 "cells": [
  {
   "cell_type": "markdown",
   "metadata": {
    "collapsed": true
   },
   "source": [
    "## 1) Reliable Users\n",
    "\n",
    "\n",
    "<img src='http://www.indiaeducation.net/imagesvr_ce/698/Critics%201.jpg' />\n",
    "<p style=\"text-indent: 40px\">For the first part of this assignment you should find out the top 1000 reliable users. In order to do that you would need tags' relevance score from genome-scores.csv file. Assuming the relevance scores of movies' tags in genome-scores.csv are correct, we can find out if a user's tag to a particular movie is relevant or not. If we get the total of those relevance scores for each user then we can rank the them according to this criteria.</p>\n",
    "\n",
    "<p style=\"text-indent: 40px\">One caveat is that relevance scores are between 0 and 1. We want to scale it between -1 and 1 and also we want to punish more if the issued tag is not relevant. First multiply relevance with 20 and then substract 12 so relevance score range will be between -12 and 8 and then apply hyperbolic tangent. That way relevance's range will be between -1 and 1.</p>\n",
    "\n",
    "<p style=\"text-indent: 40px\"> Note: You should use PySpark's <b>tanh</b> function. Also use caching appropriately in order to be able to get the results in a reasonable time.</p>\n",
    "<p style=\"text-indent: 40px\"> Caution: Do not use RDDs. Every operation should be done on the executors not in the driver machine.</p>\n",
    "<p style=\"text-indent: 40px\">Important: Do not discuss the solution with your friends. <b>Plagiarism</b> will not be tolerated and issue will be referred to the <b>disciplinary committee</b>.</p>\n",
    "\n",
    "<div>\n",
    "    <img src=\"http://image.prntscr.com/image/1f91352835964c31b04be03da7d53581.jpg\" width=500>\n",
    "\n",
    "    <center><strong>Figure 1: Tanh function.</strong></center>\n",
    "</div>\n",
    "\n",
    "# Data\n",
    "#### https://www.kaggle.com/grouplens/movielens-20m-dataset"
   ]
  },
  {
   "cell_type": "code",
   "execution_count": 18,
   "metadata": {},
   "outputs": [],
   "source": [
    "import ibmos2spark\n",
    "\n",
    "### CREDENTIALS\n",
    "\n",
    "configuration_name = 'os_b0d31744b6c54747aec215514fff27a4_configs'\n",
    "cos = ibmos2spark.CloudObjectStorage(sc, credentials, configuration_name, 'bluemix_cos')\n",
    "from pyspark.sql import SparkSession\n",
    "spark = SparkSession.builder.getOrCreate()"
   ]
  },
  {
   "cell_type": "code",
   "execution_count": 19,
   "metadata": {},
   "outputs": [
    {
     "name": "stdout",
     "output_type": "stream",
     "text": [
      "+------+-------+-----------------+-------------------+\n",
      "|userId|movieId|              tag|          timestamp|\n",
      "+------+-------+-----------------+-------------------+\n",
      "|    18|   4141|      Mark Waters|2009-04-24 18:19:40|\n",
      "|    65|    208|        dark hero|2013-05-10 01:41:18|\n",
      "|    65|    353|        dark hero|2013-05-10 01:41:19|\n",
      "|    65|    521|    noir thriller|2013-05-10 01:39:43|\n",
      "|    65|    592|        dark hero|2013-05-10 01:41:18|\n",
      "|    65|    668|        bollywood|2013-05-10 01:37:56|\n",
      "|    65|    898| screwball comedy|2013-05-10 01:42:40|\n",
      "|    65|   1248|    noir thriller|2013-05-10 01:39:43|\n",
      "|    65|   1391|             mars|2013-05-10 01:40:55|\n",
      "|    65|   1617|         neo-noir|2013-05-10 01:43:37|\n",
      "|    65|   1694|            jesus|2013-05-10 01:38:45|\n",
      "|    65|   1783|    noir thriller|2013-05-10 01:39:43|\n",
      "|    65|   2022|            jesus|2013-05-10 01:38:45|\n",
      "|    65|   2193|           dragon|2013-05-10 02:01:54|\n",
      "|    65|   2353|conspiracy theory|2013-05-10 02:01:06|\n",
      "|    65|   2662|             mars|2013-05-10 01:40:55|\n",
      "|    65|   2726|    noir thriller|2013-05-10 01:39:43|\n",
      "|    65|   2840|            jesus|2013-05-10 01:38:45|\n",
      "|    65|   3052|            jesus|2013-05-10 01:38:46|\n",
      "|    65|   5135|        bollywood|2013-05-10 01:37:56|\n",
      "+------+-------+-----------------+-------------------+\n",
      "only showing top 20 rows\n",
      "\n"
     ]
    }
   ],
   "source": [
    "tags = spark.read\\\n",
    "  .format('org.apache.spark.sql.execution.datasources.csv.CSVFileFormat')\\\n",
    "  .option('header', 'true')\\\n",
    "  .load(cos.url('tag.csv', 'cs340spring20184b12f92a8d204278af3959660617b691'))\n",
    "tags.show()"
   ]
  },
  {
   "cell_type": "code",
   "execution_count": 20,
   "metadata": {},
   "outputs": [
    {
     "name": "stdout",
     "output_type": "stream",
     "text": [
      "+-----+---------------+\n",
      "|tagId|            tag|\n",
      "+-----+---------------+\n",
      "|    1|            007|\n",
      "|    2|   007 (series)|\n",
      "|    3|   18th century|\n",
      "|    4|          1920s|\n",
      "|    5|          1930s|\n",
      "|    6|          1950s|\n",
      "|    7|          1960s|\n",
      "|    8|          1970s|\n",
      "|    9|          1980s|\n",
      "|   10|   19th century|\n",
      "|   11|             3d|\n",
      "|   12|           70mm|\n",
      "|   13|            80s|\n",
      "|   14|           9/11|\n",
      "|   15|        aardman|\n",
      "|   16|aardman studios|\n",
      "|   17|       abortion|\n",
      "|   18|         absurd|\n",
      "|   19|         action|\n",
      "|   20|  action packed|\n",
      "+-----+---------------+\n",
      "only showing top 20 rows\n",
      "\n"
     ]
    }
   ],
   "source": [
    "genome_tags = spark.read\\\n",
    "  .format('org.apache.spark.sql.execution.datasources.csv.CSVFileFormat')\\\n",
    "  .option('header', 'true')\\\n",
    "  .load(cos.url('genome_tags.csv', 'cs340spring20184b12f92a8d204278af3959660617b691'))\n",
    "genome_tags.show()"
   ]
  },
  {
   "cell_type": "code",
   "execution_count": 21,
   "metadata": {},
   "outputs": [
    {
     "name": "stdout",
     "output_type": "stream",
     "text": [
      "+-------+-----+-------------------+\n",
      "|movieId|tagId|          relevance|\n",
      "+-------+-----+-------------------+\n",
      "|      1|    1|              0.025|\n",
      "|      1|    2|              0.025|\n",
      "|      1|    3|            0.05775|\n",
      "|      1|    4|            0.09675|\n",
      "|      1|    5|            0.14675|\n",
      "|      1|    6|              0.217|\n",
      "|      1|    7|              0.067|\n",
      "|      1|    8|            0.26275|\n",
      "|      1|    9|              0.262|\n",
      "|      1|   10|              0.032|\n",
      "|      1|   11|              0.577|\n",
      "|      1|   12|            0.11625|\n",
      "|      1|   13|              0.188|\n",
      "|      1|   14|0.00800000000000001|\n",
      "|      1|   15|            0.03675|\n",
      "|      1|   16|            0.28175|\n",
      "|      1|   17|0.00700000000000001|\n",
      "|      1|   18|             0.1105|\n",
      "|      1|   19|             0.6705|\n",
      "|      1|   20|             0.1845|\n",
      "+-------+-----+-------------------+\n",
      "only showing top 20 rows\n",
      "\n"
     ]
    }
   ],
   "source": [
    "genome_scores = spark.read\\\n",
    "  .format('org.apache.spark.sql.execution.datasources.csv.CSVFileFormat')\\\n",
    "  .option('header', 'true')\\\n",
    "  .load(cos.url('genome_scores.csv', 'cs340spring20184b12f92a8d204278af3959660617b691'))\n",
    "genome_scores.show()"
   ]
  },
  {
   "cell_type": "code",
   "execution_count": 22,
   "metadata": {},
   "outputs": [
    {
     "name": "stdout",
     "output_type": "stream",
     "text": [
      "+------+-------+------+-------------------+\n",
      "|userId|movieId|rating|          timestamp|\n",
      "+------+-------+------+-------------------+\n",
      "|     1|      2|   3.5|2005-04-02 23:53:47|\n",
      "|     1|     29|   3.5|2005-04-02 23:31:16|\n",
      "|     1|     32|   3.5|2005-04-02 23:33:39|\n",
      "|     1|     47|   3.5|2005-04-02 23:32:07|\n",
      "|     1|     50|   3.5|2005-04-02 23:29:40|\n",
      "|     1|    112|   3.5|2004-09-10 03:09:00|\n",
      "|     1|    151|     4|2004-09-10 03:08:54|\n",
      "|     1|    223|     4|2005-04-02 23:46:13|\n",
      "|     1|    253|     4|2005-04-02 23:35:40|\n",
      "|     1|    260|     4|2005-04-02 23:33:46|\n",
      "|     1|    293|     4|2005-04-02 23:31:43|\n",
      "|     1|    296|     4|2005-04-02 23:32:47|\n",
      "|     1|    318|     4|2005-04-02 23:33:18|\n",
      "|     1|    337|   3.5|2004-09-10 03:08:29|\n",
      "|     1|    367|   3.5|2005-04-02 23:53:00|\n",
      "|     1|    541|     4|2005-04-02 23:30:03|\n",
      "|     1|    589|   3.5|2005-04-02 23:45:57|\n",
      "|     1|    593|   3.5|2005-04-02 23:31:01|\n",
      "|     1|    653|     3|2004-09-10 03:08:11|\n",
      "|     1|    919|   3.5|2004-09-10 03:07:01|\n",
      "+------+-------+------+-------------------+\n",
      "only showing top 20 rows\n",
      "\n"
     ]
    }
   ],
   "source": [
    "ratings = spark.read\\\n",
    "  .format('org.apache.spark.sql.execution.datasources.csv.CSVFileFormat')\\\n",
    "  .option('header', 'true')\\\n",
    "  .load(cos.url('rating.csv', 'cs340spring20184b12f92a8d204278af3959660617b691'))\n",
    "ratings.show()"
   ]
  },
  {
   "cell_type": "code",
   "execution_count": 23,
   "metadata": {},
   "outputs": [
    {
     "name": "stdout",
     "output_type": "stream",
     "text": [
      "+-------+--------------------+--------------------+\n",
      "|movieId|               title|              genres|\n",
      "+-------+--------------------+--------------------+\n",
      "|      1|    Toy Story (1995)|Adventure|Animati...|\n",
      "|      2|      Jumanji (1995)|Adventure|Childre...|\n",
      "|      3|Grumpier Old Men ...|      Comedy|Romance|\n",
      "|      4|Waiting to Exhale...|Comedy|Drama|Romance|\n",
      "|      5|Father of the Bri...|              Comedy|\n",
      "|      6|         Heat (1995)|Action|Crime|Thri...|\n",
      "|      7|      Sabrina (1995)|      Comedy|Romance|\n",
      "|      8| Tom and Huck (1995)|  Adventure|Children|\n",
      "|      9| Sudden Death (1995)|              Action|\n",
      "|     10|    GoldenEye (1995)|Action|Adventure|...|\n",
      "|     11|American Presiden...|Comedy|Drama|Romance|\n",
      "|     12|Dracula: Dead and...|       Comedy|Horror|\n",
      "|     13|        Balto (1995)|Adventure|Animati...|\n",
      "|     14|        Nixon (1995)|               Drama|\n",
      "|     15|Cutthroat Island ...|Action|Adventure|...|\n",
      "|     16|       Casino (1995)|         Crime|Drama|\n",
      "|     17|Sense and Sensibi...|       Drama|Romance|\n",
      "|     18|   Four Rooms (1995)|              Comedy|\n",
      "|     19|Ace Ventura: When...|              Comedy|\n",
      "|     20|  Money Train (1995)|Action|Comedy|Cri...|\n",
      "+-------+--------------------+--------------------+\n",
      "only showing top 20 rows\n",
      "\n"
     ]
    }
   ],
   "source": [
    "movies = spark.read\\\n",
    "  .format('org.apache.spark.sql.execution.datasources.csv.CSVFileFormat')\\\n",
    "  .option('header', 'true')\\\n",
    "  .load(cos.url('movie.csv', 'cs340spring20184b12f92a8d204278af3959660617b691'))\n",
    "movies.show()"
   ]
  },
  {
   "cell_type": "markdown",
   "metadata": {},
   "source": [
    "## Which \"User\" gave which \"Tag\" to which \"Movie\"?"
   ]
  },
  {
   "cell_type": "code",
   "execution_count": 24,
   "metadata": {},
   "outputs": [
    {
     "name": "stdout",
     "output_type": "stream",
     "text": [
      "+-----------------+------+-------+-------------------+-----+\n",
      "|              tag|userId|movieId|          timestamp|tagId|\n",
      "+-----------------+------+-------+-------------------+-----+\n",
      "|        dark hero|    65|    208|2013-05-10 01:41:18|  288|\n",
      "|        dark hero|    65|    353|2013-05-10 01:41:19|  288|\n",
      "|    noir thriller|    65|    521|2013-05-10 01:39:43|  712|\n",
      "|        dark hero|    65|    592|2013-05-10 01:41:18|  288|\n",
      "|        bollywood|    65|    668|2013-05-10 01:37:56|  149|\n",
      "| screwball comedy|    65|    898|2013-05-10 01:42:40|  894|\n",
      "|    noir thriller|    65|   1248|2013-05-10 01:39:43|  712|\n",
      "|             mars|    65|   1391|2013-05-10 01:40:55|  630|\n",
      "|         neo-noir|    65|   1617|2013-05-10 01:43:37|  700|\n",
      "|            jesus|    65|   1694|2013-05-10 01:38:45|  579|\n",
      "|    noir thriller|    65|   1783|2013-05-10 01:39:43|  712|\n",
      "|            jesus|    65|   2022|2013-05-10 01:38:45|  579|\n",
      "|           dragon|    65|   2193|2013-05-10 02:01:54|  321|\n",
      "|conspiracy theory|    65|   2353|2013-05-10 02:01:06|  252|\n",
      "|             mars|    65|   2662|2013-05-10 01:40:55|  630|\n",
      "|    noir thriller|    65|   2726|2013-05-10 01:39:43|  712|\n",
      "|            jesus|    65|   2840|2013-05-10 01:38:45|  579|\n",
      "|            jesus|    65|   3052|2013-05-10 01:38:46|  579|\n",
      "|        bollywood|    65|   5135|2013-05-10 01:37:56|  149|\n",
      "|         treasure|    65|   6539|2013-05-10 01:39:09| 1043|\n",
      "+-----------------+------+-------+-------------------+-----+\n",
      "only showing top 20 rows\n",
      "\n"
     ]
    }
   ],
   "source": [
    "user_tag_movie_joined = tags.join(genome_tags, on=\"tag\")\n",
    "user_tag_movie_joined.show()"
   ]
  },
  {
   "cell_type": "code",
   "execution_count": 25,
   "metadata": {},
   "outputs": [
    {
     "name": "stdout",
     "output_type": "stream",
     "text": [
      "+------+-----+-------+\n",
      "|userId|tagId|movieId|\n",
      "+------+-----+-------+\n",
      "|    65|  288|    208|\n",
      "|    65|  288|    353|\n",
      "|    65|  712|    521|\n",
      "|    65|  288|    592|\n",
      "|    65|  149|    668|\n",
      "|    65|  894|    898|\n",
      "|    65|  712|   1248|\n",
      "|    65|  630|   1391|\n",
      "|    65|  700|   1617|\n",
      "|    65|  579|   1694|\n",
      "|    65|  712|   1783|\n",
      "|    65|  579|   2022|\n",
      "|    65|  321|   2193|\n",
      "|    65|  252|   2353|\n",
      "|    65|  630|   2662|\n",
      "|    65|  712|   2726|\n",
      "|    65|  579|   2840|\n",
      "|    65|  579|   3052|\n",
      "|    65|  149|   5135|\n",
      "|    65| 1043|   6539|\n",
      "+------+-----+-------+\n",
      "only showing top 20 rows\n",
      "\n"
     ]
    }
   ],
   "source": [
    "user_tag_movie = user_tag_movie_joined.select([\"userId\",\"tagId\",\"movieId\"])\n",
    "user_tag_movie.show()"
   ]
  },
  {
   "cell_type": "markdown",
   "metadata": {},
   "source": [
    "## Let's ask every \"User\": How relevant is that \"tag\" for that \"movie\", ha?\n",
    "<img src='https://heidelblog.net/wp-content/uploads/2013/06/critic.jpg' />"
   ]
  },
  {
   "cell_type": "code",
   "execution_count": 26,
   "metadata": {},
   "outputs": [
    {
     "ename": "ValueError",
     "evalue": "Cannot convert column into bool: please use '&' for 'and', '|' for 'or', '~' for 'not' when building DataFrame boolean expressions.",
     "output_type": "error",
     "traceback": [
      "\u001b[0;31m---------------------------------------------------------------------------\u001b[0m",
      "\u001b[0;31mValueError\u001b[0m                                Traceback (most recent call last)",
      "\u001b[0;32m<ipython-input-26-6e292ac9ec37>\u001b[0m in \u001b[0;36m<module>\u001b[0;34m()\u001b[0m\n\u001b[0;32m----> 1\u001b[0;31m \u001b[0muser_tag_movie_relevance\u001b[0m \u001b[0;34m=\u001b[0m \u001b[0muser_tag_movie\u001b[0m\u001b[0;34m.\u001b[0m\u001b[0mjoin\u001b[0m\u001b[0;34m(\u001b[0m\u001b[0mgenome_scores\u001b[0m\u001b[0;34m,\u001b[0m \u001b[0;34m(\u001b[0m\u001b[0;34m(\u001b[0m\u001b[0muser_tag_movie\u001b[0m\u001b[0;34m.\u001b[0m\u001b[0mtagId\u001b[0m\u001b[0;34m==\u001b[0m\u001b[0mgenome_scores\u001b[0m\u001b[0;34m.\u001b[0m\u001b[0mtagId\u001b[0m\u001b[0;34m)\u001b[0m \u001b[0;32mand\u001b[0m \u001b[0;34m(\u001b[0m\u001b[0muser_tag_movie\u001b[0m\u001b[0;34m.\u001b[0m\u001b[0mmovieId\u001b[0m \u001b[0;34m==\u001b[0m \u001b[0mgenome_scores\u001b[0m\u001b[0;34m.\u001b[0m\u001b[0mmovieId\u001b[0m\u001b[0;34m)\u001b[0m\u001b[0;34m)\u001b[0m\u001b[0;34m)\u001b[0m\u001b[0;34m\u001b[0m\u001b[0m\n\u001b[0m\u001b[1;32m      2\u001b[0m \u001b[0muser_tag_movie_relevance\u001b[0m\u001b[0;34m.\u001b[0m\u001b[0mshow\u001b[0m\u001b[0;34m(\u001b[0m\u001b[0;34m)\u001b[0m\u001b[0;34m\u001b[0m\u001b[0m\n",
      "\u001b[0;32m/usr/local/src/spark21master/spark/python/pyspark/sql/column.py\u001b[0m in \u001b[0;36m__nonzero__\u001b[0;34m(self)\u001b[0m\n\u001b[1;32m    424\u001b[0m \u001b[0;34m\u001b[0m\u001b[0m\n\u001b[1;32m    425\u001b[0m     \u001b[0;32mdef\u001b[0m \u001b[0m__nonzero__\u001b[0m\u001b[0;34m(\u001b[0m\u001b[0mself\u001b[0m\u001b[0;34m)\u001b[0m\u001b[0;34m:\u001b[0m\u001b[0;34m\u001b[0m\u001b[0m\n\u001b[0;32m--> 426\u001b[0;31m         raise ValueError(\"Cannot convert column into bool: please use '&' for 'and', '|' for 'or', \"\n\u001b[0m\u001b[1;32m    427\u001b[0m                          \"'~' for 'not' when building DataFrame boolean expressions.\")\n\u001b[1;32m    428\u001b[0m     \u001b[0m__bool__\u001b[0m \u001b[0;34m=\u001b[0m \u001b[0m__nonzero__\u001b[0m\u001b[0;34m\u001b[0m\u001b[0m\n",
      "\u001b[0;31mValueError\u001b[0m: Cannot convert column into bool: please use '&' for 'and', '|' for 'or', '~' for 'not' when building DataFrame boolean expressions."
     ]
    }
   ],
   "source": [
    "user_tag_movie_relevance = user_tag_movie.join(genome_scores, ((user_tag_movie.tagId==genome_scores.tagId) and (user_tag_movie.movieId == genome_scores.movieId)))\n",
    "user_tag_movie_relevance.show()"
   ]
  },
  {
   "cell_type": "markdown",
   "metadata": {},
   "source": [
    "# I may look like Python, but ...\n",
    "# I am actually java"
   ]
  },
  {
   "cell_type": "code",
   "execution_count": 27,
   "metadata": {},
   "outputs": [
    {
     "name": "stdout",
     "output_type": "stream",
     "text": [
      "+------+-----+-------+-------+-----+---------+\n",
      "|userId|tagId|movieId|movieId|tagId|relevance|\n",
      "+------+-----+-------+-------+-----+---------+\n",
      "| 11074|    1|   2989|   2989|    1|  0.99975|\n",
      "| 56174|    1|   2989|   2989|    1|  0.99975|\n",
      "| 60710|    1|   2989|   2989|    1|  0.99975|\n",
      "| 86768|    1|   2989|   2989|    1|  0.99975|\n",
      "|105757|    1|   2989|   2989|    1|  0.99975|\n",
      "| 88738|   10|  27271|  27271|   10|   0.6955|\n",
      "|130827|   10|  27271|  27271|   10|   0.6955|\n",
      "| 59025| 1003|   2124|   2124| 1003|   0.3385|\n",
      "| 16724| 1007|  91094|  91094| 1007|  0.87125|\n",
      "| 88738| 1007|  91094|  91094| 1007|  0.87125|\n",
      "|  1587| 1013|   4878|   4878| 1013|  0.83225|\n",
      "|  4660| 1013|   4878|   4878| 1013|  0.83225|\n",
      "| 25737| 1013|   4878|   4878| 1013|  0.83225|\n",
      "| 27898| 1013|   4878|   4878| 1013|  0.83225|\n",
      "| 32541| 1013|   4878|   4878| 1013|  0.83225|\n",
      "| 57763| 1013|   4878|   4878| 1013|  0.83225|\n",
      "| 61843| 1013|   4878|   4878| 1013|  0.83225|\n",
      "| 83982| 1013|   4878|   4878| 1013|  0.83225|\n",
      "| 97195| 1013|   4878|   4878| 1013|  0.83225|\n",
      "|107711| 1013|   4878|   4878| 1013|  0.83225|\n",
      "+------+-----+-------+-------+-----+---------+\n",
      "only showing top 20 rows\n",
      "\n"
     ]
    }
   ],
   "source": [
    "user_tag_movie_relevance = user_tag_movie.join(genome_scores, ((user_tag_movie.tagId==genome_scores.tagId) & (user_tag_movie.movieId == genome_scores.movieId)))\n",
    "user_tag_movie_relevance.show()"
   ]
  },
  {
   "cell_type": "markdown",
   "metadata": {},
   "source": [
    "# Or..."
   ]
  },
  {
   "cell_type": "code",
   "execution_count": 28,
   "metadata": {},
   "outputs": [
    {
     "name": "stdout",
     "output_type": "stream",
     "text": [
      "+-----+-------+------+---------+\n",
      "|tagId|movieId|userId|relevance|\n",
      "+-----+-------+------+---------+\n",
      "|    1|   2989| 11074|  0.99975|\n",
      "|    1|   2989| 56174|  0.99975|\n",
      "|    1|   2989| 60710|  0.99975|\n",
      "|    1|   2989| 86768|  0.99975|\n",
      "|    1|   2989|105757|  0.99975|\n",
      "|   10|  27271| 88738|   0.6955|\n",
      "|   10|  27271|130827|   0.6955|\n",
      "| 1003|   2124| 59025|   0.3385|\n",
      "| 1007|  91094| 16724|  0.87125|\n",
      "| 1007|  91094| 88738|  0.87125|\n",
      "| 1013|   4878|  1587|  0.83225|\n",
      "| 1013|   4878|  4660|  0.83225|\n",
      "| 1013|   4878| 25737|  0.83225|\n",
      "| 1013|   4878| 27898|  0.83225|\n",
      "| 1013|   4878| 32541|  0.83225|\n",
      "| 1013|   4878| 57763|  0.83225|\n",
      "| 1013|   4878| 61843|  0.83225|\n",
      "| 1013|   4878| 83982|  0.83225|\n",
      "| 1013|   4878| 97195|  0.83225|\n",
      "| 1013|   4878|107711|  0.83225|\n",
      "+-----+-------+------+---------+\n",
      "only showing top 20 rows\n",
      "\n"
     ]
    }
   ],
   "source": [
    "user_tag_movie_relevance = user_tag_movie.join(genome_scores, on=[\"tagId\",\"movieId\"])\n",
    "user_tag_movie_relevance.show()"
   ]
  },
  {
   "cell_type": "markdown",
   "metadata": {},
   "source": [
    "# Remember this ...?\n",
    "### First multiply relevance with 20 and then substract 12 so relevance score range will be between -12 and 8 and then apply hyperbolic tangent. That way relevance's range will be between -1 and 1."
   ]
  },
  {
   "cell_type": "code",
   "execution_count": 29,
   "metadata": {},
   "outputs": [],
   "source": [
    "from pyspark.sql.functions import col, tanh"
   ]
  },
  {
   "cell_type": "code",
   "execution_count": 32,
   "metadata": {},
   "outputs": [
    {
     "name": "stdout",
     "output_type": "stream",
     "text": [
      "+------+-------------------+\n",
      "|userId|        reliability|\n",
      "+------+-------------------+\n",
      "| 11074| 0.9999997726676818|\n",
      "| 56174| 0.9999997726676818|\n",
      "| 60710| 0.9999997726676818|\n",
      "| 86768| 0.9999997726676818|\n",
      "|105757| 0.9999997726676818|\n",
      "| 88738|  0.957085420564793|\n",
      "|130827|  0.957085420564793|\n",
      "| 59025|-0.9999426811764384|\n",
      "| 16724| 0.9999611915372831|\n",
      "| 88738| 0.9999611915372831|\n",
      "|  1587| 0.9998153309323468|\n",
      "|  4660| 0.9998153309323468|\n",
      "| 25737| 0.9998153309323468|\n",
      "| 27898| 0.9998153309323468|\n",
      "| 32541| 0.9998153309323468|\n",
      "| 57763| 0.9998153309323468|\n",
      "| 61843| 0.9998153309323468|\n",
      "| 83982| 0.9998153309323468|\n",
      "| 97195| 0.9998153309323468|\n",
      "|107711| 0.9998153309323468|\n",
      "+------+-------------------+\n",
      "only showing top 20 rows\n",
      "\n"
     ]
    }
   ],
   "source": [
    "users_reliability_flat = user_tag_movie_relevance.withColumn(\"reliability\", tanh(user_tag_movie_relevance.relevance*20-12))\\\n",
    "                                            .select([\"userId\",\"reliability\"])\n",
    "users_reliability_flat.show()"
   ]
  },
  {
   "cell_type": "code",
   "execution_count": 33,
   "metadata": {},
   "outputs": [
    {
     "data": {
      "text/plain": [
       "206153"
      ]
     },
     "execution_count": 33,
     "metadata": {},
     "output_type": "execute_result"
    }
   ],
   "source": [
    "users_reliability_flat.count()"
   ]
  },
  {
   "cell_type": "code",
   "execution_count": 34,
   "metadata": {},
   "outputs": [
    {
     "name": "stdout",
     "output_type": "stream",
     "text": [
      "+------+--------------------+\n",
      "|userId|    avg(reliability)|\n",
      "+------+--------------------+\n",
      "|111982|  0.5690469165024034|\n",
      "| 80258|  0.9567662048431939|\n",
      "| 49307|  0.9999462608511014|\n",
      "| 92072|  0.7472656429959093|\n",
      "| 79849|  0.9999971730256131|\n",
      "| 89274|0.030434008661444568|\n",
      "| 11563|  0.6247823679141723|\n",
      "|119625|  0.7275098901796045|\n",
      "|  6731|  0.9999996505317048|\n",
      "| 70170|  0.6410873409222123|\n",
      "|112480|  0.9999814358015412|\n",
      "| 59370|  0.8275657303574266|\n",
      "| 54798|  0.5630558543678916|\n",
      "| 23918|  0.9999066771110212|\n",
      "| 56525|  0.9979402195807233|\n",
      "| 60733|  0.6665034028246085|\n",
      "|128566|  0.9999995774056201|\n",
      "| 39581|  0.3594432427158843|\n",
      "| 79757|  0.9999987745652463|\n",
      "|129005| 0.24929532350910683|\n",
      "+------+--------------------+\n",
      "only showing top 20 rows\n",
      "\n"
     ]
    }
   ],
   "source": [
    "users_reliability = users_reliability_flat.groupBy(\"userId\").avg()\n",
    "users_reliability.show()"
   ]
  },
  {
   "cell_type": "code",
   "execution_count": 35,
   "metadata": {},
   "outputs": [
    {
     "data": {
      "text/plain": [
       "5419"
      ]
     },
     "execution_count": 35,
     "metadata": {},
     "output_type": "execute_result"
    }
   ],
   "source": [
    "users_reliability.count()"
   ]
  },
  {
   "cell_type": "markdown",
   "metadata": {},
   "source": [
    "# Don't forget to clean up!\n",
    "## 1) Check column names\n",
    "## 2) Sort"
   ]
  },
  {
   "cell_type": "code",
   "execution_count": 37,
   "metadata": {},
   "outputs": [
    {
     "name": "stdout",
     "output_type": "stream",
     "text": [
      "+------+------------------+\n",
      "|userId|       reliability|\n",
      "+------+------------------+\n",
      "| 81949|0.9999997749296758|\n",
      "| 50441|0.9999997749296758|\n",
      "|136455|0.9999997726676818|\n",
      "|113642|0.9999997726676818|\n",
      "|119384|0.9999997726676818|\n",
      "| 23923|0.9999997726676818|\n",
      "| 68839|0.9999997726676818|\n",
      "|105357|0.9999997726676818|\n",
      "|136694|0.9999997726676818|\n",
      "| 20109| 0.999999772656315|\n",
      "| 52462|0.9999997712922528|\n",
      "| 30718|0.9999997703829543|\n",
      "| 75104|0.9999997703829543|\n",
      "|112350|0.9999997703829543|\n",
      "|126600|0.9999997703829543|\n",
      "| 62725|0.9999997703829543|\n",
      "| 36433|0.9999997703829543|\n",
      "| 73204|0.9999997703829543|\n",
      "| 68905|0.9999997680752648|\n",
      "|130819|0.9999997680752648|\n",
      "+------+------------------+\n",
      "only showing top 20 rows\n",
      "\n"
     ]
    }
   ],
   "source": [
    "from pyspark.sql.functions import desc\n",
    "\n",
    "users_reliability_sorted = users_reliability.select([\"userId\", col(\"avg(reliability)\").alias(\"reliability\")]).sort(desc(\"reliability\"))\n",
    "users_reliability_sorted.show()"
   ]
  },
  {
   "cell_type": "markdown",
   "metadata": {},
   "source": [
    "## 2) Best Movies\n",
    "\n",
    "<br>\n",
    "<p style=\"text-indent: 40px\">For the second part of this assignment, we are going to get best 20 movies from those 1000 people's scores. For each movie in the ratings, you should multiply rating with the users score that we previously calculated and get the total of this score for each movie.\n",
    "\n",
    "In the end we should be able to see the titles of the first 20 movies ranked by this criteria.\n",
    "</p>\n",
    "\n",
    "\n"
   ]
  },
  {
   "cell_type": "code",
   "execution_count": 38,
   "metadata": {},
   "outputs": [
    {
     "name": "stdout",
     "output_type": "stream",
     "text": [
      "+------+-------+------+-------------------+------------------+\n",
      "|userId|movieId|rating|          timestamp|       reliability|\n",
      "+------+-------+------+-------------------+------------------+\n",
      "|110629|    180|     5|2009-07-02 02:34:33|0.9999983033480123|\n",
      "|110629|    223|     5|2009-09-27 01:01:58|0.9999983033480123|\n",
      "|110629|    296|   4.5|2009-06-23 15:41:07|0.9999983033480123|\n",
      "|110629|    527|   4.5|2009-06-23 03:53:04|0.9999983033480123|\n",
      "|110629|    593|     5|2009-06-25 16:59:38|0.9999983033480123|\n",
      "|110629|    858|     5|2009-06-23 15:41:45|0.9999983033480123|\n",
      "|110629|    904|     5|2009-07-05 05:14:10|0.9999983033480123|\n",
      "|110629|    909|   4.5|2009-06-29 20:14:10|0.9999983033480123|\n",
      "|110629|   1089|     5|2009-06-23 15:41:11|0.9999983033480123|\n",
      "|110629|   1090|     5|2009-06-23 03:52:18|0.9999983033480123|\n",
      "|110629|   1193|   3.5|2009-06-25 12:13:24|0.9999983033480123|\n",
      "|110629|   1208|     4|2009-06-28 18:14:32|0.9999983033480123|\n",
      "|110629|   1213|   4.5|2009-06-23 21:36:14|0.9999983033480123|\n",
      "|110629|   1221|   4.5|2009-06-23 15:42:21|0.9999983033480123|\n",
      "|110629|   1222|     5|2009-06-23 15:41:03|0.9999983033480123|\n",
      "|110629|   1259|   4.5|2009-06-28 18:02:26|0.9999983033480123|\n",
      "|110629|   1270|   4.5|2009-06-27 23:34:24|0.9999983033480123|\n",
      "|110629|   1291|     5|2009-06-27 23:32:57|0.9999983033480123|\n",
      "|110629|   1476|   4.5|2009-06-23 03:48:33|0.9999983033480123|\n",
      "|110629|   1639|   4.5|2009-07-11 14:28:29|0.9999983033480123|\n",
      "+------+-------+------+-------------------+------------------+\n",
      "only showing top 20 rows\n",
      "\n"
     ]
    }
   ],
   "source": [
    "users_reliability_ratings_movies = ratings.join(users_reliability_sorted, on=\"userId\")\n",
    "users_reliability_ratings_movies.show()"
   ]
  },
  {
   "cell_type": "code",
   "execution_count": 39,
   "metadata": {},
   "outputs": [
    {
     "name": "stdout",
     "output_type": "stream",
     "text": [
      "+-------+------------------+\n",
      "|movieId|   reliable rating|\n",
      "+-------+------------------+\n",
      "|    180| 4.999991516740062|\n",
      "|    223| 4.999991516740062|\n",
      "|    296| 4.499992365066055|\n",
      "|    527| 4.499992365066055|\n",
      "|    593| 4.999991516740062|\n",
      "|    858| 4.999991516740062|\n",
      "|    904| 4.999991516740062|\n",
      "|    909| 4.499992365066055|\n",
      "|   1089| 4.999991516740062|\n",
      "|   1090| 4.999991516740062|\n",
      "|   1193| 3.499994061718043|\n",
      "|   1208|3.9999932133920493|\n",
      "|   1213| 4.499992365066055|\n",
      "|   1221| 4.499992365066055|\n",
      "|   1222| 4.999991516740062|\n",
      "|   1259| 4.499992365066055|\n",
      "|   1270| 4.499992365066055|\n",
      "|   1291| 4.999991516740062|\n",
      "|   1476| 4.499992365066055|\n",
      "|   1639| 4.499992365066055|\n",
      "+-------+------------------+\n",
      "only showing top 20 rows\n",
      "\n"
     ]
    }
   ],
   "source": [
    "movieId_reliableRating = users_reliability_ratings_movies.withColumn(\"reliable rating\", col(\"rating\")*col(\"reliability\"))\\\n",
    "                                                         .select([\"movieId\", \"reliable rating\"])\n",
    "movieId_reliableRating.show()"
   ]
  },
  {
   "cell_type": "markdown",
   "metadata": {},
   "source": [
    "# Let's get the top 20 movies"
   ]
  },
  {
   "cell_type": "code",
   "execution_count": 41,
   "metadata": {},
   "outputs": [
    {
     "name": "stdout",
     "output_type": "stream",
     "text": [
      "+--------------------+------------------+\n",
      "|               title|   reliable rating|\n",
      "+--------------------+------------------+\n",
      "|     Mallrats (1995)| 4.999991516740062|\n",
      "|       Clerks (1994)| 4.999991516740062|\n",
      "| Pulp Fiction (1994)| 4.499992365066055|\n",
      "|Schindler's List ...| 4.499992365066055|\n",
      "|Silence of the La...| 4.999991516740062|\n",
      "|Godfather, The (1...| 4.999991516740062|\n",
      "|  Rear Window (1954)| 4.999991516740062|\n",
      "|Apartment, The (1...| 4.499992365066055|\n",
      "|Reservoir Dogs (1...| 4.999991516740062|\n",
      "|      Platoon (1986)| 4.999991516740062|\n",
      "|One Flew Over the...| 3.499994061718043|\n",
      "|Apocalypse Now (1...|3.9999932133920493|\n",
      "|   Goodfellas (1990)| 4.499992365066055|\n",
      "|Godfather: Part I...| 4.499992365066055|\n",
      "|Full Metal Jacket...| 4.999991516740062|\n",
      "|  Stand by Me (1986)| 4.499992365066055|\n",
      "|Back to the Futur...| 4.499992365066055|\n",
      "|Indiana Jones and...| 4.999991516740062|\n",
      "|Private Parts (1997)| 4.499992365066055|\n",
      "|  Chasing Amy (1997)| 4.499992365066055|\n",
      "+--------------------+------------------+\n",
      "only showing top 20 rows\n",
      "\n"
     ]
    }
   ],
   "source": [
    "movieTitle_reliableRating = movieId_reliableRating.join(movies, on=\"movieId\").select([\"title\",\"reliable rating\"])\n",
    "movieTitle_reliableRating.show()"
   ]
  },
  {
   "cell_type": "code",
   "execution_count": 42,
   "metadata": {},
   "outputs": [
    {
     "name": "stdout",
     "output_type": "stream",
     "text": [
      "+--------------------+-----------------+\n",
      "|               title|  reliable rating|\n",
      "+--------------------+-----------------+\n",
      "|Pan's Labyrinth (...|4.999998874648379|\n",
      "|Amelie (Fabuleux ...|4.999998874648379|\n",
      "|Love Actually (2003)|4.999998874648379|\n",
      "|    Happiness (1998)|4.999998874648379|\n",
      "|Ricky Gervais Liv...|4.999998874648379|\n",
      "|Usual Suspects, T...|4.999998874648379|\n",
      "|     Magnolia (1999)|4.999998874648379|\n",
      "|Fifth Element, Th...|4.999998874648379|\n",
      "|       Snatch (2000)|4.999998874648379|\n",
      "|Barbarian Invasio...|4.999998874648379|\n",
      "|Amores Perros (Lo...|4.999998874648379|\n",
      "|Kill Bill: Vol. 2...|4.999998874648379|\n",
      "|Ricky Gervais Liv...|4.999998874648379|\n",
      "|Kikujiro (Kikujir...|4.999998874648379|\n",
      "|Spirited Away (Se...|4.999998874648379|\n",
      "|Me and You and Ev...|4.999998874648379|\n",
      "|Usual Suspects, T...|4.999998874648379|\n",
      "|Lost in Translati...|4.999998874648379|\n",
      "| Pulp Fiction (1994)|4.999998874648379|\n",
      "|Gone with the Win...|4.999998863338409|\n",
      "+--------------------+-----------------+\n",
      "only showing top 20 rows\n",
      "\n"
     ]
    }
   ],
   "source": [
    "top_movies = movieTitle_reliableRating.sort(desc(\"reliable rating\"))\n",
    "top_movies.show()"
   ]
  },
  {
   "cell_type": "markdown",
   "metadata": {},
   "source": [
    "# Best movie!\n",
    "<img src='https://www.edgehill.ac.uk/events/files/2017/12/Pans-Labyrinth.jpg' />"
   ]
  },
  {
   "cell_type": "code",
   "execution_count": null,
   "metadata": {},
   "outputs": [],
   "source": []
  }
 ],
 "metadata": {
  "kernelspec": {
   "display_name": "Python 3.5 with Spark 2.1",
   "language": "python",
   "name": "python3-spark21"
  },
  "language_info": {
   "codemirror_mode": {
    "name": "ipython",
    "version": 3
   },
   "file_extension": ".py",
   "mimetype": "text/x-python",
   "name": "python",
   "nbconvert_exporter": "python",
   "pygments_lexer": "ipython3",
   "version": "3.5.4"
  }
 },
 "nbformat": 4,
 "nbformat_minor": 1
}
