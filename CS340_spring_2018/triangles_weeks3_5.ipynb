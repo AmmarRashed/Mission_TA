{
 "cells": [
  {
   "cell_type": "markdown",
   "metadata": {},
   "source": [
    "<h1><center>Spark Context and basic MapReduce operations</center></h1>"
   ]
  },
  {
   "cell_type": "markdown",
   "metadata": {},
   "source": [
    "## We have a 100x100 board.\n",
    "### We throw 3 stones a Million times.\n",
    "<img src=\"misc/board.png\" width=\"200\">\n",
    "## Week 3: Reading files with SparkContext and Intro to Lambda Expressions\n",
    "### Given the XY position of each stone in the board <br> can we calculate how many of them forms a valid triangle?"
   ]
  },
  {
   "cell_type": "code",
   "execution_count": 1,
   "metadata": {},
   "outputs": [],
   "source": [
    "from pyspark import SparkContext"
   ]
  },
  {
   "cell_type": "code",
   "execution_count": 2,
   "metadata": {},
   "outputs": [],
   "source": [
    "sc = SparkContext.getOrCreate()"
   ]
  },
  {
   "cell_type": "markdown",
   "metadata": {},
   "source": [
    "### we take string lines"
   ]
  },
  {
   "cell_type": "code",
   "execution_count": 3,
   "metadata": {},
   "outputs": [
    {
     "data": {
      "text/plain": [
       "['13 27, 68 55, 12 62',\n",
       " '64 96, 91 62, 43 51',\n",
       " '28 44, 93 59, 68 4',\n",
       " '60 8, 87 65, 93 98',\n",
       " '4 65, 2 77, 18 85']"
      ]
     },
     "execution_count": 3,
     "metadata": {},
     "output_type": "execute_result"
    }
   ],
   "source": [
    "triangles = sc.textFile(\"data/triangles.csv\")\n",
    "triangles.take(5)"
   ]
  },
  {
   "cell_type": "markdown",
   "metadata": {},
   "source": [
    "<h1><center>Lambda Expressions</center> <img src=\"misc/lambda.jpg\" width=\"400\" align=\"middle\"/></h1>"
   ]
  },
  {
   "cell_type": "code",
   "execution_count": 4,
   "metadata": {},
   "outputs": [],
   "source": [
    "distance = lambda p1, p2: ((p1[0]-p2[0])**2 + (p1[1]-p2[1])**2)**0.5\n",
    "def sure_distance(p1, p2):\n",
    "    x1, y1 = p1 # (13, 27)\n",
    "    x2, y2 = p2 # (68, 55)\n",
    "    dist = ((x2 - x1)**2 + (y2- y1)**2)**0.5\n",
    "    return dist"
   ]
  },
  {
   "cell_type": "code",
   "execution_count": 5,
   "metadata": {},
   "outputs": [
    {
     "data": {
      "text/plain": [
       "5.0"
      ]
     },
     "execution_count": 5,
     "metadata": {},
     "output_type": "execute_result"
    }
   ],
   "source": [
    "distance((4,0), (0,3))\n",
    "sure_distance((4,0), (0,3))"
   ]
  },
  {
   "cell_type": "code",
   "execution_count": 6,
   "metadata": {},
   "outputs": [],
   "source": [
    "l = [(1,'z'), (2,'a')]"
   ]
  },
  {
   "cell_type": "code",
   "execution_count": 7,
   "metadata": {},
   "outputs": [
    {
     "data": {
      "text/plain": [
       "[(1, 'z'), (2, 'a')]"
      ]
     },
     "execution_count": 7,
     "metadata": {},
     "output_type": "execute_result"
    }
   ],
   "source": [
    "sorted(l)"
   ]
  },
  {
   "cell_type": "code",
   "execution_count": 8,
   "metadata": {},
   "outputs": [
    {
     "data": {
      "text/plain": [
       "[(2, 'a'), (1, 'z')]"
      ]
     },
     "execution_count": 8,
     "metadata": {},
     "output_type": "execute_result"
    }
   ],
   "source": [
    "sorted(l, key=lambda x: x[1])"
   ]
  },
  {
   "cell_type": "markdown",
   "metadata": {},
   "source": [
    "### Let's deal with each line alone"
   ]
  },
  {
   "cell_type": "code",
   "execution_count": 9,
   "metadata": {},
   "outputs": [
    {
     "data": {
      "text/plain": [
       "'13 27, 68 55, 12 62'"
      ]
     },
     "execution_count": 9,
     "metadata": {},
     "output_type": "execute_result"
    }
   ],
   "source": [
    "sample_line = triangles.take(1)[0]\n",
    "sample_line"
   ]
  },
  {
   "cell_type": "markdown",
   "metadata": {},
   "source": [
    "### 1) split the string line by comma ,"
   ]
  },
  {
   "cell_type": "code",
   "execution_count": 10,
   "metadata": {},
   "outputs": [
    {
     "data": {
      "text/plain": [
       "['13 27', ' 68 55', ' 12 62']"
      ]
     },
     "execution_count": 10,
     "metadata": {},
     "output_type": "execute_result"
    }
   ],
   "source": [
    "split_comma = lambda line: line.split(',')\n",
    "splitted_sample = split_comma(sample_line)\n",
    "splitted_sample"
   ]
  },
  {
   "cell_type": "markdown",
   "metadata": {},
   "source": [
    "### 2.1) Convert a string point to a tuple of integer x-y position\n",
    "#### PS. Tuples are your friends"
   ]
  },
  {
   "cell_type": "code",
   "execution_count": 35,
   "metadata": {},
   "outputs": [
    {
     "data": {
      "text/plain": [
       "(13, 27)"
      ]
     },
     "execution_count": 35,
     "metadata": {},
     "output_type": "execute_result"
    }
   ],
   "source": [
    "point_str2tuple = lambda point_str: tuple([int(ps) for ps in point_str.split()]) # this is just a substep\n",
    "point_str2tuple(splitted_sample[0])"
   ]
  },
  {
   "cell_type": "markdown",
   "metadata": {},
   "source": [
    "### 2.2) Take every string point in the list and convert it to x-y integer position"
   ]
  },
  {
   "cell_type": "code",
   "execution_count": 36,
   "metadata": {},
   "outputs": [
    {
     "data": {
      "text/plain": [
       "((13, 27), (68, 55), (12, 62))"
      ]
     },
     "execution_count": 36,
     "metadata": {},
     "output_type": "execute_result"
    }
   ],
   "source": [
    "splitted2points = lambda splitted_line: tuple([point_str2tuple(i) for i in splitted_line])\n",
    "sample_points = splitted2points(splitted_sample)\n",
    "sample_points"
   ]
  },
  {
   "cell_type": "markdown",
   "metadata": {},
   "source": [
    "### 3) Validate a triangle"
   ]
  },
  {
   "cell_type": "code",
   "execution_count": 37,
   "metadata": {},
   "outputs": [],
   "source": [
    "def isvalid_triangle(p1, p2, p3):\n",
    "    l1 = distance(p1, p2)\n",
    "    l2 = distance(p2, p3)\n",
    "    l3 = distance(p3, p1)\n",
    "    return l1+l2>l3 and l1+l3>l2 and l2+l3 > l1"
   ]
  },
  {
   "cell_type": "code",
   "execution_count": 38,
   "metadata": {},
   "outputs": [
    {
     "data": {
      "text/plain": [
       "True"
      ]
     },
     "execution_count": 38,
     "metadata": {},
     "output_type": "execute_result"
    }
   ],
   "source": [
    "points_valid_triangle = lambda points: isvalid_triangle(*points)\n",
    "points_valid_triangle(sample_points)"
   ]
  },
  {
   "cell_type": "markdown",
   "metadata": {},
   "source": [
    "### 4) Combine all previous steps in one function"
   ]
  },
  {
   "cell_type": "code",
   "execution_count": 39,
   "metadata": {},
   "outputs": [
    {
     "data": {
      "text/plain": [
       "True"
      ]
     },
     "execution_count": 39,
     "metadata": {},
     "output_type": "execute_result"
    }
   ],
   "source": [
    "line2valid = lambda line: points_valid_triangle(\n",
    "    splitted2points(\n",
    "        split_comma(line)))\n",
    "line2valid(sample_line)"
   ]
  },
  {
   "cell_type": "markdown",
   "metadata": {},
   "source": [
    "## Week 4: Map, Reduce and Filtering operations"
   ]
  },
  {
   "cell_type": "markdown",
   "metadata": {},
   "source": [
    "<h1><center>Map/Reduce</center></h1>\n",
    "<img src=\"misc/mapreduce.jpeg\" width=\"1000\">"
   ]
  },
  {
   "cell_type": "code",
   "execution_count": 40,
   "metadata": {},
   "outputs": [
    {
     "data": {
      "text/plain": [
       "[True, True, True, True, True]"
      ]
     },
     "execution_count": 40,
     "metadata": {},
     "output_type": "execute_result"
    }
   ],
   "source": [
    "validated_triangles = triangles.map(line2valid)\n",
    "validated_triangles.take(5)"
   ]
  },
  {
   "cell_type": "code",
   "execution_count": 41,
   "metadata": {},
   "outputs": [
    {
     "data": {
      "text/plain": [
       "999074"
      ]
     },
     "execution_count": 41,
     "metadata": {},
     "output_type": "execute_result"
    }
   ],
   "source": [
    "num_triangles = validated_triangles.reduce(lambda x,y: x+y)\n",
    "num_triangles"
   ]
  },
  {
   "cell_type": "markdown",
   "metadata": {},
   "source": [
    "![title](misc/oneline.jpg)"
   ]
  },
  {
   "cell_type": "code",
   "execution_count": 42,
   "metadata": {},
   "outputs": [
    {
     "data": {
      "text/plain": [
       "999074"
      ]
     },
     "execution_count": 42,
     "metadata": {},
     "output_type": "execute_result"
    }
   ],
   "source": [
    "num_triangles_short = triangles.map(lambda line:line.split(','))\\\n",
    "                                .map(lambda splitted_line: tuple([\n",
    "                                    tuple([int(ps) for ps in point_str.split()])\n",
    "                                        for point_str in splitted_line]))\\\n",
    "                                .map(lambda points: isvalid_triangle(*points))\\\n",
    "                                .reduce(lambda x, y: x+y)\n",
    "num_triangles_short"
   ]
  },
  {
   "cell_type": "markdown",
   "metadata": {},
   "source": [
    "## Filter: Choose only valid triangles"
   ]
  },
  {
   "cell_type": "code",
   "execution_count": 43,
   "metadata": {},
   "outputs": [
    {
     "data": {
      "text/plain": [
       "999074"
      ]
     },
     "execution_count": 43,
     "metadata": {},
     "output_type": "execute_result"
    }
   ],
   "source": [
    "valid_triangles = triangles.map(lambda line:line.split(','))\\\n",
    "                                .map(lambda splitted_line: tuple([\n",
    "                                    tuple([int(ps) for ps in point_str.split()])\n",
    "                                        for point_str in splitted_line]))\\\n",
    "                                .filter(lambda points: isvalid_triangle(*points))\n",
    "valid_triangles.count()"
   ]
  },
  {
   "cell_type": "markdown",
   "metadata": {},
   "source": [
    "## RDD as a Python dictionary?"
   ]
  },
  {
   "cell_type": "code",
   "execution_count": 53,
   "metadata": {},
   "outputs": [
    {
     "data": {
      "text/plain": [
       "[(-973281609, ((13, 27), (68, 55), (12, 62))),\n",
       " (-1943038625, ((64, 96), (91, 62), (43, 51))),\n",
       " (935403028, ((28, 44), (93, 59), (68, 4))),\n",
       " (555573573, ((60, 8), (87, 65), (93, 98))),\n",
       " (1402881299, ((4, 65), (2, 77), (18, 85)))]"
      ]
     },
     "execution_count": 53,
     "metadata": {},
     "output_type": "execute_result"
    }
   ],
   "source": [
    "triangles_id = valid_triangles.map(lambda x: (hash(tuple(x)), tuple(x)))\n",
    "triangles_id.take(5)"
   ]
  },
  {
   "cell_type": "code",
   "execution_count": 54,
   "metadata": {},
   "outputs": [
    {
     "data": {
      "text/plain": [
       "[(0, ((13, 27), (68, 55), (12, 62))),\n",
       " (2, ((64, 96), (91, 62), (43, 51))),\n",
       " (4, ((28, 44), (93, 59), (68, 4))),\n",
       " (6, ((60, 8), (87, 65), (93, 98))),\n",
       " (8, ((4, 65), (2, 77), (18, 85)))]"
      ]
     },
     "execution_count": 54,
     "metadata": {},
     "output_type": "execute_result"
    }
   ],
   "source": [
    "triangles_zip = valid_triangles.zipWithUniqueId()\\\n",
    "                                .map(lambda x: (x[1], x[0]))\n",
    "triangles_zip.take(5)"
   ]
  },
  {
   "cell_type": "markdown",
   "metadata": {},
   "source": [
    "### Let's record the circumference of each valid triangle"
   ]
  },
  {
   "cell_type": "code",
   "execution_count": 46,
   "metadata": {},
   "outputs": [],
   "source": [
    "def get_circumference(p1, p2, p3):  # if it is an attribute triangle.circumference, otherwise call it get_circumference(*triangle)\n",
    "    l1 = distance(p1, p2)\n",
    "    l2 = distance(p2, p3)\n",
    "    l3 = distance(p1, p3)\n",
    "    return l1 + l2 +l3"
   ]
  },
  {
   "cell_type": "code",
   "execution_count": 47,
   "metadata": {},
   "outputs": [
    {
     "data": {
      "text/plain": [
       "[(((13, 27), (68, 55), (12, 62)), 153.16718353495094),\n",
       " (((64, 96), (91, 62), (43, 51)), 142.3197117729059),\n",
       " (((28, 44), (93, 59), (68, 4)), 183.69209268352833),\n",
       " (((60, 8), (87, 65), (93, 98)), 192.4716796394055),\n",
       " (((4, 65), (2, 77), (18, 85)), 54.46718011206216)]"
      ]
     },
     "execution_count": 47,
     "metadata": {},
     "output_type": "execute_result"
    }
   ],
   "source": [
    "circumferences = valid_triangles.map(lambda points: (points, get_circumference(*points)))\n",
    "circumferences.take(5)"
   ]
  },
  {
   "cell_type": "markdown",
   "metadata": {},
   "source": [
    "## Sort triangles with their circumferences, top first"
   ]
  },
  {
   "cell_type": "code",
   "execution_count": 52,
   "metadata": {},
   "outputs": [
    {
     "data": {
      "text/plain": [
       "[(((95, 96), (1, 4), (97, 0)), 323.63359264863595),\n",
       " (((95, 96), (100, 1), (3, 97)), 323.6103632138558),\n",
       " (((91, 1), (100, 100), (1, 12)), 322.5355198617959),\n",
       " (((0, 5), (100, 2), (100, 91)), 320.938886629934),\n",
       " (((98, 97), (9, 0), (3, 94)), 320.88210920228073)]"
      ]
     },
     "execution_count": 52,
     "metadata": {},
     "output_type": "execute_result"
    }
   ],
   "source": [
    "sorted_triangles_circum = circumferences.sortBy(lambda triangle_circum: triangle_circum[1], ascending=False)\n",
    "sorted_triangles_circum.take(5)"
   ]
  },
  {
   "cell_type": "markdown",
   "metadata": {},
   "source": [
    "<img src=\"misc/hash.png\" width=\"200\" align=\"left\">\n",
    "<h1>\"Hashing is your friend\"</h1>\n",
    "<h2><center>Efficiency</center></h2>"
   ]
  },
  {
   "cell_type": "code",
   "execution_count": 55,
   "metadata": {},
   "outputs": [
    {
     "data": {
      "text/plain": [
       "[(-973281609, 153.16718353495094),\n",
       " (-1943038625, 142.3197117729059),\n",
       " (935403028, 183.69209268352833),\n",
       " (555573573, 192.4716796394055),\n",
       " (1402881299, 54.46718011206216)]"
      ]
     },
     "execution_count": 55,
     "metadata": {},
     "output_type": "execute_result"
    }
   ],
   "source": [
    "circumferences_hashed = valid_triangles.map(lambda points: (hash(points), get_circumference(*points)))\n",
    "circumferences_hashed.take(5)"
   ]
  },
  {
   "cell_type": "markdown",
   "metadata": {},
   "source": []
  }
 ],
 "metadata": {
  "kernelspec": {
   "display_name": "Python 3",
   "language": "python",
   "name": "python3"
  },
  "language_info": {
   "codemirror_mode": {
    "name": "ipython",
    "version": 3
   },
   "file_extension": ".py",
   "mimetype": "text/x-python",
   "name": "python",
   "nbconvert_exporter": "python",
   "pygments_lexer": "ipython3",
   "version": "3.6.3"
  }
 },
 "nbformat": 4,
 "nbformat_minor": 2
}
